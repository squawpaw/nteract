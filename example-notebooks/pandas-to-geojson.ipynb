{
 "nbformat_minor": 0,
 "cells": [
  {
   "cell_type": "markdown",
   "metadata": {},
   "source": [
    "# Convert a pandas dataframe to geojson for web-mapping\n",
    "\n",
    "Author: Geoff Boeing\n",
    "\nOriginal: [pandas-to-geojson](https://github.com/gboeing/urban-data-science/blob/dc86c9c89b73f87f97301883d7456f1f814589f5/17-Leaflet-Web-Mapping/pandas-to-geojson.ipynb)"
   ]
  },
  {
   "cell_type": "code",
   "execution_count": 1,
   "metadata": {
    "collapsed": false
   },
   "outputs": [],
   "source": [
    "import pandas as pd, requests, json"
   ]
  },
  {
   "cell_type": "markdown",
   "metadata": {},
   "source": [
    "First download data from the city of Berkeley's API. You can use Socrata's $limit parameter to specify how many rows to grab (otherwise the default is 1,000 rows of data): https://dev.socrata.com/docs/paging.html\n",
    "\nExample request: https://data.cityofberkeley.info/resource/k489-uv4i.json?$limit=5"
   ]
  },
  {
   "cell_type": "code",
   "execution_count": 2,
   "metadata": {
    "collapsed": true
   },
   "outputs": [],
   "source": [
    "# API endpoint for city of Berkeley's 311 calls\n",
    "endpoint_url = 'https://data.cityofberkeley.info/resource/k489-uv4i.json?$limit=2000'"
   ]
  },
  {
   "cell_type": "code",
   "execution_count": 3,
   "metadata": {
    "collapsed": true
   },
   "outputs": [],
   "source": [
    "# fetch the URL and load the data\n",
    "response = requests.get(endpoint_url)\n",
    "data = response.json()"
   ]
  },
  {
   "cell_type": "markdown",
   "metadata": {},
   "source": [
    "Next, turn the json data into a dataframe and clean it up a bit: drop unnecessary columns and any rows that lack lat-long data. We want to make our json file as small as possible (prefer under 5 mb) so that it can be loaded over the Internet to anyone viewing your map, without taking forever to download a huge file."
   ]
  },
  {
   "cell_type": "code",
   "execution_count": 4,
   "metadata": {
    "collapsed": false
   },
   "outputs": [
    {
     "name": "stdout",
     "output_type": "stream",
     "text": [
      "We have 2000 rows\n"
     ]
    },
    {
     "data": {
      "text/plain": [
       "\"['apn', 'city', 'indbdate', 'issue_description', 'issue_type', 'latitude', 'location', 'longitude', 'neighborhood_district', 'object_type', 'secondary_issue_type', 'state', 'street_address', 'ticket_closed_date_time', 'ticket_created_date_time', 'ticket_id', 'ticket_status']\""
      ]
     },
     "execution_count": 4,
     "metadata": {},
     "output_type": "execute_result",
     "text": []
    }
   ],
   "source": [
    "# turn the json data into a dataframe and see how many rows and what columns we have\n",
    "df = pd.DataFrame(data)\n",
    "\n",
    "print('We have {} rows'.format(len(df)))\n",
    "str(df.columns.tolist())"
   ]
  },
  {
   "cell_type": "code",
   "execution_count": 5,
   "metadata": {
    "collapsed": true
   },
   "outputs": [],
   "source": [
    "# convert lat-long to floats and change address from ALL CAPS to regular capitalization\n",
    "df['latitude'] = df['latitude'].astype(float)\n",
    "df['longitude'] = df['longitude'].astype(float)\n",
    "df['street_address'] = df['street_address'].str.title()"
   ]
  },
  {
   "cell_type": "code",
   "execution_count": 6,
   "metadata": {
    "collapsed": false
   },
   "outputs": [],
   "source": [
    "# we don't need all those columns - only keep useful ones\n",
    "cols = ['issue_description', 'issue_type', 'latitude', 'longitude', 'street_address', 'ticket_status']\n",
    "df_subset = df[cols]"
   ]
  },
  {
   "cell_type": "code",
   "execution_count": 7,
   "metadata": {
    "collapsed": false
   },
   "outputs": [
    {
     "name": "stdout",
     "output_type": "stream",
     "text": [
      "We have 967 geotagged rows\n"
     ]
    },
    {
     "data": {
      "text/html": [
       "<div>\n",
       "<table border=\"1\" class=\"dataframe\">\n",
       "  <thead>\n",
       "    <tr style=\"text-align: right;\">\n",
       "      <th></th>\n",
       "      <th>issue_description</th>\n",
       "      <th>issue_type</th>\n",
       "      <th>latitude</th>\n",
       "      <th>longitude</th>\n",
       "      <th>street_address</th>\n",
       "      <th>ticket_status</th>\n",
       "    </tr>\n",
       "  </thead>\n",
       "  <tbody>\n",
       "    <tr>\n",
       "      <th>1993</th>\n",
       "      <td>Residential Cart Size Increase</td>\n",
       "      <td>Refuse and Recycling</td>\n",
       "      <td>37.866091</td>\n",
       "      <td>-122.298005</td>\n",
       "      <td>2109 Fifth St</td>\n",
       "      <td>Closed</td>\n",
       "    </tr>\n",
       "    <tr>\n",
       "      <th>1995</th>\n",
       "      <td>Account Adjustment Research - Refuse and Recyc...</td>\n",
       "      <td>Refuse and Recycling</td>\n",
       "      <td>37.868537</td>\n",
       "      <td>-122.280343</td>\n",
       "      <td>2127 Spaulding Ave</td>\n",
       "      <td>Closed</td>\n",
       "    </tr>\n",
       "    <tr>\n",
       "      <th>1996</th>\n",
       "      <td>Cart Repair</td>\n",
       "      <td>Refuse and Recycling</td>\n",
       "      <td>37.856717</td>\n",
       "      <td>-122.279236</td>\n",
       "      <td>1508 Stuart St</td>\n",
       "      <td>Closed</td>\n",
       "    </tr>\n",
       "    <tr>\n",
       "      <th>1997</th>\n",
       "      <td>Commercial Site Inspection</td>\n",
       "      <td>Refuse and Recycling</td>\n",
       "      <td>37.872243</td>\n",
       "      <td>-122.272691</td>\n",
       "      <td>1929 M L King Jr Way</td>\n",
       "      <td>Closed</td>\n",
       "    </tr>\n",
       "    <tr>\n",
       "      <th>1999</th>\n",
       "      <td>Commercial Missed Pickup</td>\n",
       "      <td>Refuse and Recycling</td>\n",
       "      <td>37.879425</td>\n",
       "      <td>-122.296354</td>\n",
       "      <td>1050 Gilman St</td>\n",
       "      <td>Closed</td>\n",
       "    </tr>\n",
       "  </tbody>\n",
       "</table>\n",
       "</div>"
      ],
      "text/plain": [
       "                                      issue_description            issue_type  \\\n",
       "1993                     Residential Cart Size Increase  Refuse and Recycling   \n",
       "1995  Account Adjustment Research - Refuse and Recyc...  Refuse and Recycling   \n",
       "1996                                        Cart Repair  Refuse and Recycling   \n",
       "1997                         Commercial Site Inspection  Refuse and Recycling   \n",
       "1999                           Commercial Missed Pickup  Refuse and Recycling   \n",
       "\n",
       "       latitude   longitude        street_address ticket_status  \n",
       "1993  37.866091 -122.298005         2109 Fifth St        Closed  \n",
       "1995  37.868537 -122.280343    2127 Spaulding Ave        Closed  \n",
       "1996  37.856717 -122.279236        1508 Stuart St        Closed  \n",
       "1997  37.872243 -122.272691  1929 M L King Jr Way        Closed  \n",
       "1999  37.879425 -122.296354        1050 Gilman St        Closed  "
      ]
     },
     "execution_count": 7,
     "metadata": {},
     "output_type": "execute_result",
     "text": []
    }
   ],
   "source": [
    "# drop any rows that lack lat/long data\n",
    "df_geo = df_subset.dropna(subset=['latitude', 'longitude'], axis=0, inplace=False)\n",
    "\n",
    "print('We have {} geotagged rows'.format(len(df_geo)))\n",
    "df_geo.tail()"
   ]
  },
  {
   "cell_type": "code",
   "execution_count": 8,
   "metadata": {
    "collapsed": false
   },
   "outputs": [
    {
     "data": {
      "text/plain": [
       "Refuse and Recycling                            685\n",
       "Streets, Utilities, and Transportation          113\n",
       "General Questions/information                    88\n",
       "Parks, Trees and Vegetation                      42\n",
       "Business License                                 15\n",
       "Environmental Services and Programs               9\n",
       "Facilities, Electrical & Property Management      5\n",
       "Traffic and Transportation                        5\n",
       "Graffiti and Vandalism                            4\n",
       "Equipment Maintenance                             1\n",
       "Name: issue_type, dtype: int64"
      ]
     },
     "execution_count": 8,
     "metadata": {},
     "output_type": "execute_result",
     "text": []
    }
   ],
   "source": [
    "# what is the distribution of issue types?\n",
    "df_geo['issue_type'].value_counts()"
   ]
  },
  {
   "cell_type": "markdown",
   "metadata": {},
   "source": [
    "Finally, convert each row in the dataframe to a geojson-formatted feature and save the result as a file. The format is pretty simple and you can see it here: http://geojson.org/"
   ]
  },
  {
   "cell_type": "code",
   "execution_count": 9,
   "metadata": {
    "collapsed": false
   },
   "outputs": [],
   "source": [
    "def df_to_geojson(df, properties, lat='latitude', lon='longitude'):\n",
    "    # create a new python dict to contain our geojson data, using geojson format\n",
    "    geojson = {'type':'FeatureCollection', 'features':[]}\n",
    "\n",
    "    # loop through each row in the dataframe and convert each row to geojson format\n",
    "    for _, row in df.iterrows():\n",
    "        # create a feature template to fill in\n",
    "        feature = {'type':'Feature',\n",
    "                   'properties':{},\n",
    "                   'geometry':{'type':'Point',\n",
    "                               'coordinates':[]}}\n",
    "\n",
    "        # fill in the coordinates\n",
    "        feature['geometry']['coordinates'] = [row[lon],row[lat]]\n",
    "\n",
    "        # for each column, get the value and add it as a new feature property\n",
    "        for prop in properties:\n",
    "            feature['properties'][prop] = row[prop]\n",
    "        \n",
    "        # add this feature (aka, converted dataframe row) to the list of features inside our dict\n",
    "        geojson['features'].append(feature)\n",
    "    \n",
    "    return geojson"
   ]
  },
  {
   "cell_type": "code",
   "execution_count": 10,
   "metadata": {
    "collapsed": true
   },
   "outputs": [],
   "source": [
    "cols = ['street_address', 'issue_description', 'issue_type', 'ticket_status']\n",
    "geojson = df_to_geojson(df_geo, cols)"
   ]
  },
  {
   "cell_type": "markdown",
   "metadata": {},
   "source": [
    "In [nteract](https://github.com/nteract/nteract), we can display geojson directly with the built-in leaflet renderer."
   ]
  },
  {
   "cell_type": "code",
   "execution_count": 13,
   "metadata": {
    "collapsed": false
   },
   "outputs": [
    {
     "data": {
      "application/vnd.geo+json": {
       "features": [
        {
         "geometry": {
          "coordinates": [
           -122.28213222,
           37.8692043
          ],
          "type": "Point"
         },
         "properties": {
          "issue_description": "Sign Repair and Reinstallation",
          "issue_type": "Streets, Utilities, and Transportation",
          "street_address": "1492 Addison St",
          "ticket_status": "Closed"
         },
         "type": "Feature"
        },
        {
         "geometry": {
          "coordinates": [
           -122.25003523,
           37.89204957
          ],
          "type": "Point"
         },
         "properties": {
          "issue_description": "Residential Missed Pickup Integration",
          "issue_type": "Refuse and Recycling",
          "street_address": "1169 Park Hills Rd",
          "ticket_status": "Closed"
         },
         "type": "Feature"
        },
        {
         "geometry": {
          "coordinates": [
           -122.29298019,
           37.86161378
          ],
          "type": "Point"
         },
         "properties": {
          "issue_description": "Illegal Dumping - City Property",
          "issue_type": "Streets, Utilities, and Transportation",
          "street_address": "2417 Eighth St",
          "ticket_status": "Closed"
         },
         "type": "Feature"
        },
        {
         "geometry": {
          "coordinates": [
           -122.30484382,
           37.87810081
          ],
          "type": "Point"
         },
         "properties": {
          "issue_description": "Commercial Missed Pickup",
          "issue_type": "Refuse and Recycling",
          "street_address": "1306 Third St",
          "ticket_status": "Closed"
         },
         "type": "Feature"
        },
        {
         "geometry": {
          "coordinates": [
           -122.26244106,
           37.89941566
          ],
          "type": "Point"
         },
         "properties": {
          "issue_description": "Residential Site Inspection",
          "issue_type": "Refuse and Recycling",
          "street_address": "678 Woodmont Ave Vcant",
          "ticket_status": "Closed"
         },
         "type": "Feature"
        },
        {
         "geometry": {
          "coordinates": [
           -122.27210599,
           37.85115011
          ],
          "type": "Point"
         },
         "properties": {
          "issue_description": "Residential Service Start",
          "issue_type": "Refuse and Recycling",
          "street_address": "1816 Woolsey St",
          "ticket_status": "Closed"
         },
         "type": "Feature"
        },
        {
         "geometry": {
          "coordinates": [
           -122.25308987,
           37.86825007
          ],
          "type": "Point"
         },
         "properties": {
          "issue_description": "Illegal Dumping - City Property",
          "issue_type": "Streets, Utilities, and Transportation",
          "street_address": "2728 Durant Ave",
          "ticket_status": "Closed"
         },
         "type": "Feature"
        },
        {
         "geometry": {
          "coordinates": [
           -122.26538685,
           37.89803891
          ],
          "type": "Point"
         },
         "properties": {
          "issue_description": "Residential Missed Pickup Integration",
          "issue_type": "Refuse and Recycling",
          "street_address": "175 Poplar St",
          "ticket_status": "Closed"
         },
         "type": "Feature"
        },
        {
         "geometry": {
          "coordinates": [
           -122.27382411,
           37.90294968
          ],
          "type": "Point"
         },
         "properties": {
          "issue_description": "Residential Cart Size Increase",
          "issue_type": "Refuse and Recycling",
          "street_address": "401 Michigan Ave",
          "ticket_status": "Closed"
         },
         "type": "Feature"
        },
        {
         "geometry": {
          "coordinates": [
           -122.27180676,
           37.87292703
          ],
          "type": "Point"
         },
         "properties": {
          "issue_description": "Commercial Reminder",
          "issue_type": "Refuse and Recycling",
          "street_address": "1915 Bonita Ave",
          "ticket_status": "Closed"
         },
         "type": "Feature"
        },
        {
         "geometry": {
          "coordinates": [
           -122.29171831,
           37.86294942
          ],
          "type": "Point"
         },
         "properties": {
          "issue_description": "Commercial Service Day Change",
          "issue_type": "Refuse and Recycling",
          "street_address": "2334 Tenth St",
          "ticket_status": "Closed"
         },
         "type": "Feature"
        },
        {
         "geometry": {
          "coordinates": [
           -122.2757988,
           37.86898999
          ],
          "type": "Point"
         },
         "properties": {
          "issue_description": "Residential Reminder",
          "issue_type": "Refuse and Recycling",
          "street_address": "2131 Roosevelt Ave",
          "ticket_status": "Closed"
         },
         "type": "Feature"
        },
        {
         "geometry": {
          "coordinates": [
           -122.26489915,
           37.85275875
          ],
          "type": "Point"
         },
         "properties": {
          "issue_description": "Stray Cart Removal",
          "issue_type": "Refuse and Recycling",
          "street_address": "2127 Woolsey St",
          "ticket_status": "Closed"
         },
         "type": "Feature"
        },
        {
         "geometry": {
          "coordinates": [
           -122.26633402,
           37.89931433
          ],
          "type": "Point"
         },
         "properties": {
          "issue_description": "Cart Repair",
          "issue_type": "Refuse and Recycling",
          "street_address": "680 Hilldale Ave",
          "ticket_status": "Closed"
         },
         "type": "Feature"
        },
        {
         "geometry": {
          "coordinates": [
           -122.29485154,
           37.87528983
          ],
          "type": "Point"
         },
         "properties": {
          "issue_description": "Residential Missed Pickup Integration",
          "issue_type": "Refuse and Recycling",
          "street_address": "1037 Cedar St",
          "ticket_status": "Closed"
         },
         "type": "Feature"
        },
        {
         "geometry": {
          "coordinates": [
           -122.28605356,
           37.86092313
          ],
          "type": "Point"
         },
         "properties": {
          "issue_description": "Recycling - City of Berkeley",
          "issue_type": "Refuse and Recycling",
          "street_address": "1223 Blake St",
          "ticket_status": "Closed"
         },
         "type": "Feature"
        },
        {
         "geometry": {
          "coordinates": [
           -122.28494579,
           37.86464275
          ],
          "type": "Point"
         },
         "properties": {
          "issue_description": "Residential Missed Pickup",
          "issue_type": "Refuse and Recycling",
          "street_address": "2331 West St",
          "ticket_status": "Closed"
         },
         "type": "Feature"
        },
        {
         "geometry": {
          "coordinates": [
           -122.26982353,
           37.90395193
          ],
          "type": "Point"
         },
         "properties": {
          "issue_description": "Residential Cart Size Decrease",
          "issue_type": "Refuse and Recycling",
          "street_address": "424 Grizzly Peak Blvd",
          "ticket_status": "Closed"
         },
         "type": "Feature"
        },
        {
         "geometry": {
          "coordinates": [
           -122.26046798,
           37.87825381
          ],
          "type": "Point"
         },
         "properties": {
          "issue_description": "Residential Lost or Stolen Cart",
          "issue_type": "Refuse and Recycling",
          "street_address": "1675 Euclid Ave",
          "ticket_status": "Closed"
         },
         "type": "Feature"
        },
        {
         "geometry": {
          "coordinates": [
           -122.26838978,
           37.87520036
          ],
          "type": "Point"
         },
         "properties": {
          "issue_description": "Commercial Site Inspection",
          "issue_type": "Refuse and Recycling",
          "street_address": "1797 Shattuck Ave",
          "ticket_status": "Closed"
         },
         "type": "Feature"
        },
        {
         "geometry": {
          "coordinates": [
           -122.27199208,
           37.88688561
          ],
          "type": "Point"
         },
         "properties": {
          "issue_description": "Tree Removal",
          "issue_type": "Parks, Trees and Vegetation",
          "street_address": "1161 Sutter St",
          "ticket_status": "Closed"
         },
         "type": "Feature"
        },
        {
         "geometry": {
          "coordinates": [
           -122.26589291,
           37.86552329
          ],
          "type": "Point"
         },
         "properties": {
          "issue_description": "Miscellaneous Service Request",
          "issue_type": "General Questions/information",
          "street_address": "2404 Fulton St",
          "ticket_status": "Closed"
         },
         "type": "Feature"
        },
        {
         "geometry": {
          "coordinates": [
           -122.27881286,
           37.85400633
          ],
          "type": "Point"
         },
         "properties": {
          "issue_description": "Residential Cart Size Decrease",
          "issue_type": "Refuse and Recycling",
          "street_address": "1504 Julia St",
          "ticket_status": "Closed"
         },
         "type": "Feature"
        },
        {
         "geometry": {
          "coordinates": [
           -122.25166424,
           37.88258111
          ],
          "type": "Point"
         },
         "properties": {
          "issue_description": "Cart Repair",
          "issue_type": "Refuse and Recycling",
          "street_address": "1468 Olympus Ave",
          "ticket_status": "Closed"
         },
         "type": "Feature"
        },
        {
         "geometry": {
          "coordinates": [
           -122.28011788,
           37.86586124
          ],
          "type": "Point"
         },
         "properties": {
          "issue_description": "Residential Cart Size Decrease",
          "issue_type": "Refuse and Recycling",
          "street_address": "1530 Bancroft Way",
          "ticket_status": "Closed"
         },
         "type": "Feature"
        },
        {
         "geometry": {
          "coordinates": [
           -122.25480103,
           37.85960986
          ],
          "type": "Point"
         },
         "properties": {
          "issue_description": "Cart Repair",
          "issue_type": "Refuse and Recycling",
          "street_address": "2804 Benvenue Ave",
          "ticket_status": "Closed"
         },
         "type": "Feature"
        },
        {
         "geometry": {
          "coordinates": [
           -122.28910965,
           37.86581007
          ],
          "type": "Point"
         },
         "properties": {
          "issue_description": "Stray Cart Removal",
          "issue_type": "Refuse and Recycling",
          "street_address": "2218 Curtis St",
          "ticket_status": "Closed"
         },
         "type": "Feature"
        },
        {
         "geometry": {
          "coordinates": [
           -122.27299603,
           37.86019334
          ],
          "type": "Point"
         },
         "properties": {
          "issue_description": "Sidewalk Problem",
          "issue_type": "Streets, Utilities, and Transportation",
          "street_address": "1814 Carleton St",
          "ticket_status": "Closed"
         },
         "type": "Feature"
        },
        {
         "geometry": {
          "coordinates": [
           -122.27359438,
           37.87941902
          ],
          "type": "Point"
         },
         "properties": {
          "issue_description": "Residential Bulky Pickup",
          "issue_type": "Refuse and Recycling",
          "street_address": "1503 M L King Jr Way",
          "ticket_status": "Closed"
         },
         "type": "Feature"
        },
        {
         "geometry": {
          "coordinates": [
           -122.28272371,
           37.89425616
          ],
          "type": "Point"
         },
         "properties": {
          "issue_description": "Residential Missed Pickup Integration",
          "issue_type": "Refuse and Recycling",
          "street_address": "760 Vincente Ave",
          "ticket_status": "Closed"
         },
         "type": "Feature"
        },
        {
         "geometry": {
          "coordinates": [
           -122.26604595,
           37.86387306
          ],
          "type": "Point"
         },
         "properties": {
          "issue_description": "Commercial Customer Complaint",
          "issue_type": "Refuse and Recycling",
          "street_address": "2138 Dwight Way",
          "ticket_status": "Closed"
         },
         "type": "Feature"
        },
        {
         "geometry": {
          "coordinates": [
           -122.28217609,
           37.85280017
          ],
          "type": "Point"
         },
         "properties": {
          "issue_description": "Sewer Problem",
          "issue_type": "Streets, Utilities, and Transportation",
          "street_address": "1364 Ashby Ave",
          "ticket_status": "Closed"
         },
         "type": "Feature"
        },
        {
         "geometry": {
          "coordinates": [
           -122.29279919,
           37.869947
          ],
          "type": "Point"
         },
         "properties": {
          "issue_description": "Sewer Problem",
          "issue_type": "Streets, Utilities, and Transportation",
          "street_address": "1920 San Pablo Ave",
          "ticket_status": "Closed"
         },
         "type": "Feature"
        },
        {
         "geometry": {
          "coordinates": [
           -122.26322584,
           37.8647227
          ],
          "type": "Point"
         },
         "properties": {
          "issue_description": "Commercial Lost or Stolen Cart",
          "issue_type": "Refuse and Recycling",
          "street_address": "2247 Dwight Way",
          "ticket_status": "Closed"
         },
         "type": "Feature"
        },
        {
         "geometry": {
          "coordinates": [
           -122.26723939,
           37.86697336
          ],
          "type": "Point"
         },
         "properties": {
          "issue_description": "Illegal Dumping - City Property",
          "issue_type": "Streets, Utilities, and Transportation",
          "street_address": "2333 Shattuck Ave",
          "ticket_status": "Closed"
         },
         "type": "Feature"
        },
        {
         "geometry": {
          "coordinates": [
           -122.26971735,
           37.84868733
          ],
          "type": "Point"
         },
         "properties": {
          "issue_description": "Residential Lost or Stolen Cart",
          "issue_type": "Refuse and Recycling",
          "street_address": "1866 Alcatraz Ave",
          "ticket_status": "Closed"
         },
         "type": "Feature"
        },
        {
         "geometry": {
          "coordinates": [
           -122.26672102,
           37.88974572
          ],
          "type": "Point"
         },
         "properties": {
          "issue_description": "Residential Service Stop",
          "issue_type": "Refuse and Recycling",
          "street_address": "1049 Spruce St",
          "ticket_status": "Closed"
         },
         "type": "Feature"
        },
        {
         "geometry": {
          "coordinates": [
           -122.27132305,
           37.85041888
          ],
          "type": "Point"
         },
         "properties": {
          "issue_description": "Residential Site Inspection",
          "issue_type": "Refuse and Recycling",
          "street_address": "3200 Adeline St",
          "ticket_status": "Closed"
         },
         "type": "Feature"
        },
        {
         "geometry": {
          "coordinates": [
           -122.2489227,
           37.86001532
          ],
          "type": "Point"
         },
         "properties": {
          "issue_description": "Sidewalk Problem",
          "issue_type": "Streets, Utilities, and Transportation",
          "street_address": "2909 Avalon Ave",
          "ticket_status": "Closed"
         },
         "type": "Feature"
        },
        {
         "geometry": {
          "coordinates": [
           -122.2523701,
           37.85340615
          ],
          "type": "Point"
         },
         "properties": {
          "issue_description": "Sidewalk Problem",
          "issue_type": "Streets, Utilities, and Transportation",
          "street_address": "3109 College Ave A",
          "ticket_status": "Closed"
         },
         "type": "Feature"
        },
        {
         "geometry": {
          "coordinates": [
           -122.23572204,
           37.85501007
          ],
          "type": "Point"
         },
         "properties": {
          "issue_description": "Residential Cart Size Decrease",
          "issue_type": "Refuse and Recycling",
          "street_address": "51 Vicente Rd",
          "ticket_status": "Closed"
         },
         "type": "Feature"
        },
        {
         "geometry": {
          "coordinates": [
           -122.25963525,
           37.86469587
          ],
          "type": "Point"
         },
         "properties": {
          "issue_description": "Commercial Missed Pickup",
          "issue_type": "Refuse and Recycling",
          "street_address": "2420 Dwight Way",
          "ticket_status": "Closed"
         },
         "type": "Feature"
        },
        {
         "geometry": {
          "coordinates": [
           -122.26976643,
           37.84830763
          ],
          "type": "Point"
         },
         "properties": {
          "issue_description": "Residential Bulky Pickup",
          "issue_type": "Refuse and Recycling",
          "street_address": "1833 Sixty-Third St",
          "ticket_status": "Closed"
         },
         "type": "Feature"
        },
        {
         "geometry": {
          "coordinates": [
           -122.27138704,
           37.85380763
          ],
          "type": "Point"
         },
         "properties": {
          "issue_description": "Stray Cart Removal",
          "issue_type": "Refuse and Recycling",
          "street_address": "3010 M L King Jr Way",
          "ticket_status": "Closed"
         },
         "type": "Feature"
        },
        {
         "geometry": {
          "coordinates": [
           -122.28111874,
           37.89766509
          ],
          "type": "Point"
         },
         "properties": {
          "issue_description": "Residential Site Inspection",
          "issue_type": "Refuse and Recycling",
          "street_address": "1811 Thousand Oaks Blvd",
          "ticket_status": "Closed"
         },
         "type": "Feature"
        },
        {
         "geometry": {
          "coordinates": [
           -122.27031859,
           37.84998273
          ],
          "type": "Point"
         },
         "properties": {
          "issue_description": "Residential Bulky Pickup",
          "issue_type": "Refuse and Recycling",
          "street_address": "1883 Harmon St",
          "ticket_status": "Closed"
         },
         "type": "Feature"
        },
        {
         "geometry": {
          "coordinates": [
           -122.27075638,
           37.87922904
          ],
          "type": "Point"
         },
         "properties": {
          "issue_description": "Illegal Dumping - Internet Request",
          "issue_type": "Streets, Utilities, and Transportation",
          "street_address": "1522 Henry St",
          "ticket_status": "Closed"
         },
         "type": "Feature"
        },
        {
         "geometry": {
          "coordinates": [
           -122.27338274,
           37.89175639
          ],
          "type": "Point"
         },
         "properties": {
          "issue_description": "Residential Service Start",
          "issue_type": "Refuse and Recycling",
          "street_address": "915 Arlington Ave",
          "ticket_status": "Closed"
         },
         "type": "Feature"
        },
        {
         "geometry": {
          "coordinates": [
           -122.26901629,
           37.86995891
          ],
          "type": "Point"
         },
         "properties": {
          "issue_description": "Commercial Reminder",
          "issue_type": "Refuse and Recycling",
          "street_address": "2068 Center St",
          "ticket_status": "Closed"
         },
         "type": "Feature"
        },
        {
         "geometry": {
          "coordinates": [
           -122.26121128,
           37.86817275
          ],
          "type": "Point"
         },
         "properties": {
          "issue_description": "Miscellaneous Service Request",
          "issue_type": "General Questions/information",
          "street_address": "2400 Bancroft Way",
          "ticket_status": "Closed"
         },
         "type": "Feature"
        },
        {
         "geometry": {
          "coordinates": [
           -122.27693701,
           37.8992697
          ],
          "type": "Point"
         },
         "properties": {
          "issue_description": "Sewer Problem",
          "issue_type": "Streets, Utilities, and Transportation",
          "street_address": "611 Arlington Ave",
          "ticket_status": "Closed"
         },
         "type": "Feature"
        },
        {
         "geometry": {
          "coordinates": [
           -122.30304733,
           37.87562722
          ],
          "type": "Point"
         },
         "properties": {
          "issue_description": "Commercial Bin Size Increase",
          "issue_type": "Refuse and Recycling",
          "street_address": "1440 Fourth St A",
          "ticket_status": "Closed"
         },
         "type": "Feature"
        },
        {
         "geometry": {
          "coordinates": [
           -122.28513116,
           37.87925263
          ],
          "type": "Point"
         },
         "properties": {
          "issue_description": "Cart Repair",
          "issue_type": "Refuse and Recycling",
          "street_address": "1401 Ada St",
          "ticket_status": "Closed"
         },
         "type": "Feature"
        },
        {
         "geometry": {
          "coordinates": [
           -122.27147562,
           37.87140167
          ],
          "type": "Point"
         },
         "properties": {
          "issue_description": "Commercial Missed Pickup",
          "issue_type": "Refuse and Recycling",
          "street_address": "1960 University Ave",
          "ticket_status": "Closed"
         },
         "type": "Feature"
        },
        {
         "geometry": {
          "coordinates": [
           -122.29268829,
           37.88298343
          ],
          "type": "Point"
         },
         "properties": {
          "issue_description": "Broken Branch or Tree",
          "issue_type": "Parks, Trees and Vegetation",
          "street_address": "1201 Talbot Ave",
          "ticket_status": "Closed"
         },
         "type": "Feature"
        },
        {
         "geometry": {
          "coordinates": [
           -122.27237871,
           37.8635307
          ],
          "type": "Point"
         },
         "properties": {
          "issue_description": "Commercial Missed Pickup",
          "issue_type": "Refuse and Recycling",
          "street_address": "2486 M L King Jr Way",
          "ticket_status": "Closed"
         },
         "type": "Feature"
        },
        {
         "geometry": {
          "coordinates": [
           -122.28908223,
           37.87285719
          ],
          "type": "Point"
         },
         "properties": {
          "issue_description": "Illegal Dumping - City Property",
          "issue_type": "Streets, Utilities, and Transportation",
          "street_address": "1220 Francisco St",
          "ticket_status": "Closed"
         },
         "type": "Feature"
        },
        {
         "geometry": {
          "coordinates": [
           -122.27656928,
           37.8662344
          ],
          "type": "Point"
         },
         "properties": {
          "issue_description": "Cart Repair",
          "issue_type": "Refuse and Recycling",
          "street_address": "1706 Bancroft Way",
          "ticket_status": "Closed"
         },
         "type": "Feature"
        },
        {
         "geometry": {
          "coordinates": [
           -122.27804316,
           37.86895967
          ],
          "type": "Point"
         },
         "properties": {
          "issue_description": "Commercial Missed Pickup",
          "issue_type": "Refuse and Recycling",
          "street_address": "2125 Jefferson Ave",
          "ticket_status": "Closed"
         },
         "type": "Feature"
        },
        {
         "geometry": {
          "coordinates": [
           -122.25298113,
           37.85315236
          ],
          "type": "Point"
         },
         "properties": {
          "issue_description": "Miscellaneous Service Request",
          "issue_type": "General Questions/information",
          "street_address": "3118 College Ave",
          "ticket_status": "Closed"
         },
         "type": "Feature"
        },
        {
         "geometry": {
          "coordinates": [
           -122.27059692,
           37.87342503
          ],
          "type": "Point"
         },
         "properties": {
          "issue_description": "Commercial Lost or Stolen Cart",
          "issue_type": "Refuse and Recycling",
          "street_address": "2000 Hearst Ave",
          "ticket_status": "Closed"
         },
         "type": "Feature"
        },
        {
         "geometry": {
          "coordinates": [
           -122.26947074,
           37.86850203
          ],
          "type": "Point"
         },
         "properties": {
          "issue_description": "Commercial Customer Complaint",
          "issue_type": "Refuse and Recycling",
          "street_address": "2222 Harold Way",
          "ticket_status": "Closed"
         },
         "type": "Feature"
        },
        {
         "geometry": {
          "coordinates": [
           -122.2766821,
           37.8537247
          ],
          "type": "Point"
         },
         "properties": {
          "issue_description": "Stray Cart Removal",
          "issue_type": "Refuse and Recycling",
          "street_address": "1605 Ashby Ave",
          "ticket_status": "Closed"
         },
         "type": "Feature"
        },
        {
         "geometry": {
          "coordinates": [
           -122.26522739,
           37.8657459
          ],
          "type": "Point"
         },
         "properties": {
          "issue_description": "Commercial Special Pickup",
          "issue_type": "Refuse and Recycling",
          "street_address": "2405 Fulton St",
          "ticket_status": "Closed"
         },
         "type": "Feature"
        },
        {
         "geometry": {
          "coordinates": [
           -122.26686069,
           37.89887788
          ],
          "type": "Point"
         },
         "properties": {
          "issue_description": "Residential Cart Size Decrease",
          "issue_type": "Refuse and Recycling",
          "street_address": "694 Hilldale Ave",
          "ticket_status": "Closed"
         },
         "type": "Feature"
        },
        {
         "geometry": {
          "coordinates": [
           -122.29729034,
           37.86060351
          ],
          "type": "Point"
         },
         "properties": {
          "issue_description": "Commercial Lost or Stolen Cart",
          "issue_type": "Refuse and Recycling",
          "street_address": "2421 Fourth St",
          "ticket_status": "Closed"
         },
         "type": "Feature"
        },
        {
         "geometry": {
          "coordinates": [
           -122.27495631,
           37.86272395
          ],
          "type": "Point"
         },
         "properties": {
          "issue_description": "Residential Service Start",
          "issue_type": "Refuse and Recycling",
          "street_address": "1732 Dwight Way",
          "ticket_status": "Closed"
         },
         "type": "Feature"
        },
        {
         "geometry": {
          "coordinates": [
           -122.25103753,
           37.86344001
          ],
          "type": "Point"
         },
         "properties": {
          "issue_description": "Residential Bulky Pickup",
          "issue_type": "Refuse and Recycling",
          "street_address": "2627 Piedmont Ave",
          "ticket_status": "Closed"
         },
         "type": "Feature"
        },
        {
         "geometry": {
          "coordinates": [
           -122.29909926,
           37.88053294
          ],
          "type": "Point"
         },
         "properties": {
          "issue_description": "Commercial Site Inspection",
          "issue_type": "Refuse and Recycling",
          "street_address": "1223 Eighth St",
          "ticket_status": "Closed"
         },
         "type": "Feature"
        },
        {
         "geometry": {
          "coordinates": [
           -122.27303316,
           37.85540982
          ],
          "type": "Point"
         },
         "properties": {
          "issue_description": "Residential Cart Size Increase",
          "issue_type": "Refuse and Recycling",
          "street_address": "2909 Ellis St",
          "ticket_status": "Closed"
         },
         "type": "Feature"
        },
        {
         "geometry": {
          "coordinates": [
           -122.26222462,
           37.85560643
          ],
          "type": "Point"
         },
         "properties": {
          "issue_description": "Residential Site Inspection",
          "issue_type": "Refuse and Recycling",
          "street_address": "3001 Deakin St",
          "ticket_status": "Closed"
         },
         "type": "Feature"
        },
        {
         "geometry": {
          "coordinates": [
           -122.25826473,
           37.86674254
          ],
          "type": "Point"
         },
         "properties": {
          "issue_description": "Commercial Site Inspection",
          "issue_type": "Refuse and Recycling",
          "street_address": "2510 Channing Way",
          "ticket_status": "Closed"
         },
         "type": "Feature"
        },
        {
         "geometry": {
          "coordinates": [
           -122.28871654,
           37.86456556
          ],
          "type": "Point"
         },
         "properties": {
          "issue_description": "Illegal Dumping - City Property",
          "issue_type": "Streets, Utilities, and Transportation",
          "street_address": "2306 Curtis St",
          "ticket_status": "Closed"
         },
         "type": "Feature"
        },
        {
         "geometry": {
          "coordinates": [
           -122.26751197,
           37.88136294
          ],
          "type": "Point"
         },
         "properties": {
          "issue_description": "Street Lights - Repair",
          "issue_type": "Facilities, Electrical & Property Management",
          "street_address": "1426 Oxford St",
          "ticket_status": "Closed"
         },
         "type": "Feature"
        },
        {
         "geometry": {
          "coordinates": [
           -122.27724393,
           37.86652398
          ],
          "type": "Point"
         },
         "properties": {
          "issue_description": "Signage Repair and Replace",
          "issue_type": "Traffic and Transportation",
          "street_address": "2246 Mcgee Ave",
          "ticket_status": "Closed"
         },
         "type": "Feature"
        },
        {
         "geometry": {
          "coordinates": [
           -122.25826473,
           37.86674254
          ],
          "type": "Point"
         },
         "properties": {
          "issue_description": "Commercial Site Inspection",
          "issue_type": "Refuse and Recycling",
          "street_address": "2510 Channing Way",
          "ticket_status": "Closed"
         },
         "type": "Feature"
        },
        {
         "geometry": {
          "coordinates": [
           -122.26440623,
           37.88565071
          ],
          "type": "Point"
         },
         "properties": {
          "issue_description": "Miscellaneous Service Request",
          "issue_type": "General Questions/information",
          "street_address": "1218 Glen Ave",
          "ticket_status": "Closed"
         },
         "type": "Feature"
        },
        {
         "geometry": {
          "coordinates": [
           -122.27159547,
           37.85217333
          ],
          "type": "Point"
         },
         "properties": {
          "issue_description": "Residential Bulky Pickup",
          "issue_type": "Refuse and Recycling",
          "street_address": "1826 Prince St",
          "ticket_status": "Closed"
         },
         "type": "Feature"
        },
        {
         "geometry": {
          "coordinates": [
           -122.27216306,
           37.87758942
          ],
          "type": "Point"
         },
         "properties": {
          "issue_description": "Bin Repair",
          "issue_type": "Refuse and Recycling",
          "street_address": "1609 Bonita Ave",
          "ticket_status": "Closed"
         },
         "type": "Feature"
        },
        {
         "geometry": {
          "coordinates": [
           -122.29581285,
           37.87557331
          ],
          "type": "Point"
         },
         "properties": {
          "issue_description": "Residential Site Inspection",
          "issue_type": "Refuse and Recycling",
          "street_address": "1504 Tenth St",
          "ticket_status": "Closed"
         },
         "type": "Feature"
        },
        {
         "geometry": {
          "coordinates": [
           -122.2727192,
           37.87366564
          ],
          "type": "Point"
         },
         "properties": {
          "issue_description": "Graffiti Abatement - Traffic Maintenance",
          "issue_type": "Graffiti and Vandalism",
          "street_address": "1901 Hearst Ave",
          "ticket_status": "Closed"
         },
         "type": "Feature"
        },
        {
         "geometry": {
          "coordinates": [
           -122.24831441,
           37.86829787
          ],
          "type": "Point"
         },
         "properties": {
          "issue_description": "Residential Cart Size Increase",
          "issue_type": "Refuse and Recycling",
          "street_address": "64 Panoramic Way",
          "ticket_status": "Closed"
         },
         "type": "Feature"
        },
        {
         "geometry": {
          "coordinates": [
           -122.25655801,
           37.86876561
          ],
          "type": "Point"
         },
         "properties": {
          "issue_description": "Commercial Reminder",
          "issue_type": "Refuse and Recycling",
          "street_address": "2600 Bancroft Way",
          "ticket_status": "Closed"
         },
         "type": "Feature"
        },
        {
         "geometry": {
          "coordinates": [
           -122.27147562,
           37.87140167
          ],
          "type": "Point"
         },
         "properties": {
          "issue_description": "Commercial Missed Pickup",
          "issue_type": "Refuse and Recycling",
          "street_address": "1952 University Ave",
          "ticket_status": "Closed"
         },
         "type": "Feature"
        },
        {
         "geometry": {
          "coordinates": [
           -122.2817426,
           37.89782287
          ],
          "type": "Point"
         },
         "properties": {
          "issue_description": "Residential Service Start",
          "issue_type": "Refuse and Recycling",
          "street_address": "588 The Alameda",
          "ticket_status": "Closed"
         },
         "type": "Feature"
        },
        {
         "geometry": {
          "coordinates": [
           -122.27314048,
           37.89591633
          ],
          "type": "Point"
         },
         "properties": {
          "issue_description": "Tree Removal",
          "issue_type": "Parks, Trees and Vegetation",
          "street_address": "763 San Diego Rd",
          "ticket_status": "Closed"
         },
         "type": "Feature"
        },
        {
         "geometry": {
          "coordinates": [
           -122.28315123,
           37.89160332
          ],
          "type": "Point"
         },
         "properties": {
          "issue_description": "Residential Bulky Pickup",
          "issue_type": "Refuse and Recycling",
          "street_address": "1660 Tacoma Ave",
          "ticket_status": "Closed"
         },
         "type": "Feature"
        },
        {
         "geometry": {
          "coordinates": [
           -122.25525597,
           37.86209613
          ],
          "type": "Point"
         },
         "properties": {
          "issue_description": "Residential Lost or Stolen Cart",
          "issue_type": "Refuse and Recycling",
          "street_address": "2640 Benvenue Ave",
          "ticket_status": "Closed"
         },
         "type": "Feature"
        },
        {
         "geometry": {
          "coordinates": [
           -122.26774839,
           37.86276217
          ],
          "type": "Point"
         },
         "properties": {
          "issue_description": "RECO Application - EECGB Rebate",
          "issue_type": "Environmental Services and Programs",
          "street_address": "2550 Shattuck Ave",
          "ticket_status": "Closed"
         },
         "type": "Feature"
        },
        {
         "geometry": {
          "coordinates": [
           -122.2839915,
           37.85938709
          ],
          "type": "Point"
         },
         "properties": {
          "issue_description": "Tree Planting",
          "issue_type": "Parks, Trees and Vegetation",
          "street_address": "1321 Carleton St",
          "ticket_status": "Closed"
         },
         "type": "Feature"
        },
        {
         "geometry": {
          "coordinates": [
           -122.27653398,
           37.87131387
          ],
          "type": "Point"
         },
         "properties": {
          "issue_description": "Commercial Site Inspection",
          "issue_type": "Refuse and Recycling",
          "street_address": "1725 University Ave",
          "ticket_status": "Closed"
         },
         "type": "Feature"
        },
        {
         "geometry": {
          "coordinates": [
           -122.28245392,
           37.88536795
          ],
          "type": "Point"
         },
         "properties": {
          "issue_description": "Residential Missed Pickup Integration",
          "issue_type": "Refuse and Recycling",
          "street_address": "1543 Posen Ave",
          "ticket_status": "Closed"
         },
         "type": "Feature"
        },
        {
         "geometry": {
          "coordinates": [
           -122.25391498,
           37.86277317
          ],
          "type": "Point"
         },
         "properties": {
          "issue_description": "Residential Lost or Stolen Cart",
          "issue_type": "Refuse and Recycling",
          "street_address": "2620 College Ave",
          "ticket_status": "Closed"
         },
         "type": "Feature"
        },
        {
         "geometry": {
          "coordinates": [
           -122.2824519,
           37.85153604
          ],
          "type": "Point"
         },
         "properties": {
          "issue_description": "Residential Bulky Pickup",
          "issue_type": "Refuse and Recycling",
          "street_address": "1319 Haskell St",
          "ticket_status": "Closed"
         },
         "type": "Feature"
        },
        {
         "geometry": {
          "coordinates": [
           -122.29701333,
           37.87484553
          ],
          "type": "Point"
         },
         "properties": {
          "issue_description": "Miscellaneous Internet Request",
          "issue_type": "General Questions/information",
          "street_address": "999 Cedar St",
          "ticket_status": "Closed"
         },
         "type": "Feature"
        },
        {
         "geometry": {
          "coordinates": [
           -122.26808346,
           37.87192406
          ],
          "type": "Point"
         },
         "properties": {
          "issue_description": "Miscellaneous Service Request",
          "issue_type": "General Questions/information",
          "street_address": "21 Shattuck Sq",
          "ticket_status": "Closed"
         },
         "type": "Feature"
        },
        {
         "geometry": {
          "coordinates": [
           -122.28187155,
           37.87268582
          ],
          "type": "Point"
         },
         "properties": {
          "issue_description": "Miscellaneous Internet Request",
          "issue_type": "General Questions/information",
          "street_address": "1809 Sacramento St",
          "ticket_status": "Closed"
         },
         "type": "Feature"
        },
        {
         "geometry": {
          "coordinates": [
           -122.26426042,
           37.85534739
          ],
          "type": "Point"
         },
         "properties": {
          "issue_description": "Residential Service Start",
          "issue_type": "Refuse and Recycling",
          "street_address": "2152 Ashby Ave",
          "ticket_status": "Closed"
         },
         "type": "Feature"
        },
        {
         "geometry": {
          "coordinates": [
           -122.30304733,
           37.87562722
          ],
          "type": "Point"
         },
         "properties": {
          "issue_description": "Commercial Reminder",
          "issue_type": "Refuse and Recycling",
          "street_address": "1440 Fourth St A",
          "ticket_status": "Closed"
         },
         "type": "Feature"
        },
        {
         "geometry": {
          "coordinates": [
           -122.25938615,
           37.85466327
          ],
          "type": "Point"
         },
         "properties": {
          "issue_description": "Housing Inspection Request by Tenant",
          "issue_type": "Environmental Services and Programs",
          "street_address": "2407 Dowling Pl",
          "ticket_status": "Closed"
         },
         "type": "Feature"
        },
        {
         "geometry": {
          "coordinates": [
           -122.27051917,
           37.86198239
          ],
          "type": "Point"
         },
         "properties": {
          "issue_description": "Residential Customer Complaint",
          "issue_type": "Refuse and Recycling",
          "street_address": "1925 Parker St",
          "ticket_status": "Closed"
         },
         "type": "Feature"
        },
        {
         "geometry": {
          "coordinates": [
           -122.28031726,
           37.86202188
          ],
          "type": "Point"
         },
         "properties": {
          "issue_description": "Stray Cart Removal",
          "issue_type": "Refuse and Recycling",
          "street_address": "1520 Dwight Way",
          "ticket_status": "Closed"
         },
         "type": "Feature"
        },
        {
         "geometry": {
          "coordinates": [
           -122.28347832,
           37.89736777
          ],
          "type": "Point"
         },
         "properties": {
          "issue_description": "Residential Special Pickup",
          "issue_type": "Refuse and Recycling",
          "street_address": "1 Menlo Pl",
          "ticket_status": "Closed"
         },
         "type": "Feature"
        },
        {
         "geometry": {
          "coordinates": [
           -122.27707086,
           37.88082202
          ],
          "type": "Point"
         },
         "properties": {
          "issue_description": "Cart Repair",
          "issue_type": "Refuse and Recycling",
          "street_address": "1766 Rose St",
          "ticket_status": "Closed"
         },
         "type": "Feature"
        },
        {
         "geometry": {
          "coordinates": [
           -122.26878086,
           37.87307937
          ],
          "type": "Point"
         },
         "properties": {
          "issue_description": "Commercial Reminder",
          "issue_type": "Refuse and Recycling",
          "street_address": "2053 Berkeley Way",
          "ticket_status": "Closed"
         },
         "type": "Feature"
        },
        {
         "geometry": {
          "coordinates": [
           -122.2824658,
           37.8604831
          ],
          "type": "Point"
         },
         "properties": {
          "issue_description": "Residential Bulky Pickup",
          "issue_type": "Refuse and Recycling",
          "street_address": "1407 Parker St",
          "ticket_status": "Closed"
         },
         "type": "Feature"
        },
        {
         "geometry": {
          "coordinates": [
           -122.26534389,
           37.8928077
          ],
          "type": "Point"
         },
         "properties": {
          "issue_description": "Residential Lost or Stolen Cart",
          "issue_type": "Refuse and Recycling",
          "street_address": "972 Euclid Ave",
          "ticket_status": "Closed"
         },
         "type": "Feature"
        },
        {
         "geometry": {
          "coordinates": [
           -122.2798814,
           37.85609093
          ],
          "type": "Point"
         },
         "properties": {
          "issue_description": "Commercial Site Inspection",
          "issue_type": "Refuse and Recycling",
          "street_address": "2842 Sacramento St",
          "ticket_status": "Closed"
         },
         "type": "Feature"
        },
        {
         "geometry": {
          "coordinates": [
           -122.27252954,
           37.85458707
          ],
          "type": "Point"
         },
         "properties": {
          "issue_description": "Stray Cart Removal",
          "issue_type": "Refuse and Recycling",
          "street_address": "2936 Harper St",
          "ticket_status": "Closed"
         },
         "type": "Feature"
        },
        {
         "geometry": {
          "coordinates": [
           -122.2441284,
           37.85740803
          ],
          "type": "Point"
         },
         "properties": {
          "issue_description": "Residential Preferential Parking Research",
          "issue_type": "Traffic and Transportation",
          "street_address": "28 Domingo Ave",
          "ticket_status": "Closed"
         },
         "type": "Feature"
        },
        {
         "geometry": {
          "coordinates": [
           -122.28399131,
           37.85578673
          ],
          "type": "Point"
         },
         "properties": {
          "issue_description": "Parks Building Maintenance",
          "issue_type": "Parks, Trees and Vegetation",
          "street_address": "2800 Park St",
          "ticket_status": "Closed"
         },
         "type": "Feature"
        },
        {
         "geometry": {
          "coordinates": [
           -122.27500396,
           37.89131558
          ],
          "type": "Point"
         },
         "properties": {
          "issue_description": "Residential Bulky Pickup",
          "issue_type": "Refuse and Recycling",
          "street_address": "912 Mendocino Ave",
          "ticket_status": "Closed"
         },
         "type": "Feature"
        },
        {
         "geometry": {
          "coordinates": [
           -122.24071627,
           37.85727183
          ],
          "type": "Point"
         },
         "properties": {
          "issue_description": "Cart Repair",
          "issue_type": "Refuse and Recycling",
          "street_address": "55 Alvarado Rd",
          "ticket_status": "Closed"
         },
         "type": "Feature"
        },
        {
         "geometry": {
          "coordinates": [
           -122.28270928,
           37.8585842
          ],
          "type": "Point"
         },
         "properties": {
          "issue_description": "Stray Cart Removal",
          "issue_type": "Refuse and Recycling",
          "street_address": "1349 Derby St",
          "ticket_status": "Closed"
         },
         "type": "Feature"
        },
        {
         "geometry": {
          "coordinates": [
           -122.26998564,
           37.88262407
          ],
          "type": "Point"
         },
         "properties": {
          "issue_description": "Commercial Missed Pickup",
          "issue_type": "Refuse and Recycling",
          "street_address": "1332 Shattuck Ave",
          "ticket_status": "Closed"
         },
         "type": "Feature"
        },
        {
         "geometry": {
          "coordinates": [
           -122.27981513,
           37.84984816
          ],
          "type": "Point"
         },
         "properties": {
          "issue_description": "Miscellaneous Internet Request",
          "issue_type": "General Questions/information",
          "street_address": "1406 Sixty-Sixth St",
          "ticket_status": "Closed"
         },
         "type": "Feature"
        },
        {
         "geometry": {
          "coordinates": [
           -122.24975035,
           37.88772545
          ],
          "type": "Point"
         },
         "properties": {
          "issue_description": "Potholes",
          "issue_type": "Streets, Utilities, and Transportation",
          "street_address": "2 Ajax Pl 1000",
          "ticket_status": "Closed"
         },
         "type": "Feature"
        },
        {
         "geometry": {
          "coordinates": [
           -122.26951858,
           37.87809052
          ],
          "type": "Point"
         },
         "properties": {
          "issue_description": "Tree Pruning",
          "issue_type": "Parks, Trees and Vegetation",
          "street_address": "1600 Shattuck Ave",
          "ticket_status": "Closed"
         },
         "type": "Feature"
        },
        {
         "geometry": {
          "coordinates": [
           -122.29015349,
           37.86963616
          ],
          "type": "Point"
         },
         "properties": {
          "issue_description": "Commercial Missed Pickup",
          "issue_type": "Refuse and Recycling",
          "street_address": "1181 University Ave",
          "ticket_status": "Closed"
         },
         "type": "Feature"
        },
        {
         "geometry": {
          "coordinates": [
           -122.26279548,
           37.88401287
          ],
          "type": "Point"
         },
         "properties": {
          "issue_description": "Tree Pruning",
          "issue_type": "Parks, Trees and Vegetation",
          "street_address": "1314 Euclid Ave",
          "ticket_status": "Closed"
         },
         "type": "Feature"
        },
        {
         "geometry": {
          "coordinates": [
           -122.26597527,
           37.9021482
          ],
          "type": "Point"
         },
         "properties": {
          "issue_description": "Recycling - City of Berkeley",
          "issue_type": "Refuse and Recycling",
          "street_address": "572 Woodmont Ave",
          "ticket_status": "Closed"
         },
         "type": "Feature"
        },
        {
         "geometry": {
          "coordinates": [
           -122.28042827,
           37.84783058
          ],
          "type": "Point"
         },
         "properties": {
          "issue_description": "Residential Bulky Pickup",
          "issue_type": "Refuse and Recycling",
          "street_address": "1321 Alcatraz Ave",
          "ticket_status": "Closed"
         },
         "type": "Feature"
        },
        {
         "geometry": {
          "coordinates": [
           -122.27940438,
           37.84886357
          ],
          "type": "Point"
         },
         "properties": {
          "issue_description": "Residential Service Start",
          "issue_type": "Refuse and Recycling",
          "street_address": "1409 Harmon St",
          "ticket_status": "Closed"
         },
         "type": "Feature"
        },
        {
         "geometry": {
          "coordinates": [
           -122.28558908,
           37.8512583
          ],
          "type": "Point"
         },
         "properties": {
          "issue_description": "Residential Special Pickup",
          "issue_type": "Refuse and Recycling",
          "street_address": "1196 Carrison St",
          "ticket_status": "Closed"
         },
         "type": "Feature"
        },
        {
         "geometry": {
          "coordinates": [
           -122.26749397,
           37.87197652
          ],
          "type": "Point"
         },
         "properties": {
          "issue_description": "Commercial Cart Size Increase",
          "issue_type": "Refuse and Recycling",
          "street_address": "2015 Shattuck Ave",
          "ticket_status": "Closed"
         },
         "type": "Feature"
        },
        {
         "geometry": {
          "coordinates": [
           -122.24979791,
           37.8814988
          ],
          "type": "Point"
         },
         "properties": {
          "issue_description": "Tree Pruning",
          "issue_type": "Parks, Trees and Vegetation",
          "street_address": "1570 Olympus Ave",
          "ticket_status": "Closed"
         },
         "type": "Feature"
        },
        {
         "geometry": {
          "coordinates": [
           -122.28461908,
           37.89130103
          ],
          "type": "Point"
         },
         "properties": {
          "issue_description": "Payment Collection - Refuse and Recycling",
          "issue_type": "Refuse and Recycling",
          "street_address": "1597 Solano Ave",
          "ticket_status": "Closed"
         },
         "type": "Feature"
        },
        {
         "geometry": {
          "coordinates": [
           -122.2751675,
           37.87788537
          ],
          "type": "Point"
         },
         "properties": {
          "issue_description": "Residential Lost or Stolen Cart",
          "issue_type": "Refuse and Recycling",
          "street_address": "1811 Cedar St",
          "ticket_status": "Closed"
         },
         "type": "Feature"
        },
        {
         "geometry": {
          "coordinates": [
           -122.26337709,
           37.89932498
          ],
          "type": "Point"
         },
         "properties": {
          "issue_description": "Sidewalk Problem",
          "issue_type": "Streets, Utilities, and Transportation",
          "street_address": "744 Creston Rd",
          "ticket_status": "Closed"
         },
         "type": "Feature"
        },
        {
         "geometry": {
          "coordinates": [
           -122.29611334,
           37.87141678
          ],
          "type": "Point"
         },
         "properties": {
          "issue_description": "Illegal Dumping - City Property",
          "issue_type": "Streets, Utilities, and Transportation",
          "street_address": "929 Delaware St",
          "ticket_status": "Closed"
         },
         "type": "Feature"
        },
        {
         "geometry": {
          "coordinates": [
           -122.26892729,
           37.85382698
          ],
          "type": "Point"
         },
         "properties": {
          "issue_description": "Miscellaneous Service Request",
          "issue_type": "General Questions/information",
          "street_address": "3031 Adeline St",
          "ticket_status": "Closed"
         },
         "type": "Feature"
        },
        {
         "geometry": {
          "coordinates": [
           -122.28550834,
           37.87316849
          ],
          "type": "Point"
         },
         "properties": {
          "issue_description": "Illegal Dumping - City Property",
          "issue_type": "Streets, Utilities, and Transportation",
          "street_address": "1737 Franklin St",
          "ticket_status": "Closed"
         },
         "type": "Feature"
        },
        {
         "geometry": {
          "coordinates": [
           -122.28080408,
           37.88664464
          ],
          "type": "Point"
         },
         "properties": {
          "issue_description": "Residential Site Inspection",
          "issue_type": "Refuse and Recycling",
          "street_address": "1733 Sonoma Ave",
          "ticket_status": "Closed"
         },
         "type": "Feature"
        },
        {
         "geometry": {
          "coordinates": [
           -122.26794564,
           37.87085339
          ],
          "type": "Point"
         },
         "properties": {
          "issue_description": "Commercial Site Inspection",
          "issue_type": "Refuse and Recycling",
          "street_address": "127 Berkeley Sq",
          "ticket_status": "Closed"
         },
         "type": "Feature"
        },
        {
         "geometry": {
          "coordinates": [
           -122.26882134,
           37.87142258
          ],
          "type": "Point"
         },
         "properties": {
          "issue_description": "Commercial Lost or Stolen Cart",
          "issue_type": "Refuse and Recycling",
          "street_address": "2026 Shattuck Ave",
          "ticket_status": "Closed"
         },
         "type": "Feature"
        },
        {
         "geometry": {
          "coordinates": [
           -122.29512402,
           37.86614179
          ],
          "type": "Point"
         },
         "properties": {
          "issue_description": "Residential Site Inspection",
          "issue_type": "Refuse and Recycling",
          "street_address": "2120 Eighth St",
          "ticket_status": "Closed"
         },
         "type": "Feature"
        },
        {
         "geometry": {
          "coordinates": [
           -122.24315049,
           37.85833184
          ],
          "type": "Point"
         },
         "properties": {
          "issue_description": "Commercial Special Pickup",
          "issue_type": "Refuse and Recycling",
          "street_address": "1 Tunnel Rd",
          "ticket_status": "Closed"
         },
         "type": "Feature"
        },
        {
         "geometry": {
          "coordinates": [
           -122.28099176,
           37.89652586
          ],
          "type": "Point"
         },
         "properties": {
          "issue_description": "Residential Lost or Stolen Cart",
          "issue_type": "Refuse and Recycling",
          "street_address": "1816 Yosemite Rd",
          "ticket_status": "Closed"
         },
         "type": "Feature"
        },
        {
         "geometry": {
          "coordinates": [
           -122.29836418,
           37.86886879
          ],
          "type": "Point"
         },
         "properties": {
          "issue_description": "Commercial Reminder",
          "issue_type": "Refuse and Recycling",
          "street_address": "1900 Sixth St",
          "ticket_status": "Closed"
         },
         "type": "Feature"
        },
        {
         "geometry": {
          "coordinates": [
           -122.26143697,
           37.88300064
          ],
          "type": "Point"
         },
         "properties": {
          "issue_description": "Residential Bulky Pickup",
          "issue_type": "Refuse and Recycling",
          "street_address": "2500 Rose Walk",
          "ticket_status": "Closed"
         },
         "type": "Feature"
        },
        {
         "geometry": {
          "coordinates": [
           -122.27071815,
           37.88534673
          ],
          "type": "Point"
         },
         "properties": {
          "issue_description": "Sewer Problem",
          "issue_type": "Streets, Utilities, and Transportation",
          "street_address": "2030 Eunice St",
          "ticket_status": "Closed"
         },
         "type": "Feature"
        },
        {
         "geometry": {
          "coordinates": [
           -122.26710602,
           37.86607303
          ],
          "type": "Point"
         },
         "properties": {
          "issue_description": "Miscellaneous Internet Request",
          "issue_type": "General Questions/information",
          "street_address": "2107 Channing Way",
          "ticket_status": "Closed"
         },
         "type": "Feature"
        },
        {
         "geometry": {
          "coordinates": [
           -122.26749062,
           37.8771377
          ],
          "type": "Point"
         },
         "properties": {
          "issue_description": "Residential Lost or Stolen Cart",
          "issue_type": "Refuse and Recycling",
          "street_address": "1639 1/2 Walnut St",
          "ticket_status": "Closed"
         },
         "type": "Feature"
        },
        {
         "geometry": {
          "coordinates": [
           -122.30004534,
           37.87672676
          ],
          "type": "Point"
         },
         "properties": {
          "issue_description": "Residential Lost or Stolen Cart",
          "issue_type": "Refuse and Recycling",
          "street_address": "835 Page St",
          "ticket_status": "Closed"
         },
         "type": "Feature"
        },
        {
         "geometry": {
          "coordinates": [
           -122.26806837,
           37.87284049
          ],
          "type": "Point"
         },
         "properties": {
          "issue_description": "Commercial Service Start",
          "issue_type": "Refuse and Recycling",
          "street_address": "1971 Shattuck Ave",
          "ticket_status": "Closed"
         },
         "type": "Feature"
        },
        {
         "geometry": {
          "coordinates": [
           -122.27435571,
           37.8573237
          ],
          "type": "Point"
         },
         "properties": {
          "issue_description": "Illegal Dumping - City Property",
          "issue_type": "Streets, Utilities, and Transportation",
          "street_address": "1720 Stuart St",
          "ticket_status": "Closed"
         },
         "type": "Feature"
        },
        {
         "geometry": {
          "coordinates": [
           -122.25239135,
           37.86791911
          ],
          "type": "Point"
         },
         "properties": {
          "issue_description": "Commercial Service Day Change",
          "issue_type": "Refuse and Recycling",
          "street_address": "2739 Channing Way",
          "ticket_status": "Closed"
         },
         "type": "Feature"
        },
        {
         "geometry": {
          "coordinates": [
           -122.28385527,
           37.86499536
          ],
          "type": "Point"
         },
         "properties": {
          "issue_description": "Miscellaneous Internet Request",
          "issue_type": "General Questions/information",
          "street_address": "2308 Acton St",
          "ticket_status": "Closed"
         },
         "type": "Feature"
        },
        {
         "geometry": {
          "coordinates": [
           -122.2801628,
           37.87190159
          ],
          "type": "Point"
         },
         "properties": {
          "issue_description": "Commercial Reminder",
          "issue_type": "Refuse and Recycling",
          "street_address": "1908 California St",
          "ticket_status": "Closed"
         },
         "type": "Feature"
        },
        {
         "geometry": {
          "coordinates": [
           -122.26699426,
           37.89569867
          ],
          "type": "Point"
         },
         "properties": {
          "issue_description": "Potholes",
          "issue_type": "Streets, Utilities, and Transportation",
          "street_address": "21 Rock Ln",
          "ticket_status": "Closed"
         },
         "type": "Feature"
        },
        {
         "geometry": {
          "coordinates": [
           -122.28984218,
           37.86496291
          ],
          "type": "Point"
         },
         "properties": {
          "issue_description": "Residential Cart Size Increase",
          "issue_type": "Refuse and Recycling",
          "street_address": "2242 Byron St",
          "ticket_status": "Closed"
         },
         "type": "Feature"
        },
        {
         "geometry": {
          "coordinates": [
           -122.2684677,
           37.86976772
          ],
          "type": "Point"
         },
         "properties": {
          "issue_description": "Miscellaneous Service Request",
          "issue_type": "General Questions/information",
          "street_address": "2168 Shattuck Ave",
          "ticket_status": "Closed"
         },
         "type": "Feature"
        },
        {
         "geometry": {
          "coordinates": [
           -122.27184241,
           37.90048017
          ],
          "type": "Point"
         },
         "properties": {
          "issue_description": "Residential Missed Pickup Integration",
          "issue_type": "Refuse and Recycling",
          "street_address": "63 Northampton Ave",
          "ticket_status": "Closed"
         },
         "type": "Feature"
        },
        {
         "geometry": {
          "coordinates": [
           -122.26292186,
           37.88134398
          ],
          "type": "Point"
         },
         "properties": {
          "issue_description": "Residential Site Inspection",
          "issue_type": "Refuse and Recycling",
          "street_address": "1450 Hawthorne Ter",
          "ticket_status": "Closed"
         },
         "type": "Feature"
        },
        {
         "geometry": {
          "coordinates": [
           -122.24993448,
           37.85737672
          ],
          "type": "Point"
         },
         "properties": {
          "issue_description": "Roll Off Bin",
          "issue_type": "Refuse and Recycling",
          "street_address": "2932 Linden Ave",
          "ticket_status": "Closed"
         },
         "type": "Feature"
        },
        {
         "geometry": {
          "coordinates": [
           -122.25201629,
           37.8664879
          ],
          "type": "Point"
         },
         "properties": {
          "issue_description": "Commercial Missed Pickup",
          "issue_type": "Refuse and Recycling",
          "street_address": "2434 Piedmont Ave",
          "ticket_status": "Closed"
         },
         "type": "Feature"
        },
        {
         "geometry": {
          "coordinates": [
           -122.28198558,
           37.89169529
          ],
          "type": "Point"
         },
         "properties": {
          "issue_description": "Tree Pruning",
          "issue_type": "Parks, Trees and Vegetation",
          "street_address": "874 Ensenada Ave",
          "ticket_status": "Closed"
         },
         "type": "Feature"
        },
        {
         "geometry": {
          "coordinates": [
           -122.27967374,
           37.89466734
          ],
          "type": "Point"
         },
         "properties": {
          "issue_description": "Cart Repair",
          "issue_type": "Refuse and Recycling",
          "street_address": "1851 Capistrano Ave",
          "ticket_status": "Closed"
         },
         "type": "Feature"
        },
        {
         "geometry": {
          "coordinates": [
           -122.26250814,
           37.86022398
          ],
          "type": "Point"
         },
         "properties": {
          "issue_description": "Housing Inspection Request by Tenant",
          "issue_type": "Environmental Services and Programs",
          "street_address": "2245 Ward St",
          "ticket_status": "Closed"
         },
         "type": "Feature"
        },
        {
         "geometry": {
          "coordinates": [
           -122.2728099,
           37.90378294
          ],
          "type": "Point"
         },
         "properties": {
          "issue_description": "Residential Reminder",
          "issue_type": "Refuse and Recycling",
          "street_address": "416 Kentucky Ave",
          "ticket_status": "Open"
         },
         "type": "Feature"
        },
        {
         "geometry": {
          "coordinates": [
           -122.27262732,
           37.88680041
          ],
          "type": "Point"
         },
         "properties": {
          "issue_description": "Residential Customer Complaint",
          "issue_type": "Refuse and Recycling",
          "street_address": "1146 Sutter St",
          "ticket_status": "Closed"
         },
         "type": "Feature"
        },
        {
         "geometry": {
          "coordinates": [
           -122.28823738,
           37.85570023
          ],
          "type": "Point"
         },
         "properties": {
          "issue_description": "Miscellaneous Service Request",
          "issue_type": "General Questions/information",
          "street_address": "2808 San Pablo Ave",
          "ticket_status": "Closed"
         },
         "type": "Feature"
        },
        {
         "geometry": {
          "coordinates": [
           -122.28627668,
           37.87794739
          ],
          "type": "Point"
         },
         "properties": {
          "issue_description": "Cart Repair",
          "issue_type": "Refuse and Recycling",
          "street_address": "1379 Rose St",
          "ticket_status": "Closed"
         },
         "type": "Feature"
        },
        {
         "geometry": {
          "coordinates": [
           -122.30097258,
           37.88083095
          ],
          "type": "Point"
         },
         "properties": {
          "issue_description": "Commercial Special Pickup",
          "issue_type": "Refuse and Recycling",
          "street_address": "1210 Seventh St",
          "ticket_status": "Closed"
         },
         "type": "Feature"
        },
        {
         "geometry": {
          "coordinates": [
           -122.27123103,
           37.88130858
          ],
          "type": "Point"
         },
         "properties": {
          "issue_description": "Commercial Missed Pickup",
          "issue_type": "Refuse and Recycling",
          "street_address": "1406 Henry St",
          "ticket_status": "Closed"
         },
         "type": "Feature"
        },
        {
         "geometry": {
          "coordinates": [
           -122.26802373,
           37.88179924
          ],
          "type": "Point"
         },
         "properties": {
          "issue_description": "Residential Customer Complaint",
          "issue_type": "Refuse and Recycling",
          "street_address": "1411 Walnut St",
          "ticket_status": "Closed"
         },
         "type": "Feature"
        },
        {
         "geometry": {
          "coordinates": [
           -122.27371668,
           37.8762099
          ],
          "type": "Point"
         },
         "properties": {
          "issue_description": "Commercial Reminder",
          "issue_type": "Refuse and Recycling",
          "street_address": "1642 M L King Jr Way",
          "ticket_status": "Closed"
         },
         "type": "Feature"
        },
        {
         "geometry": {
          "coordinates": [
           -122.28958389,
           37.86607742
          ],
          "type": "Point"
         },
         "properties": {
          "issue_description": "Residential Site Inspection",
          "issue_type": "Refuse and Recycling",
          "street_address": "2213 Byron St",
          "ticket_status": "Closed"
         },
         "type": "Feature"
        },
        {
         "geometry": {
          "coordinates": [
           -122.30147486,
           37.87769298
          ],
          "type": "Point"
         },
         "properties": {
          "issue_description": "Cart Repair",
          "issue_type": "Refuse and Recycling",
          "street_address": "809 Camelia St",
          "ticket_status": "Closed"
         },
         "type": "Feature"
        },
        {
         "geometry": {
          "coordinates": [
           -122.28800732,
           37.87802087
          ],
          "type": "Point"
         },
         "properties": {
          "issue_description": "Residential Lost or Stolen Cart",
          "issue_type": "Refuse and Recycling",
          "street_address": "1308 Hopkins St",
          "ticket_status": "Closed"
         },
         "type": "Feature"
        },
        {
         "geometry": {
          "coordinates": [
           -122.29180475,
           37.84957594
          ],
          "type": "Point"
         },
         "properties": {
          "issue_description": "Commercial Reminder",
          "issue_type": "Refuse and Recycling",
          "street_address": "820 Folger Ave",
          "ticket_status": "Closed"
         },
         "type": "Feature"
        },
        {
         "geometry": {
          "coordinates": [
           -122.25105696,
           37.86767863
          ],
          "type": "Point"
         },
         "properties": {
          "issue_description": "Commercial Missed Pickup",
          "issue_type": "Refuse and Recycling",
          "street_address": "2400 Warring St",
          "ticket_status": "Closed"
         },
         "type": "Feature"
        },
        {
         "geometry": {
          "coordinates": [
           -122.27009074,
           37.87618225
          ],
          "type": "Point"
         },
         "properties": {
          "issue_description": "Residential Special Pickup",
          "issue_type": "Refuse and Recycling",
          "street_address": "2022 Virginia St",
          "ticket_status": "Closed"
         },
         "type": "Feature"
        },
        {
         "geometry": {
          "coordinates": [
           -122.27282719,
           37.87296805
          ],
          "type": "Point"
         },
         "properties": {
          "issue_description": "Commercial Site Inspection",
          "issue_type": "Refuse and Recycling",
          "street_address": "1911 M L King Jr Way",
          "ticket_status": "Closed"
         },
         "type": "Feature"
        },
        {
         "geometry": {
          "coordinates": [
           -122.30099567,
           37.87607391
          ],
          "type": "Point"
         },
         "properties": {
          "issue_description": "Illegal Dumping - City Property",
          "issue_type": "Streets, Utilities, and Transportation",
          "street_address": "812 Page St",
          "ticket_status": "Closed"
         },
         "type": "Feature"
        },
        {
         "geometry": {
          "coordinates": [
           -122.29005859,
           37.856285
          ],
          "type": "Point"
         },
         "properties": {
          "issue_description": "Illegal Dumping - City Property",
          "issue_type": "Streets, Utilities, and Transportation",
          "street_address": "2741 Ninth St",
          "ticket_status": "Closed"
         },
         "type": "Feature"
        },
        {
         "geometry": {
          "coordinates": [
           -122.26870508,
           37.87127211
          ],
          "type": "Point"
         },
         "properties": {
          "issue_description": "Commercial Customer Complaint",
          "issue_type": "Refuse and Recycling",
          "street_address": "2087 Addison St",
          "ticket_status": "Closed"
         },
         "type": "Feature"
        },
        {
         "geometry": {
          "coordinates": [
           -122.29042086,
           37.87104685
          ],
          "type": "Point"
         },
         "properties": {
          "issue_description": "Sewer Problem",
          "issue_type": "Streets, Utilities, and Transportation",
          "street_address": "1161 Hearst Ave",
          "ticket_status": "Closed"
         },
         "type": "Feature"
        },
        {
         "geometry": {
          "coordinates": [
           -122.29611334,
           37.87141678
          ],
          "type": "Point"
         },
         "properties": {
          "issue_description": "Residential Reminder",
          "issue_type": "Refuse and Recycling",
          "street_address": "929 Delaware St",
          "ticket_status": "Closed"
         },
         "type": "Feature"
        },
        {
         "geometry": {
          "coordinates": [
           -122.28398818,
           37.85762562
          ],
          "type": "Point"
         },
         "properties": {
          "issue_description": "Miscellaneous Internet Request",
          "issue_type": "General Questions/information",
          "street_address": "1311 Ward St",
          "ticket_status": "Closed"
         },
         "type": "Feature"
        },
        {
         "geometry": {
          "coordinates": [
           -122.24985199,
           37.86210532
          ],
          "type": "Point"
         },
         "properties": {
          "issue_description": "Residential Bulky Pickup",
          "issue_type": "Refuse and Recycling",
          "street_address": "2830 Derby St",
          "ticket_status": "Closed"
         },
         "type": "Feature"
        },
        {
         "geometry": {
          "coordinates": [
           -122.26864368,
           37.86883792
          ],
          "type": "Point"
         },
         "properties": {
          "issue_description": "Commercial Customer Complaint",
          "issue_type": "Refuse and Recycling",
          "street_address": "2060 Allston Way C",
          "ticket_status": "Closed"
         },
         "type": "Feature"
        },
        {
         "geometry": {
          "coordinates": [
           -122.25359936,
           37.868634
          ],
          "type": "Point"
         },
         "properties": {
          "issue_description": "Commercial Lost or Stolen Cart",
          "issue_type": "Refuse and Recycling",
          "street_address": "2723 Durant Ave",
          "ticket_status": "Closed"
         },
         "type": "Feature"
        },
        {
         "geometry": {
          "coordinates": [
           -122.26928502,
           37.90311694
          ],
          "type": "Point"
         },
         "properties": {
          "issue_description": "Cart Repair",
          "issue_type": "Refuse and Recycling",
          "street_address": "474 Grizzly Peak Blvd",
          "ticket_status": "Closed"
         },
         "type": "Feature"
        },
        {
         "geometry": {
          "coordinates": [
           -122.28765376,
           37.86383052
          ],
          "type": "Point"
         },
         "properties": {
          "issue_description": "Recycling - City of Berkeley",
          "issue_type": "Refuse and Recycling",
          "street_address": "2334 Browning St",
          "ticket_status": "Closed"
         },
         "type": "Feature"
        },
        {
         "geometry": {
          "coordinates": [
           -122.24229903,
           37.85725177
          ],
          "type": "Point"
         },
         "properties": {
          "issue_description": "Residential Site Inspection",
          "issue_type": "Refuse and Recycling",
          "street_address": "20 Oak Ridge Rd",
          "ticket_status": "Closed"
         },
         "type": "Feature"
        },
        {
         "geometry": {
          "coordinates": [
           -122.26571506,
           37.85338836
          ],
          "type": "Point"
         },
         "properties": {
          "issue_description": "Residential Bulky Pickup",
          "issue_type": "Refuse and Recycling",
          "street_address": "2107 Prince St",
          "ticket_status": "Closed"
         },
         "type": "Feature"
        },
        {
         "geometry": {
          "coordinates": [
           -122.26957427,
           37.86981781
          ],
          "type": "Point"
         },
         "properties": {
          "issue_description": "Commercial Site Inspection",
          "issue_type": "Refuse and Recycling",
          "street_address": "2048 Center St",
          "ticket_status": "Closed"
         },
         "type": "Feature"
        },
        {
         "geometry": {
          "coordinates": [
           -122.26372432,
           37.86012543
          ],
          "type": "Point"
         },
         "properties": {
          "issue_description": "Residential Customer Complaint",
          "issue_type": "Refuse and Recycling",
          "street_address": "2211 Ward St",
          "ticket_status": "Closed"
         },
         "type": "Feature"
        },
        {
         "geometry": {
          "coordinates": [
           -122.2653089,
           37.88048007
          ],
          "type": "Point"
         },
         "properties": {
          "issue_description": "Residential Customer Complaint",
          "issue_type": "Refuse and Recycling",
          "street_address": "2200 Vine St",
          "ticket_status": "Closed"
         },
         "type": "Feature"
        },
        {
         "geometry": {
          "coordinates": [
           -122.26398501,
           37.88882312
          ],
          "type": "Point"
         },
         "properties": {
          "issue_description": "Storm Problem",
          "issue_type": "Streets, Utilities, and Transportation",
          "street_address": "1107 High Ct",
          "ticket_status": "Closed"
         },
         "type": "Feature"
        },
        {
         "geometry": {
          "coordinates": [
           -122.29205505,
           37.86645067
          ],
          "type": "Point"
         },
         "properties": {
          "issue_description": "Residential Bulky Pickup",
          "issue_type": "Refuse and Recycling",
          "street_address": "1033 Allston Way",
          "ticket_status": "Closed"
         },
         "type": "Feature"
        },
        {
         "geometry": {
          "coordinates": [
           -122.27484371,
           37.84708433
          ],
          "type": "Point"
         },
         "properties": {
          "issue_description": "Sign Repair and Reinstallation",
          "issue_type": "Streets, Utilities, and Transportation",
          "street_address": "1614 Sixty-Third St",
          "ticket_status": "Closed"
         },
         "type": "Feature"
        },
        {
         "geometry": {
          "coordinates": [
           -122.28175525,
           37.86485973
          ],
          "type": "Point"
         },
         "properties": {
          "issue_description": "Residential Reminder",
          "issue_type": "Refuse and Recycling",
          "street_address": "2324 Sacramento St",
          "ticket_status": "Closed"
         },
         "type": "Feature"
        },
        {
         "geometry": {
          "coordinates": [
           -122.29006475,
           37.88296179
          ],
          "type": "Point"
         },
         "properties": {
          "issue_description": "Residential Missed Pickup Integration",
          "issue_type": "Refuse and Recycling",
          "street_address": "1205 Santa Fe Ave",
          "ticket_status": "Closed"
         },
         "type": "Feature"
        },
        {
         "geometry": {
          "coordinates": [
           -122.26867053,
           37.87173394
          ],
          "type": "Point"
         },
         "properties": {
          "issue_description": "Commercial Service Stop",
          "issue_type": "Refuse and Recycling",
          "street_address": "2012 Shattuck Ave",
          "ticket_status": "Closed"
         },
         "type": "Feature"
        },
        {
         "geometry": {
          "coordinates": [
           -122.26891629,
           37.87318649
          ],
          "type": "Point"
         },
         "properties": {
          "issue_description": "Commercial Customer Complaint",
          "issue_type": "Refuse and Recycling",
          "street_address": "1930 Shattuck Ave",
          "ticket_status": "Closed"
         },
         "type": "Feature"
        },
        {
         "geometry": {
          "coordinates": [
           -122.28574186,
           37.86006719
          ],
          "type": "Point"
         },
         "properties": {
          "issue_description": "Miscellaneous Internet Request",
          "issue_type": "General Questions/information",
          "street_address": "1227 Parker St",
          "ticket_status": "Closed"
         },
         "type": "Feature"
        },
        {
         "geometry": {
          "coordinates": [
           -122.28361805,
           37.87698669
          ],
          "type": "Point"
         },
         "properties": {
          "issue_description": "Residential Bulky Pickup",
          "issue_type": "Refuse and Recycling",
          "street_address": "1476 Keoncrest Dr",
          "ticket_status": "Closed"
         },
         "type": "Feature"
        },
        {
         "geometry": {
          "coordinates": [
           -122.25547353,
           37.86014559
          ],
          "type": "Point"
         },
         "properties": {
          "issue_description": "Stray Cart Removal",
          "issue_type": "Refuse and Recycling",
          "street_address": "2745 Hillegass Ave",
          "ticket_status": "Closed"
         },
         "type": "Feature"
        },
        {
         "geometry": {
          "coordinates": [
           -122.25205551,
           37.85466075
          ],
          "type": "Point"
         },
         "properties": {
          "issue_description": "Sewer Problem",
          "issue_type": "Streets, Utilities, and Transportation",
          "street_address": "2714 Prince St",
          "ticket_status": "Closed"
         },
         "type": "Feature"
        },
        {
         "geometry": {
          "coordinates": [
           -122.27062156,
           37.84913621
          ],
          "type": "Point"
         },
         "properties": {
          "issue_description": "Payment Collection - Refuse and Recycling",
          "issue_type": "Refuse and Recycling",
          "street_address": "3271 Adeline St",
          "ticket_status": "Closed"
         },
         "type": "Feature"
        },
        {
         "geometry": {
          "coordinates": [
           -122.2597944,
           37.86467843
          ],
          "type": "Point"
         },
         "properties": {
          "issue_description": "Residential Customer Complaint",
          "issue_type": "Refuse and Recycling",
          "street_address": "2418 Dwight Way",
          "ticket_status": "Closed"
         },
         "type": "Feature"
        },
        {
         "geometry": {
          "coordinates": [
           -122.25378665,
           37.86691379
          ],
          "type": "Point"
         },
         "properties": {
          "issue_description": "Sewer Problem",
          "issue_type": "Streets, Utilities, and Transportation",
          "street_address": "2415 College Ave",
          "ticket_status": "Closed"
         },
         "type": "Feature"
        },
        {
         "geometry": {
          "coordinates": [
           -122.2506319,
           37.86976599
          ],
          "type": "Point"
         },
         "properties": {
          "issue_description": "Commercial Lost or Stolen Cart",
          "issue_type": "Refuse and Recycling",
          "street_address": "2250 Prospect St",
          "ticket_status": "Closed"
         },
         "type": "Feature"
        },
        {
         "geometry": {
          "coordinates": [
           -122.28376031,
           37.85397396
          ],
          "type": "Point"
         },
         "properties": {
          "issue_description": "Account Adjustment Research - Refuse and Recycling",
          "issue_type": "Refuse and Recycling",
          "street_address": "1302 Russell St",
          "ticket_status": "Closed"
         },
         "type": "Feature"
        },
        {
         "geometry": {
          "coordinates": [
           -122.26602064,
           37.85401411
          ],
          "type": "Point"
         },
         "properties": {
          "issue_description": "Commercial Missed Pickup",
          "issue_type": "Refuse and Recycling",
          "street_address": "3033 Shattuck Ave",
          "ticket_status": "Closed"
         },
         "type": "Feature"
        },
        {
         "geometry": {
          "coordinates": [
           -122.27239039,
           37.84919333
          ],
          "type": "Point"
         },
         "properties": {
          "issue_description": "Sewer Problem",
          "issue_type": "Streets, Utilities, and Transportation",
          "street_address": "3233 Ellis St",
          "ticket_status": "Closed"
         },
         "type": "Feature"
        },
        {
         "geometry": {
          "coordinates": [
           -122.27164761,
           37.89826952
          ],
          "type": "Point"
         },
         "properties": {
          "issue_description": "Residential Site Inspection",
          "issue_type": "Refuse and Recycling",
          "street_address": "683 Santa Barbara Rd",
          "ticket_status": "Closed"
         },
         "type": "Feature"
        },
        {
         "geometry": {
          "coordinates": [
           -122.2733667,
           37.86960582
          ],
          "type": "Point"
         },
         "properties": {
          "issue_description": "Miscellaneous Service Request",
          "issue_type": "General Questions/information",
          "street_address": "2100 M L King Jr Way J",
          "ticket_status": "Closed"
         },
         "type": "Feature"
        },
        {
         "geometry": {
          "coordinates": [
           -122.27171364,
           37.88889306
          ],
          "type": "Point"
         },
         "properties": {
          "issue_description": "Cart Repair",
          "issue_type": "Refuse and Recycling",
          "street_address": "15 Terrace Walk",
          "ticket_status": "Closed"
         },
         "type": "Feature"
        },
        {
         "geometry": {
          "coordinates": [
           -122.26920716,
           37.88410411
          ],
          "type": "Point"
         },
         "properties": {
          "issue_description": "Miscellaneous Service Request",
          "issue_type": "General Questions/information",
          "street_address": "1301 Shattuck Ave",
          "ticket_status": "Closed"
         },
         "type": "Feature"
        },
        {
         "geometry": {
          "coordinates": [
           -122.25113658,
           37.86444103
          ],
          "type": "Point"
         },
         "properties": {
          "issue_description": "Residential Customer Complaint",
          "issue_type": "Refuse and Recycling",
          "street_address": "2545 Piedmont Ave",
          "ticket_status": "Closed"
         },
         "type": "Feature"
        },
        {
         "geometry": {
          "coordinates": [
           -122.2733667,
           37.86960582
          ],
          "type": "Point"
         },
         "properties": {
          "issue_description": "Pressure Washing (steam-cleaning)",
          "issue_type": "Streets, Utilities, and Transportation",
          "street_address": "2134 M L King Jr Way",
          "ticket_status": "Closed"
         },
         "type": "Feature"
        },
        {
         "geometry": {
          "coordinates": [
           -122.26987122,
           37.8705255
          ],
          "type": "Point"
         },
         "properties": {
          "issue_description": "Miscellaneous Service Request",
          "issue_type": "General Questions/information",
          "street_address": "2025 Center St",
          "ticket_status": "Open"
         },
         "type": "Feature"
        },
        {
         "geometry": {
          "coordinates": [
           -122.29466316,
           37.86323563
          ],
          "type": "Point"
         },
         "properties": {
          "issue_description": "Application",
          "issue_type": "Business License",
          "street_address": "2315 Seventh St",
          "ticket_status": "Open"
         },
         "type": "Feature"
        },
        {
         "geometry": {
          "coordinates": [
           -122.29735077,
           37.87967761
          ],
          "type": "Point"
         },
         "properties": {
          "issue_description": "Cart Repair",
          "issue_type": "Refuse and Recycling",
          "street_address": "1300 Tenth St",
          "ticket_status": "Closed"
         },
         "type": "Feature"
        },
        {
         "geometry": {
          "coordinates": [
           -122.27580351,
           37.89888388
          ],
          "type": "Point"
         },
         "properties": {
          "issue_description": "Residential Reminder",
          "issue_type": "Refuse and Recycling",
          "street_address": "1960 San Antonio Ave",
          "ticket_status": "Closed"
         },
         "type": "Feature"
        },
        {
         "geometry": {
          "coordinates": [
           -122.29847118,
           37.87292788
          ],
          "type": "Point"
         },
         "properties": {
          "issue_description": "Miscellaneous Service Request",
          "issue_type": "General Questions/information",
          "street_address": "1660 Seventh St",
          "ticket_status": "Closed"
         },
         "type": "Feature"
        },
        {
         "geometry": {
          "coordinates": [
           -122.24329468,
           37.85590163
          ],
          "type": "Point"
         },
         "properties": {
          "issue_description": "Residential Customer Complaint",
          "issue_type": "Refuse and Recycling",
          "street_address": "57 Domingo Ave",
          "ticket_status": "Closed"
         },
         "type": "Feature"
        },
        {
         "geometry": {
          "coordinates": [
           -122.27141874,
           37.8675722
          ],
          "type": "Point"
         },
         "properties": {
          "issue_description": "Roll Off Bin",
          "issue_type": "Refuse and Recycling",
          "street_address": "2246 Milvia St",
          "ticket_status": "Open"
         },
         "type": "Feature"
        },
        {
         "geometry": {
          "coordinates": [
           -122.28933117,
           37.85911408
          ],
          "type": "Point"
         },
         "properties": {
          "issue_description": "Commercial Missed Pickup",
          "issue_type": "Refuse and Recycling",
          "street_address": "2600 San Pablo Ave",
          "ticket_status": "Closed"
         },
         "type": "Feature"
        },
        {
         "geometry": {
          "coordinates": [
           -122.2733667,
           37.86960582
          ],
          "type": "Point"
         },
         "properties": {
          "issue_description": "Miscellaneous Internet Request",
          "issue_type": "General Questions/information",
          "street_address": "2100 M L King Jr Way",
          "ticket_status": "Closed"
         },
         "type": "Feature"
        },
        {
         "geometry": {
          "coordinates": [
           -122.28054849,
           37.88076347
          ],
          "type": "Point"
         },
         "properties": {
          "issue_description": "Cart Repair",
          "issue_type": "Refuse and Recycling",
          "street_address": "1332 Mcgee Ave",
          "ticket_status": "Closed"
         },
         "type": "Feature"
        },
        {
         "geometry": {
          "coordinates": [
           -122.29200087,
           37.85566377
          ],
          "type": "Point"
         },
         "properties": {
          "issue_description": "Miscellaneous Service Request",
          "issue_type": "General Questions/information",
          "street_address": "901 Grayson St 100",
          "ticket_status": "Closed"
         },
         "type": "Feature"
        },
        {
         "geometry": {
          "coordinates": [
           -122.33705586,
           37.85787012
          ],
          "type": "Point"
         },
         "properties": {
          "issue_description": "Application",
          "issue_type": "Business License",
          "street_address": "125 University Ave",
          "ticket_status": "Closed"
         },
         "type": "Feature"
        },
        {
         "geometry": {
          "coordinates": [
           -122.30270186,
           37.87814229
          ],
          "type": "Point"
         },
         "properties": {
          "issue_description": "Commercial Missed Pickup",
          "issue_type": "Refuse and Recycling",
          "street_address": "1360 Fifth St",
          "ticket_status": "Closed"
         },
         "type": "Feature"
        },
        {
         "geometry": {
          "coordinates": [
           -122.2733667,
           37.86960582
          ],
          "type": "Point"
         },
         "properties": {
          "issue_description": "Miscellaneous Service Request",
          "issue_type": "General Questions/information",
          "street_address": "2100 M L King Jr Way",
          "ticket_status": "Closed"
         },
         "type": "Feature"
        },
        {
         "geometry": {
          "coordinates": [
           -122.30270186,
           37.87814229
          ],
          "type": "Point"
         },
         "properties": {
          "issue_description": "Miscellaneous Service Request",
          "issue_type": "General Questions/information",
          "street_address": "1340 Fifth St",
          "ticket_status": "Closed"
         },
         "type": "Feature"
        },
        {
         "geometry": {
          "coordinates": [
           -122.27899793,
           37.87045456
          ],
          "type": "Point"
         },
         "properties": {
          "issue_description": "Commercial Missed Pickup",
          "issue_type": "Refuse and Recycling",
          "street_address": "1632 University Ave",
          "ticket_status": "Closed"
         },
         "type": "Feature"
        },
        {
         "geometry": {
          "coordinates": [
           -122.24931021,
           37.86213624
          ],
          "type": "Point"
         },
         "properties": {
          "issue_description": "Residential Bulky Pickup",
          "issue_type": "Refuse and Recycling",
          "street_address": "2838 Derby St",
          "ticket_status": "Closed"
         },
         "type": "Feature"
        },
        {
         "geometry": {
          "coordinates": [
           -122.26302583,
           37.85483847
          ],
          "type": "Point"
         },
         "properties": {
          "issue_description": "Miscellaneous Service Request",
          "issue_type": "General Questions/information",
          "street_address": "3021 Fulton St",
          "ticket_status": "Closed"
         },
         "type": "Feature"
        },
        {
         "geometry": {
          "coordinates": [
           -122.27841468,
           37.89449222
          ],
          "type": "Point"
         },
         "properties": {
          "issue_description": "Residential Cart Size Increase",
          "issue_type": "Refuse and Recycling",
          "street_address": "1875 Tacoma Ave",
          "ticket_status": "Closed"
         },
         "type": "Feature"
        },
        {
         "geometry": {
          "coordinates": [
           -122.25246212,
           37.88878402
          ],
          "type": "Point"
         },
         "properties": {
          "issue_description": "Cart Repair",
          "issue_type": "Refuse and Recycling",
          "street_address": "2950 Shasta Rd",
          "ticket_status": "Closed"
         },
         "type": "Feature"
        },
        {
         "geometry": {
          "coordinates": [
           -122.26602623,
           37.89450799
          ],
          "type": "Point"
         },
         "properties": {
          "issue_description": "Residential Missed Pickup Integration",
          "issue_type": "Refuse and Recycling",
          "street_address": "890 Regal Rd",
          "ticket_status": "Closed"
         },
         "type": "Feature"
        },
        {
         "geometry": {
          "coordinates": [
           -122.27863317,
           37.85268383
          ],
          "type": "Point"
         },
         "properties": {
          "issue_description": "Miscellaneous Internet Request",
          "issue_type": "General Questions/information",
          "street_address": "1505 Tyler St",
          "ticket_status": "Closed"
         },
         "type": "Feature"
        },
        {
         "geometry": {
          "coordinates": [
           -122.25994269,
           37.86232831
          ],
          "type": "Point"
         },
         "properties": {
          "issue_description": "Residential Bulky Pickup",
          "issue_type": "Refuse and Recycling",
          "street_address": "2401 Carleton St",
          "ticket_status": "Closed"
         },
         "type": "Feature"
        },
        {
         "geometry": {
          "coordinates": [
           -122.28301406,
           37.86174845
          ],
          "type": "Point"
         },
         "properties": {
          "issue_description": "Residential Service Stop",
          "issue_type": "Refuse and Recycling",
          "street_address": "1402 Dwight Way",
          "ticket_status": "Closed"
         },
         "type": "Feature"
        },
        {
         "geometry": {
          "coordinates": [
           -122.25994035,
           37.85813861
          ],
          "type": "Point"
         },
         "properties": {
          "issue_description": "Sewer Problem",
          "issue_type": "Streets, Utilities, and Transportation",
          "street_address": "2850 Telegraph Ave",
          "ticket_status": "Closed"
         },
         "type": "Feature"
        },
        {
         "geometry": {
          "coordinates": [
           -122.25534857,
           37.85920312
          ],
          "type": "Point"
         },
         "properties": {
          "issue_description": "Illegal Dumping - Internet Request",
          "issue_type": "Streets, Utilities, and Transportation",
          "street_address": "2821 Hillegass Ave",
          "ticket_status": "Closed"
         },
         "type": "Feature"
        },
        {
         "geometry": {
          "coordinates": [
           -122.2914211,
           37.85850401
          ],
          "type": "Point"
         },
         "properties": {
          "issue_description": "Roll Off Bin",
          "issue_type": "Refuse and Recycling",
          "street_address": "950 Parker St",
          "ticket_status": "Closed"
         },
         "type": "Feature"
        },
        {
         "geometry": {
          "coordinates": [
           -122.26183831,
           37.88552268
          ],
          "type": "Point"
         },
         "properties": {
          "issue_description": "Signage Repair and Replace",
          "issue_type": "Traffic and Transportation",
          "street_address": "1200 Euclid Ave",
          "ticket_status": "Closed"
         },
         "type": "Feature"
        },
        {
         "geometry": {
          "coordinates": [
           -122.2949321,
           37.86353287
          ],
          "type": "Point"
         },
         "properties": {
          "issue_description": "Commercial Missed Pickup",
          "issue_type": "Refuse and Recycling",
          "street_address": "2305 Seventh St",
          "ticket_status": "Closed"
         },
         "type": "Feature"
        },
        {
         "geometry": {
          "coordinates": [
           -122.25505745,
           37.88178048
          ],
          "type": "Point"
         },
         "properties": {
          "issue_description": "Sewer Problem",
          "issue_type": "Streets, Utilities, and Transportation",
          "street_address": "3076 Buena Vista Way",
          "ticket_status": "Closed"
         },
         "type": "Feature"
        },
        {
         "geometry": {
          "coordinates": [
           -122.27211177,
           37.84930823
          ],
          "type": "Point"
         },
         "properties": {
          "issue_description": "Illegal Dumping - City Property",
          "issue_type": "Streets, Utilities, and Transportation",
          "street_address": "1808 Harmon St",
          "ticket_status": "Closed"
         },
         "type": "Feature"
        },
        {
         "geometry": {
          "coordinates": [
           -122.27413917,
           37.86331532
          ],
          "type": "Point"
         },
         "properties": {
          "issue_description": "Residential Lost or Stolen Cart",
          "issue_type": "Refuse and Recycling",
          "street_address": "1803 Dwight Way",
          "ticket_status": "Closed"
         },
         "type": "Feature"
        },
        {
         "geometry": {
          "coordinates": [
           -122.2745956,
           37.88278514
          ],
          "type": "Point"
         },
         "properties": {
          "issue_description": "Commercial Cart Size Increase",
          "issue_type": "Refuse and Recycling",
          "street_address": "1306 M L King Jr Way",
          "ticket_status": "Closed"
         },
         "type": "Feature"
        },
        {
         "geometry": {
          "coordinates": [
           -122.2623843,
           37.86803234
          ],
          "type": "Point"
         },
         "properties": {
          "issue_description": "Commercial Service Day Change",
          "issue_type": "Refuse and Recycling",
          "street_address": "2362 Bancroft Way Parkg",
          "ticket_status": "Closed"
         },
         "type": "Feature"
        },
        {
         "geometry": {
          "coordinates": [
           -122.30479591,
           37.8807907
          ],
          "type": "Point"
         },
         "properties": {
          "issue_description": "Fixtures",
          "issue_type": "Facilities, Electrical & Property Management",
          "street_address": "777 Harrison St",
          "ticket_status": "Open"
         },
         "type": "Feature"
        },
        {
         "geometry": {
          "coordinates": [
           -122.26676686,
           37.85501028
          ],
          "type": "Point"
         },
         "properties": {
          "issue_description": "Tree Planting",
          "issue_type": "Parks, Trees and Vegetation",
          "street_address": "3000 Shattuck Ave",
          "ticket_status": "Open"
         },
         "type": "Feature"
        },
        {
         "geometry": {
          "coordinates": [
           -122.29150477,
           37.86833076
          ],
          "type": "Point"
         },
         "properties": {
          "issue_description": "Street Lights - Repair",
          "issue_type": "Facilities, Electrical & Property Management",
          "street_address": "2057 San Pablo Ave",
          "ticket_status": "Closed"
         },
         "type": "Feature"
        },
        {
         "geometry": {
          "coordinates": [
           -122.28230639,
           37.84929405
          ],
          "type": "Point"
         },
         "properties": {
          "issue_description": "Roll Off Bin",
          "issue_type": "Refuse and Recycling",
          "street_address": "1230 Sixty-Sixth St",
          "ticket_status": "Closed"
         },
         "type": "Feature"
        },
        {
         "geometry": {
          "coordinates": [
           -122.25415115,
           37.85453511
          ],
          "type": "Point"
         },
         "properties": {
          "issue_description": "Residential Service Start",
          "issue_type": "Refuse and Recycling",
          "street_address": "3038 Benvenue Ave",
          "ticket_status": "Closed"
         },
         "type": "Feature"
        },
        {
         "geometry": {
          "coordinates": [
           -122.26579378,
           37.85411348
          ],
          "type": "Point"
         },
         "properties": {
          "issue_description": "Residential Bulky Pickup",
          "issue_type": "Refuse and Recycling",
          "street_address": "2111 Essex St",
          "ticket_status": "Closed"
         },
         "type": "Feature"
        },
        {
         "geometry": {
          "coordinates": [
           -122.25983902,
           37.86799008
          ],
          "type": "Point"
         },
         "properties": {
          "issue_description": "Miscellaneous Internet Request",
          "issue_type": "General Questions/information",
          "street_address": "2431 Durant Ave C",
          "ticket_status": "Closed"
         },
         "type": "Feature"
        },
        {
         "geometry": {
          "coordinates": [
           -122.2980739,
           37.86025999
          ],
          "type": "Point"
         },
         "properties": {
          "issue_description": "Illegal Dumping - City Property",
          "issue_type": "Streets, Utilities, and Transportation",
          "street_address": "715 Dwight Way",
          "ticket_status": "Closed"
         },
         "type": "Feature"
        },
        {
         "geometry": {
          "coordinates": [
           -122.26979669,
           37.85167611
          ],
          "type": "Point"
         },
         "properties": {
          "issue_description": "Residential Reminder",
          "issue_type": "Refuse and Recycling",
          "street_address": "1900 Woolsey St",
          "ticket_status": "Closed"
         },
         "type": "Feature"
        },
        {
         "geometry": {
          "coordinates": [
           -122.27624058,
           37.87592977
          ],
          "type": "Point"
         },
         "properties": {
          "issue_description": "Miscellaneous Internet Request",
          "issue_type": "General Questions/information",
          "street_address": "1739 Virginia St",
          "ticket_status": "Closed"
         },
         "type": "Feature"
        },
        {
         "geometry": {
          "coordinates": [
           -122.28049285,
           37.88611354
          ],
          "type": "Point"
         },
         "properties": {
          "issue_description": "Miscellaneous Service Request",
          "issue_type": "General Questions/information",
          "street_address": "1736 Sonoma Ave",
          "ticket_status": "Closed"
         },
         "type": "Feature"
        },
        {
         "geometry": {
          "coordinates": [
           -122.23972103,
           37.8568035
          ],
          "type": "Point"
         },
         "properties": {
          "issue_description": "Storm Problem",
          "issue_type": "Streets, Utilities, and Transportation",
          "street_address": "34 Alvarado Rd",
          "ticket_status": "Closed"
         },
         "type": "Feature"
        },
        {
         "geometry": {
          "coordinates": [
           -122.28843045,
           37.85481642
          ],
          "type": "Point"
         },
         "properties": {
          "issue_description": "Residential Site Inspection",
          "issue_type": "Refuse and Recycling",
          "street_address": "2833 Tenth St",
          "ticket_status": "Closed"
         },
         "type": "Feature"
        },
        {
         "geometry": {
          "coordinates": [
           -122.29370592,
           37.86235054
          ],
          "type": "Point"
         },
         "properties": {
          "issue_description": "Residential Lost or Stolen Cart",
          "issue_type": "Refuse and Recycling",
          "street_address": "921 Channing Way",
          "ticket_status": "Closed"
         },
         "type": "Feature"
        },
        {
         "geometry": {
          "coordinates": [
           -122.26853773,
           37.880047
          ],
          "type": "Point"
         },
         "properties": {
          "issue_description": "Commercial Site Inspection",
          "issue_type": "Refuse and Recycling",
          "street_address": "2110 Vine St",
          "ticket_status": "Closed"
         },
         "type": "Feature"
        },
        {
         "geometry": {
          "coordinates": [
           -122.26803993,
           37.87165501
          ],
          "type": "Point"
         },
         "properties": {
          "issue_description": "Commercial Missed Pickup",
          "issue_type": "Refuse and Recycling",
          "street_address": "64 Shattuck Sq Upper",
          "ticket_status": "Closed"
         },
         "type": "Feature"
        },
        {
         "geometry": {
          "coordinates": [
           -122.28269647,
           37.85527188
          ],
          "type": "Point"
         },
         "properties": {
          "issue_description": "Residential Missed Pickup",
          "issue_type": "Refuse and Recycling",
          "street_address": "2807 Park St",
          "ticket_status": "Closed"
         },
         "type": "Feature"
        },
        {
         "geometry": {
          "coordinates": [
           -122.26839568,
           37.87559367
          ],
          "type": "Point"
         },
         "properties": {
          "issue_description": "Commercial Missed Pickup",
          "issue_type": "Refuse and Recycling",
          "street_address": "1725 Shattuck Ave",
          "ticket_status": "Closed"
         },
         "type": "Feature"
        },
        {
         "geometry": {
          "coordinates": [
           -122.27799226,
           37.85784874
          ],
          "type": "Point"
         },
         "properties": {
          "issue_description": "Residential Cart Size Decrease",
          "issue_type": "Refuse and Recycling",
          "street_address": "2732 California St",
          "ticket_status": "Closed"
         },
         "type": "Feature"
        },
        {
         "geometry": {
          "coordinates": [
           -122.2757841,
           37.84689894
          ],
          "type": "Point"
         },
         "properties": {
          "issue_description": "Residential Bulky Pickup",
          "issue_type": "Refuse and Recycling",
          "street_address": "3330 California St",
          "ticket_status": "Closed"
         },
         "type": "Feature"
        },
        {
         "geometry": {
          "coordinates": [
           -122.25500185,
           37.89021457
          ],
          "type": "Point"
         },
         "properties": {
          "issue_description": "Miscellaneous Service Request",
          "issue_type": "General Questions/information",
          "street_address": "1160 Miller Ave",
          "ticket_status": "Closed"
         },
         "type": "Feature"
        },
        {
         "geometry": {
          "coordinates": [
           -122.27954126,
           37.8572243
          ],
          "type": "Point"
         },
         "properties": {
          "issue_description": "Illegal Dumping - City Property",
          "issue_type": "Streets, Utilities, and Transportation",
          "street_address": "1501 Stuart St",
          "ticket_status": "Closed"
         },
         "type": "Feature"
        },
        {
         "geometry": {
          "coordinates": [
           -122.26040222,
           37.86791828
          ],
          "type": "Point"
         },
         "properties": {
          "issue_description": "Residential Site Inspection",
          "issue_type": "Refuse and Recycling",
          "street_address": "2419 Durant Ave",
          "ticket_status": "Closed"
         },
         "type": "Feature"
        },
        {
         "geometry": {
          "coordinates": [
           -122.27638387,
           37.89666407
          ],
          "type": "Point"
         },
         "properties": {
          "issue_description": "Residential Missed Pickup Integration",
          "issue_type": "Refuse and Recycling",
          "street_address": "1947 Yosemite Rd",
          "ticket_status": "Closed"
         },
         "type": "Feature"
        },
        {
         "geometry": {
          "coordinates": [
           -122.26043522,
           37.86226741
          ],
          "type": "Point"
         },
         "properties": {
          "issue_description": "Tree Pruning",
          "issue_type": "Parks, Trees and Vegetation",
          "street_address": "2620 Dana St",
          "ticket_status": "Closed"
         },
         "type": "Feature"
        },
        {
         "geometry": {
          "coordinates": [
           -122.28799599,
           37.85754411
          ],
          "type": "Point"
         },
         "properties": {
          "issue_description": "Commercial Bin Size Decrease",
          "issue_type": "Refuse and Recycling",
          "street_address": "2701 San Pablo Ave",
          "ticket_status": "Closed"
         },
         "type": "Feature"
        },
        {
         "geometry": {
          "coordinates": [
           -122.30195056,
           37.8659824
          ],
          "type": "Point"
         },
         "properties": {
          "issue_description": "Commercial Missed Pickup",
          "issue_type": "Refuse and Recycling",
          "street_address": "2080 Second St",
          "ticket_status": "Closed"
         },
         "type": "Feature"
        },
        {
         "geometry": {
          "coordinates": [
           -122.25895285,
           37.85656639
          ],
          "type": "Point"
         },
         "properties": {
          "issue_description": "Residential Missed Pickup",
          "issue_type": "Refuse and Recycling",
          "street_address": "2419 Ashby Ave",
          "ticket_status": "Closed"
         },
         "type": "Feature"
        },
        {
         "geometry": {
          "coordinates": [
           -122.30204857,
           37.87508037
          ],
          "type": "Point"
         },
         "properties": {
          "issue_description": "Potholes",
          "issue_type": "Streets, Utilities, and Transportation",
          "street_address": "1465 Fourth St",
          "ticket_status": "Closed"
         },
         "type": "Feature"
        },
        {
         "geometry": {
          "coordinates": [
           -122.26851075,
           37.89295533
          ],
          "type": "Point"
         },
         "properties": {
          "issue_description": "Sewer Problem",
          "issue_type": "Streets, Utilities, and Transportation",
          "street_address": "893 Santa Barbara Rd",
          "ticket_status": "Open"
         },
         "type": "Feature"
        },
        {
         "geometry": {
          "coordinates": [
           -122.27374667,
           37.85099052
          ],
          "type": "Point"
         },
         "properties": {
          "issue_description": "Call Transfer - All Other Parties",
          "issue_type": "General Questions/information",
          "street_address": "3131 King St",
          "ticket_status": "Closed"
         },
         "type": "Feature"
        },
        {
         "geometry": {
          "coordinates": [
           -122.29076483,
           37.88251823
          ],
          "type": "Point"
         },
         "properties": {
          "issue_description": "Residential Lost or Stolen Cart",
          "issue_type": "Refuse and Recycling",
          "street_address": "1223 Masonic Ave",
          "ticket_status": "Closed"
         },
         "type": "Feature"
        },
        {
         "geometry": {
          "coordinates": [
           -122.27346851,
           37.87883942
          ],
          "type": "Point"
         },
         "properties": {
          "issue_description": "Residential Missed Pickup Integration",
          "issue_type": "Refuse and Recycling",
          "street_address": "1521 M L King Jr Way 2",
          "ticket_status": "Closed"
         },
         "type": "Feature"
        },
        {
         "geometry": {
          "coordinates": [
           -122.26875561,
           37.85327664
          ],
          "type": "Point"
         },
         "properties": {
          "issue_description": "Illegal Dumping - City Property",
          "issue_type": "Streets, Utilities, and Transportation",
          "street_address": "1912 Essex St",
          "ticket_status": "Closed"
         },
         "type": "Feature"
        },
        {
         "geometry": {
          "coordinates": [
           -122.27271603,
           37.85988943
          ],
          "type": "Point"
         },
         "properties": {
          "issue_description": "Illegal Dumping - City Property",
          "issue_type": "Streets, Utilities, and Transportation",
          "street_address": "1815 Derby St",
          "ticket_status": "Closed"
         },
         "type": "Feature"
        },
        {
         "geometry": {
          "coordinates": [
           -122.26522736,
           37.85271576
          ],
          "type": "Point"
         },
         "properties": {
          "issue_description": "Residential Cart Size Decrease",
          "issue_type": "Refuse and Recycling",
          "street_address": "2119 Woolsey St",
          "ticket_status": "Closed"
         },
         "type": "Feature"
        },
        {
         "geometry": {
          "coordinates": [
           -122.25665306,
           37.85774638
          ],
          "type": "Point"
         },
         "properties": {
          "issue_description": "Residential Cart Size Increase",
          "issue_type": "Refuse and Recycling",
          "street_address": "2905 Regent St",
          "ticket_status": "Closed"
         },
         "type": "Feature"
        },
        {
         "geometry": {
          "coordinates": [
           -122.26717082,
           37.86831906
          ],
          "type": "Point"
         },
         "properties": {
          "issue_description": "Commercial Cart Size Increase",
          "issue_type": "Refuse and Recycling",
          "street_address": "2124 Kittredge St",
          "ticket_status": "Closed"
         },
         "type": "Feature"
        },
        {
         "geometry": {
          "coordinates": [
           -122.26678408,
           37.88096144
          ],
          "type": "Point"
         },
         "properties": {
          "issue_description": "Cart Repair",
          "issue_type": "Refuse and Recycling",
          "street_address": "1441 Oxford St",
          "ticket_status": "Closed"
         },
         "type": "Feature"
        },
        {
         "geometry": {
          "coordinates": [
           -122.288686,
           37.85560287
          ],
          "type": "Point"
         },
         "properties": {
          "issue_description": "Commercial Lost or Stolen Cart",
          "issue_type": "Refuse and Recycling",
          "street_address": "2809 Tenth St",
          "ticket_status": "Closed"
         },
         "type": "Feature"
        },
        {
         "geometry": {
          "coordinates": [
           -122.26693765,
           37.89677186
          ],
          "type": "Point"
         },
         "properties": {
          "issue_description": "Sidewalk Problem",
          "issue_type": "Streets, Utilities, and Transportation",
          "street_address": "86 Rock Ln",
          "ticket_status": "Closed"
         },
         "type": "Feature"
        },
        {
         "geometry": {
          "coordinates": [
           -122.29718551,
           37.87178516
          ],
          "type": "Point"
         },
         "properties": {
          "issue_description": "Commercial Reminder",
          "issue_type": "Refuse and Recycling",
          "street_address": "1718 Eighth St",
          "ticket_status": "Closed"
         },
         "type": "Feature"
        },
        {
         "geometry": {
          "coordinates": [
           -122.28570277,
           37.86235317
          ],
          "type": "Point"
         },
         "properties": {
          "issue_description": "Residential Missed Pickup Integration",
          "issue_type": "Refuse and Recycling",
          "street_address": "2431 Bonar St",
          "ticket_status": "Closed"
         },
         "type": "Feature"
        },
        {
         "geometry": {
          "coordinates": [
           -122.29668802,
           37.86607785
          ],
          "type": "Point"
         },
         "properties": {
          "issue_description": "Stray Cart Removal",
          "issue_type": "Refuse and Recycling",
          "street_address": "2117 Sixth St",
          "ticket_status": "Closed"
         },
         "type": "Feature"
        },
        {
         "geometry": {
          "coordinates": [
           -122.28140318,
           37.8711782
          ],
          "type": "Point"
         },
         "properties": {
          "issue_description": "Miscellaneous Internet Request",
          "issue_type": "General Questions/information",
          "street_address": "1510 Berkeley Way",
          "ticket_status": "Closed"
         },
         "type": "Feature"
        },
        {
         "geometry": {
          "coordinates": [
           -122.27419647,
           37.85129292
          ],
          "type": "Point"
         },
         "properties": {
          "issue_description": "Illegal Dumping - Internet Request",
          "issue_type": "Streets, Utilities, and Transportation",
          "street_address": "1647 Woolsey St",
          "ticket_status": "Closed"
         },
         "type": "Feature"
        },
        {
         "geometry": {
          "coordinates": [
           -122.28582655,
           37.86319457
          ],
          "type": "Point"
         },
         "properties": {
          "issue_description": "Residential Cart Size Decrease",
          "issue_type": "Refuse and Recycling",
          "street_address": "1302 Channing Way",
          "ticket_status": "Closed"
         },
         "type": "Feature"
        },
        {
         "geometry": {
          "coordinates": [
           -122.27874294,
           37.87849521
          ],
          "type": "Point"
         },
         "properties": {
          "issue_description": "Tree Planting",
          "issue_type": "Parks, Trees and Vegetation",
          "street_address": "1519 Mcgee Ave",
          "ticket_status": "Closed"
         },
         "type": "Feature"
        },
        {
         "geometry": {
          "coordinates": [
           -122.26908967,
           37.87504697
          ],
          "type": "Point"
         },
         "properties": {
          "issue_description": "Commercial Cart Size Decrease",
          "issue_type": "Refuse and Recycling",
          "street_address": "1782 Shattuck Ave",
          "ticket_status": "Closed"
         },
         "type": "Feature"
        },
        {
         "geometry": {
          "coordinates": [
           -122.29344308,
           37.86725393
          ],
          "type": "Point"
         },
         "properties": {
          "issue_description": "Illegal Dumping - City Property",
          "issue_type": "Streets, Utilities, and Transportation",
          "street_address": "1008 Addison St",
          "ticket_status": "Closed"
         },
         "type": "Feature"
        },
        {
         "geometry": {
          "coordinates": [
           -122.2692931,
           37.88271873
          ],
          "type": "Point"
         },
         "properties": {
          "issue_description": "Residential Special Pickup",
          "issue_type": "Refuse and Recycling",
          "street_address": "1335 Shattuck Ave",
          "ticket_status": "Closed"
         },
         "type": "Feature"
        },
        {
         "geometry": {
          "coordinates": [
           -122.27522025,
           37.89003103
          ],
          "type": "Point"
         },
         "properties": {
          "issue_description": "Residential Bulky Pickup",
          "issue_type": "Refuse and Recycling",
          "street_address": "1928 Los Angeles Ave",
          "ticket_status": "Closed"
         },
         "type": "Feature"
        },
        {
         "geometry": {
          "coordinates": [
           -122.26695487,
           37.89690668
          ],
          "type": "Point"
         },
         "properties": {
          "issue_description": "Residential Service Stop",
          "issue_type": "Refuse and Recycling",
          "street_address": "94 Rock Ln",
          "ticket_status": "Closed"
         },
         "type": "Feature"
        },
        {
         "geometry": {
          "coordinates": [
           -122.29814051,
           37.8827616
          ],
          "type": "Point"
         },
         "properties": {
          "issue_description": "Commercial Reminder",
          "issue_type": "Refuse and Recycling",
          "street_address": "1100 Tenth St",
          "ticket_status": "Closed"
         },
         "type": "Feature"
        },
        {
         "geometry": {
          "coordinates": [
           -122.25765825,
           37.86861739
          ],
          "type": "Point"
         },
         "properties": {
          "issue_description": "Commercial Customer Complaint",
          "issue_type": "Refuse and Recycling",
          "street_address": "2562 Bancroft Way",
          "ticket_status": "Closed"
         },
         "type": "Feature"
        },
        {
         "geometry": {
          "coordinates": [
           -122.27955247,
           37.865166
          ],
          "type": "Point"
         },
         "properties": {
          "issue_description": "Signage Repair and Replace",
          "issue_type": "Traffic and Transportation",
          "street_address": "2320 California St",
          "ticket_status": "Closed"
         },
         "type": "Feature"
        },
        {
         "geometry": {
          "coordinates": [
           -122.27609059,
           37.8929452
          ],
          "type": "Point"
         },
         "properties": {
          "issue_description": "Residential Service Start",
          "issue_type": "Refuse and Recycling",
          "street_address": "853 Contra Costa Ave",
          "ticket_status": "Closed"
         },
         "type": "Feature"
        },
        {
         "geometry": {
          "coordinates": [
           -122.29759251,
           37.86885328
          ],
          "type": "Point"
         },
         "properties": {
          "issue_description": "Commercial Customer Complaint",
          "issue_type": "Refuse and Recycling",
          "street_address": "1917 Sixth St",
          "ticket_status": "Closed"
         },
         "type": "Feature"
        },
        {
         "geometry": {
          "coordinates": [
           -122.27688923,
           37.85939417
          ],
          "type": "Point"
         },
         "properties": {
          "issue_description": "Sewer Problem",
          "issue_type": "Streets, Utilities, and Transportation",
          "street_address": "1623 Derby St",
          "ticket_status": "Closed"
         },
         "type": "Feature"
        },
        {
         "geometry": {
          "coordinates": [
           -122.30154835,
           37.87722838
          ],
          "type": "Point"
         },
         "properties": {
          "issue_description": "Residential Missed Pickup Integration",
          "issue_type": "Refuse and Recycling",
          "street_address": "804 Camelia St",
          "ticket_status": "Closed"
         },
         "type": "Feature"
        },
        {
         "geometry": {
          "coordinates": [
           -122.27024518,
           37.87989796
          ],
          "type": "Point"
         },
         "properties": {
          "issue_description": "Sewer Problem",
          "issue_type": "Streets, Utilities, and Transportation",
          "street_address": "2024 Vine St 1B",
          "ticket_status": "Closed"
         },
         "type": "Feature"
        },
        {
         "geometry": {
          "coordinates": [
           -122.29135786,
           37.87256777
          ],
          "type": "Point"
         },
         "properties": {
          "issue_description": "Residential Missed Pickup Integration",
          "issue_type": "Refuse and Recycling",
          "street_address": "1138 Francisco St",
          "ticket_status": "Closed"
         },
         "type": "Feature"
        },
        {
         "geometry": {
          "coordinates": [
           -122.29118426,
           37.8811688
          ],
          "type": "Point"
         },
         "properties": {
          "issue_description": "Residential Lost or Stolen Cart",
          "issue_type": "Refuse and Recycling",
          "street_address": "1306 Santa Fe Ave",
          "ticket_status": "Closed"
         },
         "type": "Feature"
        },
        {
         "geometry": {
          "coordinates": [
           -122.2524011,
           37.88664997
          ],
          "type": "Point"
         },
         "properties": {
          "issue_description": "Residential Cart Size Increase",
          "issue_type": "Refuse and Recycling",
          "street_address": "90 Fairlawn Dr",
          "ticket_status": "Closed"
         },
         "type": "Feature"
        },
        {
         "geometry": {
          "coordinates": [
           -122.27649317,
           37.87176567
          ],
          "type": "Point"
         },
         "properties": {
          "issue_description": "Residential Customer Complaint",
          "issue_type": "Refuse and Recycling",
          "street_address": "1724 Berkeley Way",
          "ticket_status": "Closed"
         },
         "type": "Feature"
        },
        {
         "geometry": {
          "coordinates": [
           -122.27297099,
           37.8663467
          ],
          "type": "Point"
         },
         "properties": {
          "issue_description": "Commercial Missed Pickup",
          "issue_type": "Refuse and Recycling",
          "street_address": "2300 M L King Jr Way",
          "ticket_status": "Closed"
         },
         "type": "Feature"
        },
        {
         "geometry": {
          "coordinates": [
           -122.25673116,
           37.86033343
          ],
          "type": "Point"
         },
         "properties": {
          "issue_description": "Commercial Cart Size Increase",
          "issue_type": "Refuse and Recycling",
          "street_address": "2735 Regent St",
          "ticket_status": "Closed"
         },
         "type": "Feature"
        },
        {
         "geometry": {
          "coordinates": [
           -122.24991186,
           37.85372175
          ],
          "type": "Point"
         },
         "properties": {
          "issue_description": "Miscellaneous Internet Request",
          "issue_type": "General Questions/information",
          "street_address": "150 Brookside Dr",
          "ticket_status": "Closed"
         },
         "type": "Feature"
        },
        {
         "geometry": {
          "coordinates": [
           -122.2646382,
           37.88196039
          ],
          "type": "Point"
         },
         "properties": {
          "issue_description": "Residential Cart Size Increase",
          "issue_type": "Refuse and Recycling",
          "street_address": "1421 Arch St",
          "ticket_status": "Closed"
         },
         "type": "Feature"
        },
        {
         "geometry": {
          "coordinates": [
           -122.27012141,
           37.87954453
          ],
          "type": "Point"
         },
         "properties": {
          "issue_description": "Residential Customer Complaint",
          "issue_type": "Refuse and Recycling",
          "street_address": "1515 Henry St A",
          "ticket_status": "Closed"
         },
         "type": "Feature"
        },
        {
         "geometry": {
          "coordinates": [
           -122.27593329,
           37.88042841
          ],
          "type": "Point"
         },
         "properties": {
          "issue_description": "Residential Bulky Pickup",
          "issue_type": "Refuse and Recycling",
          "street_address": "1419 Grant St",
          "ticket_status": "Closed"
         },
         "type": "Feature"
        },
        {
         "geometry": {
          "coordinates": [
           -122.25998365,
           37.87558085
          ],
          "type": "Point"
         },
         "properties": {
          "issue_description": "Graffiti Abatement - Internet Request",
          "issue_type": "Graffiti and Vandalism",
          "street_address": "1841 Euclid Ave",
          "ticket_status": "Closed"
         },
         "type": "Feature"
        },
        {
         "geometry": {
          "coordinates": [
           -122.26227199,
           37.86025256
          ],
          "type": "Point"
         },
         "properties": {
          "issue_description": "Residential Lost or Stolen Cart",
          "issue_type": "Refuse and Recycling",
          "street_address": "2253 Ward St",
          "ticket_status": "Closed"
         },
         "type": "Feature"
        },
        {
         "geometry": {
          "coordinates": [
           -122.28181194,
           37.89092856
          ],
          "type": "Point"
         },
         "properties": {
          "issue_description": "Residential Lost or Stolen Cart",
          "issue_type": "Refuse and Recycling",
          "street_address": "1722 Solano Ave",
          "ticket_status": "Closed"
         },
         "type": "Feature"
        },
        {
         "geometry": {
          "coordinates": [
           -122.25183455,
           37.85705875
          ],
          "type": "Point"
         },
         "properties": {
          "issue_description": "Residential Missed Pickup",
          "issue_type": "Refuse and Recycling",
          "street_address": "2725 Elmwood Ave",
          "ticket_status": "Closed"
         },
         "type": "Feature"
        },
        {
         "geometry": {
          "coordinates": [
           -122.28444172,
           37.8813359
          ],
          "type": "Point"
         },
         "properties": {
          "issue_description": "Residential Special Pickup",
          "issue_type": "Refuse and Recycling",
          "street_address": "1330 Albina Ave",
          "ticket_status": "Closed"
         },
         "type": "Feature"
        },
        {
         "geometry": {
          "coordinates": [
           -122.28076517,
           37.87676939
          ],
          "type": "Point"
         },
         "properties": {
          "issue_description": "Miscellaneous Service Request",
          "issue_type": "General Questions/information",
          "street_address": "1600 California St",
          "ticket_status": "Closed"
         },
         "type": "Feature"
        },
        {
         "geometry": {
          "coordinates": [
           -122.27238463,
           37.87313568
          ],
          "type": "Point"
         },
         "properties": {
          "issue_description": "Residential Cart Size Increase",
          "issue_type": "Refuse and Recycling",
          "street_address": "1906 Bonita Ave",
          "ticket_status": "Closed"
         },
         "type": "Feature"
        },
        {
         "geometry": {
          "coordinates": [
           -122.26777453,
           37.8631677
          ],
          "type": "Point"
         },
         "properties": {
          "issue_description": "Commercial Service Start",
          "issue_type": "Refuse and Recycling",
          "street_address": "2530 Shattuck Ave",
          "ticket_status": "Closed"
         },
         "type": "Feature"
        },
        {
         "geometry": {
          "coordinates": [
           -122.27989788,
           37.88166829
          ],
          "type": "Point"
         },
         "properties": {
          "issue_description": "Residential Site Inspection",
          "issue_type": "Refuse and Recycling",
          "street_address": "1322 Carlotta Ave",
          "ticket_status": "Closed"
         },
         "type": "Feature"
        },
        {
         "geometry": {
          "coordinates": [
           -122.27375372,
           37.88103025
          ],
          "type": "Point"
         },
         "properties": {
          "issue_description": "Commercial Cart Size Increase",
          "issue_type": "Refuse and Recycling",
          "street_address": "1417 M L King Jr Way",
          "ticket_status": "Closed"
         },
         "type": "Feature"
        },
        {
         "geometry": {
          "coordinates": [
           -122.2725883,
           37.87324468
          ],
          "type": "Point"
         },
         "properties": {
          "issue_description": "Sidewalk Problem",
          "issue_type": "Streets, Utilities, and Transportation",
          "street_address": "1910 Hearst Ave",
          "ticket_status": "Closed"
         },
         "type": "Feature"
        },
        {
         "geometry": {
          "coordinates": [
           -122.26297086,
           37.89570667
          ],
          "type": "Point"
         },
         "properties": {
          "issue_description": "Potholes",
          "issue_type": "Streets, Utilities, and Transportation",
          "street_address": "909 Hilldale Ave",
          "ticket_status": "Closed"
         },
         "type": "Feature"
        },
        {
         "geometry": {
          "coordinates": [
           -122.25217272,
           37.8633095
          ],
          "type": "Point"
         },
         "properties": {
          "issue_description": "Residential Site Inspection",
          "issue_type": "Refuse and Recycling",
          "street_address": "2617 Etna St",
          "ticket_status": "Closed"
         },
         "type": "Feature"
        },
        {
         "geometry": {
          "coordinates": [
           -122.27006646,
           37.88331977
          ],
          "type": "Point"
         },
         "properties": {
          "issue_description": "Residential Lost or Stolen Cart",
          "issue_type": "Refuse and Recycling",
          "street_address": "1312 Shattuck Ave",
          "ticket_status": "Closed"
         },
         "type": "Feature"
        },
        {
         "geometry": {
          "coordinates": [
           -122.27981167,
           37.88082437
          ],
          "type": "Point"
         },
         "properties": {
          "issue_description": "Residential Missed Pickup",
          "issue_type": "Refuse and Recycling",
          "street_address": "1345 Mcgee Ave",
          "ticket_status": "Closed"
         },
         "type": "Feature"
        },
        {
         "geometry": {
          "coordinates": [
           -122.29766638,
           37.88064824
          ],
          "type": "Point"
         },
         "properties": {
          "issue_description": "Steam Cleaning",
          "issue_type": "Refuse and Recycling",
          "street_address": "1025 Gilman St",
          "ticket_status": "Closed"
         },
         "type": "Feature"
        },
        {
         "geometry": {
          "coordinates": [
           -122.25966272,
           37.88507514
          ],
          "type": "Point"
         },
         "properties": {
          "issue_description": "Residential Service Start",
          "issue_type": "Refuse and Recycling",
          "street_address": "97 Tamalpais Rd",
          "ticket_status": "Closed"
         },
         "type": "Feature"
        },
        {
         "geometry": {
          "coordinates": [
           -122.27407069,
           37.86282858
          ],
          "type": "Point"
         },
         "properties": {
          "issue_description": "Residential Lost or Stolen Cart",
          "issue_type": "Refuse and Recycling",
          "street_address": "1800 Dwight Way A",
          "ticket_status": "Closed"
         },
         "type": "Feature"
        },
        {
         "geometry": {
          "coordinates": [
           -122.25375852,
           37.86776968
          ],
          "type": "Point"
         },
         "properties": {
          "issue_description": "Commercial Site Inspection",
          "issue_type": "Refuse and Recycling",
          "street_address": "2709 Channing Way",
          "ticket_status": "Open"
         },
         "type": "Feature"
        },
        {
         "geometry": {
          "coordinates": [
           -122.28108884,
           37.85035516
          ],
          "type": "Point"
         },
         "properties": {
          "issue_description": "Illegal Dumping - City Property",
          "issue_type": "Streets, Utilities, and Transportation",
          "street_address": "1340 Sixty-Seventh St",
          "ticket_status": "Closed"
         },
         "type": "Feature"
        },
        {
         "geometry": {
          "coordinates": [
           -122.28317475,
           37.86838242
          ],
          "type": "Point"
         },
         "properties": {
          "issue_description": "Residential Cart Size Increase",
          "issue_type": "Refuse and Recycling",
          "street_address": "7 Acton Cir",
          "ticket_status": "Closed"
         },
         "type": "Feature"
        },
        {
         "geometry": {
          "coordinates": [
           -122.25598731,
           37.86377826
          ],
          "type": "Point"
         },
         "properties": {
          "issue_description": "Miscellaneous Service Request",
          "issue_type": "General Questions/information",
          "street_address": "2545 Hillegass Ave",
          "ticket_status": "Closed"
         },
         "type": "Feature"
        },
        {
         "geometry": {
          "coordinates": [
           -122.25750163,
           37.89335287
          ],
          "type": "Point"
         },
         "properties": {
          "issue_description": "Recycling - City of Berkeley",
          "issue_type": "Refuse and Recycling",
          "street_address": "1070 Creston Rd",
          "ticket_status": "Closed"
         },
         "type": "Feature"
        },
        {
         "geometry": {
          "coordinates": [
           -122.25979394,
           37.88983215
          ],
          "type": "Point"
         },
         "properties": {
          "issue_description": "Illegal Dumping - City Property",
          "issue_type": "Streets, Utilities, and Transportation",
          "street_address": "140 Bret Harte Rd",
          "ticket_status": "Closed"
         },
         "type": "Feature"
        },
        {
         "geometry": {
          "coordinates": [
           -122.28237361,
           37.87007597
          ],
          "type": "Point"
         },
         "properties": {
          "issue_description": "Commercial Missed Pickup",
          "issue_type": "Refuse and Recycling",
          "street_address": "1484 University Ave",
          "ticket_status": "Closed"
         },
         "type": "Feature"
        },
        {
         "geometry": {
          "coordinates": [
           -122.2692916,
           37.87788365
          ],
          "type": "Point"
         },
         "properties": {
          "issue_description": "Sidewalk Problem",
          "issue_type": "Streets, Utilities, and Transportation",
          "street_address": "1620 Shattuck Ave",
          "ticket_status": "Closed"
         },
         "type": "Feature"
        },
        {
         "geometry": {
          "coordinates": [
           -122.26551847,
           37.8972638
          ],
          "type": "Point"
         },
         "properties": {
          "issue_description": "Cart Repair",
          "issue_type": "Refuse and Recycling",
          "street_address": "765 Euclid Ave",
          "ticket_status": "Closed"
         },
         "type": "Feature"
        },
        {
         "geometry": {
          "coordinates": [
           -122.27726695,
           37.87127972
          ],
          "type": "Point"
         },
         "properties": {
          "issue_description": "Commercial Site Inspection",
          "issue_type": "Refuse and Recycling",
          "street_address": "1703 University Ave",
          "ticket_status": "Closed"
         },
         "type": "Feature"
        },
        {
         "geometry": {
          "coordinates": [
           -122.27013117,
           37.87225169
          ],
          "type": "Point"
         },
         "properties": {
          "issue_description": "Stray Cart Removal",
          "issue_type": "Refuse and Recycling",
          "street_address": "2013 University Ave",
          "ticket_status": "Closed"
         },
         "type": "Feature"
        },
        {
         "geometry": {
          "coordinates": [
           -122.27542872,
           37.88005617
          ],
          "type": "Point"
         },
         "properties": {
          "issue_description": "Bin Repair",
          "issue_type": "Refuse and Recycling",
          "street_address": "1430 Josephine St",
          "ticket_status": "Closed"
         },
         "type": "Feature"
        },
        {
         "geometry": {
          "coordinates": [
           -122.28148654,
           37.8905717
          ],
          "type": "Point"
         },
         "properties": {
          "issue_description": "Residential Cart Size Decrease",
          "issue_type": "Refuse and Recycling",
          "street_address": "916 Ensenada Ave",
          "ticket_status": "Closed"
         },
         "type": "Feature"
        },
        {
         "geometry": {
          "coordinates": [
           -122.27114519,
           37.85232227
          ],
          "type": "Point"
         },
         "properties": {
          "issue_description": "Miscellaneous Service Request",
          "issue_type": "General Questions/information",
          "street_address": "3102 M L King Jr Way",
          "ticket_status": "Closed"
         },
         "type": "Feature"
        },
        {
         "geometry": {
          "coordinates": [
           -122.25213953,
           37.86696544
          ],
          "type": "Point"
         },
         "properties": {
          "issue_description": "Commercial Cart Size Increase",
          "issue_type": "Refuse and Recycling",
          "street_address": "2747 Haste St",
          "ticket_status": "Closed"
         },
         "type": "Feature"
        },
        {
         "geometry": {
          "coordinates": [
           -122.28085509,
           37.8762147
          ],
          "type": "Point"
         },
         "properties": {
          "issue_description": "Miscellaneous Service Request",
          "issue_type": "General Questions/information",
          "street_address": "1539 Lincoln St",
          "ticket_status": "Closed"
         },
         "type": "Feature"
        },
        {
         "geometry": {
          "coordinates": [
           -122.27053895,
           37.84986412
          ],
          "type": "Point"
         },
         "properties": {
          "issue_description": "Miscellaneous Internet Request",
          "issue_type": "General Questions/information",
          "street_address": "3225 Adeline St",
          "ticket_status": "Closed"
         },
         "type": "Feature"
        },
        {
         "geometry": {
          "coordinates": [
           -122.28908223,
           37.87285719
          ],
          "type": "Point"
         },
         "properties": {
          "issue_description": "Commercial Lost or Stolen Cart",
          "issue_type": "Refuse and Recycling",
          "street_address": "1220 Francisco St",
          "ticket_status": "Closed"
         },
         "type": "Feature"
        },
        {
         "geometry": {
          "coordinates": [
           -122.29401472,
           37.86900911
          ],
          "type": "Point"
         },
         "properties": {
          "issue_description": "Commercial Cart Size Increase",
          "issue_type": "Refuse and Recycling",
          "street_address": "1001 University Ave",
          "ticket_status": "Closed"
         },
         "type": "Feature"
        },
        {
         "geometry": {
          "coordinates": [
           -122.26643802,
           37.86565623
          ],
          "type": "Point"
         },
         "properties": {
          "issue_description": "Commercial Lost or Stolen Cart",
          "issue_type": "Refuse and Recycling",
          "street_address": "2118 Channing Way",
          "ticket_status": "Closed"
         },
         "type": "Feature"
        },
        {
         "geometry": {
          "coordinates": [
           -122.23532568,
           37.85646324
          ],
          "type": "Point"
         },
         "properties": {
          "issue_description": "Miscellaneous Internet Request",
          "issue_type": "General Questions/information",
          "street_address": "169 Vicente Rd",
          "ticket_status": "Closed"
         },
         "type": "Feature"
        },
        {
         "geometry": {
          "coordinates": [
           -122.28093398,
           37.88068739
          ],
          "type": "Point"
         },
         "properties": {
          "issue_description": "Residential Bulky Pickup",
          "issue_type": "Refuse and Recycling",
          "street_address": "1584 Ada St",
          "ticket_status": "Closed"
         },
         "type": "Feature"
        },
        {
         "geometry": {
          "coordinates": [
           -122.29585248,
           37.85312232
          ],
          "type": "Point"
         },
         "properties": {
          "issue_description": "Commercial Site Inspection",
          "issue_type": "Refuse and Recycling",
          "street_address": "707 Heinz Ave A",
          "ticket_status": "Closed"
         },
         "type": "Feature"
        },
        {
         "geometry": {
          "coordinates": [
           -122.27218728,
           37.84884095
          ],
          "type": "Point"
         },
         "properties": {
          "issue_description": "Commercial Site Inspection",
          "issue_type": "Refuse and Recycling",
          "street_address": "1763 Alcatraz Ave",
          "ticket_status": "Closed"
         },
         "type": "Feature"
        },
        {
         "geometry": {
          "coordinates": [
           -122.27568513,
           37.87969027
          ],
          "type": "Point"
         },
         "properties": {
          "issue_description": "Residential Bulky Pickup",
          "issue_type": "Refuse and Recycling",
          "street_address": "1809 Vine St",
          "ticket_status": "Closed"
         },
         "type": "Feature"
        },
        {
         "geometry": {
          "coordinates": [
           -122.29443599,
           37.8784003
          ],
          "type": "Point"
         },
         "properties": {
          "issue_description": "Residential Customer Complaint",
          "issue_type": "Refuse and Recycling",
          "street_address": "1412 Kains Ave A",
          "ticket_status": "Closed"
         },
         "type": "Feature"
        },
        {
         "geometry": {
          "coordinates": [
           -122.29206775,
           37.86024489
          ],
          "type": "Point"
         },
         "properties": {
          "issue_description": "Miscellaneous Service Request",
          "issue_type": "General Questions/information",
          "street_address": "2512 Ninth St Share",
          "ticket_status": "Closed"
         },
         "type": "Feature"
        },
        {
         "geometry": {
          "coordinates": [
           -122.26679535,
           37.8543362
          ],
          "type": "Point"
         },
         "properties": {
          "issue_description": "Miscellaneous Internet Request",
          "issue_type": "General Questions/information",
          "street_address": "2080 Emerson St",
          "ticket_status": "Closed"
         },
         "type": "Feature"
        },
        {
         "geometry": {
          "coordinates": [
           -122.25032553,
           37.88239326
          ],
          "type": "Point"
         },
         "properties": {
          "issue_description": "Residential Cart Size Decrease",
          "issue_type": "Refuse and Recycling",
          "street_address": "285 Fairlawn Dr",
          "ticket_status": "Closed"
         },
         "type": "Feature"
        },
        {
         "geometry": {
          "coordinates": [
           -122.26952532,
           37.86893896
          ],
          "type": "Point"
         },
         "properties": {
          "issue_description": "Miscellaneous Service Request",
          "issue_type": "General Questions/information",
          "street_address": "2018 Allston Way",
          "ticket_status": "Closed"
         },
         "type": "Feature"
        },
        {
         "geometry": {
          "coordinates": [
           -122.26426088,
           37.89573262
          ],
          "type": "Point"
         },
         "properties": {
          "issue_description": "Residential Missed Pickup Integration",
          "issue_type": "Refuse and Recycling",
          "street_address": "10 Bonnie Ln",
          "ticket_status": "Closed"
         },
         "type": "Feature"
        },
        {
         "geometry": {
          "coordinates": [
           -122.29976659,
           37.86968837
          ],
          "type": "Point"
         },
         "properties": {
          "issue_description": "Call Transfer - Forestry",
          "issue_type": "General Questions/information",
          "street_address": "1812 Fifth St B",
          "ticket_status": "Closed"
         },
         "type": "Feature"
        },
        {
         "geometry": {
          "coordinates": [
           -122.24413491,
           37.85666257
          ],
          "type": "Point"
         },
         "properties": {
          "issue_description": "Tree Pruning",
          "issue_type": "Parks, Trees and Vegetation",
          "street_address": "46 Domingo Ave",
          "ticket_status": "Closed"
         },
         "type": "Feature"
        },
        {
         "geometry": {
          "coordinates": [
           -122.24671247,
           37.85551375
          ],
          "type": "Point"
         },
         "properties": {
          "issue_description": "Cart Repair",
          "issue_type": "Refuse and Recycling",
          "street_address": "17 Oakvale Ave",
          "ticket_status": "Closed"
         },
         "type": "Feature"
        },
        {
         "geometry": {
          "coordinates": [
           -122.27990031,
           37.87724895
          ],
          "type": "Point"
         },
         "properties": {
          "issue_description": "Residential Reminder",
          "issue_type": "Refuse and Recycling",
          "street_address": "1611 Cedar St",
          "ticket_status": "Closed"
         },
         "type": "Feature"
        },
        {
         "geometry": {
          "coordinates": [
           -122.26111908,
           37.87563686
          ],
          "type": "Point"
         },
         "properties": {
          "issue_description": "Commercial Missed Pickup",
          "issue_type": "Refuse and Recycling",
          "street_address": "2424 Ridge Rd",
          "ticket_status": "Closed"
         },
         "type": "Feature"
        },
        {
         "geometry": {
          "coordinates": [
           -122.2445407,
           37.86068466
          ],
          "type": "Point"
         },
         "properties": {
          "issue_description": "Residential Lost or Stolen Cart",
          "issue_type": "Refuse and Recycling",
          "street_address": "3020 Garber St",
          "ticket_status": "Closed"
         },
         "type": "Feature"
        },
        {
         "geometry": {
          "coordinates": [
           -122.2584502,
           37.85654035
          ],
          "type": "Point"
         },
         "properties": {
          "issue_description": "Residential Cart Size Increase",
          "issue_type": "Refuse and Recycling",
          "street_address": "2948 Florence St",
          "ticket_status": "Closed"
         },
         "type": "Feature"
        },
        {
         "geometry": {
          "coordinates": [
           -122.27671237,
           37.85068207
          ],
          "type": "Point"
         },
         "properties": {
          "issue_description": "Graffiti - Internet Request",
          "issue_type": "Environmental Services and Programs",
          "street_address": "3130 California St",
          "ticket_status": "Closed"
         },
         "type": "Feature"
        },
        {
         "geometry": {
          "coordinates": [
           -122.2727192,
           37.87366564
          ],
          "type": "Point"
         },
         "properties": {
          "issue_description": "Miscellaneous Internet Request",
          "issue_type": "General Questions/information",
          "street_address": "1901 Hearst Ave",
          "ticket_status": "Closed"
         },
         "type": "Feature"
        },
        {
         "geometry": {
          "coordinates": [
           -122.28369671,
           37.89561547
          ],
          "type": "Point"
         },
         "properties": {
          "issue_description": "Residential Bulky Pickup",
          "issue_type": "Refuse and Recycling",
          "street_address": "653 Colusa Ave",
          "ticket_status": "Closed"
         },
         "type": "Feature"
        },
        {
         "geometry": {
          "coordinates": [
           -122.28512347,
           37.86329594
          ],
          "type": "Point"
         },
         "properties": {
          "issue_description": "Cart Repair",
          "issue_type": "Refuse and Recycling",
          "street_address": "1322 Channing Way",
          "ticket_status": "Closed"
         },
         "type": "Feature"
        },
        {
         "geometry": {
          "coordinates": [
           -122.26776848,
           37.86363597
          ],
          "type": "Point"
         },
         "properties": {
          "issue_description": "Pressure Washing (steam-cleaning)",
          "issue_type": "Streets, Utilities, and Transportation",
          "street_address": "2506 Shattuck Ave",
          "ticket_status": "Closed"
         },
         "type": "Feature"
        },
        {
         "geometry": {
          "coordinates": [
           -122.25905251,
           37.88516194
          ],
          "type": "Point"
         },
         "properties": {
          "issue_description": "Residential Cart Size Increase",
          "issue_type": "Refuse and Recycling",
          "street_address": "86 Tamalpais Rd",
          "ticket_status": "Closed"
         },
         "type": "Feature"
        },
        {
         "geometry": {
          "coordinates": [
           -122.27751849,
           37.89518251
          ],
          "type": "Point"
         },
         "properties": {
          "issue_description": "Sewer Problem",
          "issue_type": "Streets, Utilities, and Transportation",
          "street_address": "727 The Alameda",
          "ticket_status": "Closed"
         },
         "type": "Feature"
        },
        {
         "geometry": {
          "coordinates": [
           -122.24853948,
           37.88211556
          ],
          "type": "Point"
         },
         "properties": {
          "issue_description": "Residential Customer Complaint",
          "issue_type": "Refuse and Recycling",
          "street_address": "1490 Grizzly Peak Blvd",
          "ticket_status": "Closed"
         },
         "type": "Feature"
        },
        {
         "geometry": {
          "coordinates": [
           -122.3046201,
           37.88032084
          ],
          "type": "Point"
         },
         "properties": {
          "issue_description": "Commercial Service Start",
          "issue_type": "Refuse and Recycling",
          "street_address": "702 Harrison St A",
          "ticket_status": "Closed"
         },
         "type": "Feature"
        },
        {
         "geometry": {
          "coordinates": [
           -122.2549128,
           37.85632341
          ],
          "type": "Point"
         },
         "properties": {
          "issue_description": "Residential Missed Pickup Integration",
          "issue_type": "Refuse and Recycling",
          "street_address": "2953 Hillegass Ave",
          "ticket_status": "Closed"
         },
         "type": "Feature"
        },
        {
         "geometry": {
          "coordinates": [
           -122.25192171,
           37.85893562
          ],
          "type": "Point"
         },
         "properties": {
          "issue_description": "Residential Cart Size Decrease",
          "issue_type": "Refuse and Recycling",
          "street_address": "2827 Cherry St",
          "ticket_status": "Closed"
         },
         "type": "Feature"
        },
        {
         "geometry": {
          "coordinates": [
           -122.2733667,
           37.86960582
          ],
          "type": "Point"
         },
         "properties": {
          "issue_description": "Roll Off Bin",
          "issue_type": "Refuse and Recycling",
          "street_address": "2100 M L King Jr Way",
          "ticket_status": "Closed"
         },
         "type": "Feature"
        },
        {
         "geometry": {
          "coordinates": [
           -122.27088851,
           37.88035644
          ],
          "type": "Point"
         },
         "properties": {
          "issue_description": "Residential Missed Pickup",
          "issue_type": "Refuse and Recycling",
          "street_address": "1442 Henry St",
          "ticket_status": "Closed"
         },
         "type": "Feature"
        },
        {
         "geometry": {
          "coordinates": [
           -122.2560726,
           37.88448675
          ],
          "type": "Point"
         },
         "properties": {
          "issue_description": "Residential Customer Complaint",
          "issue_type": "Refuse and Recycling",
          "street_address": "1337 La Loma Ave",
          "ticket_status": "Closed"
         },
         "type": "Feature"
        },
        {
         "geometry": {
          "coordinates": [
           -122.29540814,
           37.86195713
          ],
          "type": "Point"
         },
         "properties": {
          "issue_description": "Residential Special Pickup",
          "issue_type": "Refuse and Recycling",
          "street_address": "827 Channing Way",
          "ticket_status": "Closed"
         },
         "type": "Feature"
        },
        {
         "geometry": {
          "coordinates": [
           -122.29876636,
           37.86219376
          ],
          "type": "Point"
         },
         "properties": {
          "issue_description": "Commercial Reminder",
          "issue_type": "Refuse and Recycling",
          "street_address": "700 Bancroft Way",
          "ticket_status": "Closed"
         },
         "type": "Feature"
        },
        {
         "geometry": {
          "coordinates": [
           -122.29340114,
           37.87961915
          ],
          "type": "Point"
         },
         "properties": {
          "issue_description": "Roll Off Bin",
          "issue_type": "Refuse and Recycling",
          "street_address": "1335 Stannage Ave",
          "ticket_status": "Closed"
         },
         "type": "Feature"
        },
        {
         "geometry": {
          "coordinates": [
           -122.25514792,
           37.8541062
          ],
          "type": "Point"
         },
         "properties": {
          "issue_description": "Residential Reminder",
          "issue_type": "Refuse and Recycling",
          "street_address": "3038 Hillegass Ave",
          "ticket_status": "Closed"
         },
         "type": "Feature"
        },
        {
         "geometry": {
          "coordinates": [
           -122.26920716,
           37.88410411
          ],
          "type": "Point"
         },
         "properties": {
          "issue_description": "Miscellaneous Service Request",
          "issue_type": "General Questions/information",
          "street_address": "1301 Shattuck Ave",
          "ticket_status": "Closed"
         },
         "type": "Feature"
        },
        {
         "geometry": {
          "coordinates": [
           -122.27696711,
           37.85014382
          ],
          "type": "Point"
         },
         "properties": {
          "issue_description": "Residential Cart Size Decrease",
          "issue_type": "Refuse and Recycling",
          "street_address": "1531 Fairview St",
          "ticket_status": "Closed"
         },
         "type": "Feature"
        },
        {
         "geometry": {
          "coordinates": [
           -122.28985683,
           37.87762631
          ],
          "type": "Point"
         },
         "properties": {
          "issue_description": "Tree Planting",
          "issue_type": "Parks, Trees and Vegetation",
          "street_address": "1485 Northside Ave",
          "ticket_status": "Closed"
         },
         "type": "Feature"
        },
        {
         "geometry": {
          "coordinates": [
           -122.2748159,
           37.89248738
          ],
          "type": "Point"
         },
         "properties": {
          "issue_description": "Residential Customer Complaint",
          "issue_type": "Refuse and Recycling",
          "street_address": "878 Arlington Ave",
          "ticket_status": "Closed"
         },
         "type": "Feature"
        },
        {
         "geometry": {
          "coordinates": [
           -122.28355954,
           37.893503
          ],
          "type": "Point"
         },
         "properties": {
          "issue_description": "Residential Service Start",
          "issue_type": "Refuse and Recycling",
          "street_address": "1719 San Lorenzo Ave",
          "ticket_status": "Closed"
         },
         "type": "Feature"
        },
        {
         "geometry": {
          "coordinates": [
           -122.29051098,
           37.86299732
          ],
          "type": "Point"
         },
         "properties": {
          "issue_description": "Commercial Reminder",
          "issue_type": "Refuse and Recycling",
          "street_address": "2396 San Pablo Ave",
          "ticket_status": "Closed"
         },
         "type": "Feature"
        },
        {
         "geometry": {
          "coordinates": [
           -122.27147562,
           37.87140167
          ],
          "type": "Point"
         },
         "properties": {
          "issue_description": "Commercial Service Start",
          "issue_type": "Refuse and Recycling",
          "street_address": "1952 University Ave",
          "ticket_status": "Closed"
         },
         "type": "Feature"
        },
        {
         "geometry": {
          "coordinates": [
           -122.27292286,
           37.86748838
          ],
          "type": "Point"
         },
         "properties": {
          "issue_description": "Residential Site Inspection",
          "issue_type": "Refuse and Recycling",
          "street_address": "2236 M L King Jr Way",
          "ticket_status": "Closed"
         },
         "type": "Feature"
        },
        {
         "geometry": {
          "coordinates": [
           -122.26668823,
           37.86277015
          ],
          "type": "Point"
         },
         "properties": {
          "issue_description": "Storm Problem",
          "issue_type": "Streets, Utilities, and Transportation",
          "street_address": "2573 Shattuck Ave",
          "ticket_status": "Closed"
         },
         "type": "Feature"
        },
        {
         "geometry": {
          "coordinates": [
           -122.27255556,
           37.85089129
          ],
          "type": "Point"
         },
         "properties": {
          "issue_description": "Sewer Problem",
          "issue_type": "Streets, Utilities, and Transportation",
          "street_address": "3139 Ellis St",
          "ticket_status": "Closed"
         },
         "type": "Feature"
        },
        {
         "geometry": {
          "coordinates": [
           -122.24931259,
           37.86623503
          ],
          "type": "Point"
         },
         "properties": {
          "issue_description": "Commercial Cart Size Decrease",
          "issue_type": "Refuse and Recycling",
          "street_address": "2455 Prospect St",
          "ticket_status": "Closed"
         },
         "type": "Feature"
        },
        {
         "geometry": {
          "coordinates": [
           -122.25127102,
           37.88088109
          ],
          "type": "Point"
         },
         "properties": {
          "issue_description": "Residential Cart Size Decrease",
          "issue_type": "Refuse and Recycling",
          "street_address": "1554 Campus Dr",
          "ticket_status": "Closed"
         },
         "type": "Feature"
        },
        {
         "geometry": {
          "coordinates": [
           -122.26746529,
           37.86997603
          ],
          "type": "Point"
         },
         "properties": {
          "issue_description": "Commercial Special Pickup",
          "issue_type": "Refuse and Recycling",
          "street_address": "2171 Shattuck Ave",
          "ticket_status": "Open"
         },
         "type": "Feature"
        },
        {
         "geometry": {
          "coordinates": [
           -122.28536841,
           37.89127077
          ],
          "type": "Point"
         },
         "properties": {
          "issue_description": "Forestry Miscellaneous",
          "issue_type": "Parks, Trees and Vegetation",
          "street_address": "1561 Solano Ave",
          "ticket_status": "Closed"
         },
         "type": "Feature"
        },
        {
         "geometry": {
          "coordinates": [
           -122.25533455,
           37.8629724
          ],
          "type": "Point"
         },
         "properties": {
          "issue_description": "Illegal Dumping - City Property",
          "issue_type": "Streets, Utilities, and Transportation",
          "street_address": "2610 Benvenue Ave",
          "ticket_status": "Closed"
         },
         "type": "Feature"
        },
        {
         "geometry": {
          "coordinates": [
           -122.26154155,
           37.8670051
          ],
          "type": "Point"
         },
         "properties": {
          "issue_description": "Tree Removal",
          "issue_type": "Parks, Trees and Vegetation",
          "street_address": "2340 Durant Ave",
          "ticket_status": "Open"
         },
         "type": "Feature"
        },
        {
         "geometry": {
          "coordinates": [
           -122.27012141,
           37.87954453
          ],
          "type": "Point"
         },
         "properties": {
          "issue_description": "Residential Missed Pickup",
          "issue_type": "Refuse and Recycling",
          "street_address": "1515 Henry St A",
          "ticket_status": "Closed"
         },
         "type": "Feature"
        },
        {
         "geometry": {
          "coordinates": [
           -122.25337179,
           37.86231477
          ],
          "type": "Point"
         },
         "properties": {
          "issue_description": "Residential Missed Pickup Integration",
          "issue_type": "Refuse and Recycling",
          "street_address": "2645 College Ave",
          "ticket_status": "Closed"
         },
         "type": "Feature"
        },
        {
         "geometry": {
          "coordinates": [
           -122.28862545,
           37.8813531
          ],
          "type": "Point"
         },
         "properties": {
          "issue_description": "Stray Cart Removal",
          "issue_type": "Refuse and Recycling",
          "street_address": "1329 Gilman St",
          "ticket_status": "Closed"
         },
         "type": "Feature"
        },
        {
         "geometry": {
          "coordinates": [
           -122.25402069,
           37.86306275
          ],
          "type": "Point"
         },
         "properties": {
          "issue_description": "Residential Missed Pickup Integration",
          "issue_type": "Refuse and Recycling",
          "street_address": "2616 College Ave",
          "ticket_status": "Closed"
         },
         "type": "Feature"
        },
        {
         "geometry": {
          "coordinates": [
           -122.28648996,
           37.87955181
          ],
          "type": "Point"
         },
         "properties": {
          "issue_description": "Residential Bulky Pickup",
          "issue_type": "Refuse and Recycling",
          "street_address": "1351 Hopkins St",
          "ticket_status": "Closed"
         },
         "type": "Feature"
        },
        {
         "geometry": {
          "coordinates": [
           -122.29923523,
           37.86653084
          ],
          "type": "Point"
         },
         "properties": {
          "issue_description": "Recycling - City of Berkeley",
          "issue_type": "Refuse and Recycling",
          "street_address": "2039 Fourth St",
          "ticket_status": "Closed"
         },
         "type": "Feature"
        },
        {
         "geometry": {
          "coordinates": [
           -122.29007781,
           37.86556899
          ],
          "type": "Point"
         },
         "properties": {
          "issue_description": "Cart Repair",
          "issue_type": "Refuse and Recycling",
          "street_address": "2224 Byron St",
          "ticket_status": "Closed"
         },
         "type": "Feature"
        },
        {
         "geometry": {
          "coordinates": [
           -122.29678427,
           37.86417565
          ],
          "type": "Point"
         },
         "properties": {
          "issue_description": "Residential Bulky Pickup",
          "issue_type": "Refuse and Recycling",
          "street_address": "2224 Sixth St",
          "ticket_status": "Closed"
         },
         "type": "Feature"
        },
        {
         "geometry": {
          "coordinates": [
           -122.2445407,
           37.86068466
          ],
          "type": "Point"
         },
         "properties": {
          "issue_description": "Residential Customer Complaint",
          "issue_type": "Refuse and Recycling",
          "street_address": "3020 Garber St",
          "ticket_status": "Closed"
         },
         "type": "Feature"
        },
        {
         "geometry": {
          "coordinates": [
           -122.27742993,
           37.89169847
          ],
          "type": "Point"
         },
         "properties": {
          "issue_description": "Commercial Site Inspection",
          "issue_type": "Refuse and Recycling",
          "street_address": "1891 Solano Ave",
          "ticket_status": "Closed"
         },
         "type": "Feature"
        },
        {
         "geometry": {
          "coordinates": [
           -122.25872009,
           37.88717687
          ],
          "type": "Point"
         },
         "properties": {
          "issue_description": "Sewer Problem",
          "issue_type": "Streets, Utilities, and Transportation",
          "street_address": "1202 Keith Ave",
          "ticket_status": "Closed"
         },
         "type": "Feature"
        },
        {
         "geometry": {
          "coordinates": [
           -122.28173805,
           37.89311599
          ],
          "type": "Point"
         },
         "properties": {
          "issue_description": "Residential Cart Size Increase",
          "issue_type": "Refuse and Recycling",
          "street_address": "1762 Capistrano Ave",
          "ticket_status": "Closed"
         },
         "type": "Feature"
        },
        {
         "geometry": {
          "coordinates": [
           -122.27608276,
           37.87231304
          ],
          "type": "Point"
         },
         "properties": {
          "issue_description": "Residential Reminder",
          "issue_type": "Refuse and Recycling",
          "street_address": "1735 Berkeley Way",
          "ticket_status": "Closed"
         },
         "type": "Feature"
        },
        {
         "geometry": {
          "coordinates": [
           -122.27094931,
           37.86945314
          ],
          "type": "Point"
         },
         "properties": {
          "issue_description": "Miscellaneous Service Request",
          "issue_type": "General Questions/information",
          "street_address": "2180 Milvia St",
          "ticket_status": "Closed"
         },
         "type": "Feature"
        },
        {
         "geometry": {
          "coordinates": [
           -122.28780272,
           37.85169144
          ],
          "type": "Point"
         },
         "properties": {
          "issue_description": "Illegal Dumping - City Property",
          "issue_type": "Streets, Utilities, and Transportation",
          "street_address": "1038 Ashby Ave",
          "ticket_status": "Closed"
         },
         "type": "Feature"
        },
        {
         "geometry": {
          "coordinates": [
           -122.28496264,
           37.88114728
          ],
          "type": "Point"
         },
         "properties": {
          "issue_description": "Residential Cart Size Decrease",
          "issue_type": "Refuse and Recycling",
          "street_address": "1353 Acton St",
          "ticket_status": "Closed"
         },
         "type": "Feature"
        },
        {
         "geometry": {
          "coordinates": [
           -122.29089111,
           37.85950364
          ],
          "type": "Point"
         },
         "properties": {
          "issue_description": "Commercial Bin Size Decrease",
          "issue_type": "Refuse and Recycling",
          "street_address": "2531 Ninth St",
          "ticket_status": "Closed"
         },
         "type": "Feature"
        },
        {
         "geometry": {
          "coordinates": [
           -122.24439642,
           37.85875434
          ],
          "type": "Point"
         },
         "properties": {
          "issue_description": "Application",
          "issue_type": "Business License",
          "street_address": "2907 Claremont Ave",
          "ticket_status": "Closed"
         },
         "type": "Feature"
        },
        {
         "geometry": {
          "coordinates": [
           -122.28898998,
           37.8582351
          ],
          "type": "Point"
         },
         "properties": {
          "issue_description": "Commercial Service Stop",
          "issue_type": "Refuse and Recycling",
          "street_address": "2626 San Pablo Ave",
          "ticket_status": "Closed"
         },
         "type": "Feature"
        },
        {
         "geometry": {
          "coordinates": [
           -122.28095105,
           37.87123056
          ],
          "type": "Point"
         },
         "properties": {
          "issue_description": "Residential Cart Size Increase",
          "issue_type": "Refuse and Recycling",
          "street_address": "1524 Berkeley Way",
          "ticket_status": "Closed"
         },
         "type": "Feature"
        },
        {
         "geometry": {
          "coordinates": [
           -122.29172847,
           37.85803212
          ],
          "type": "Point"
         },
         "properties": {
          "issue_description": "Commercial Site Inspection",
          "issue_type": "Refuse and Recycling",
          "street_address": "932 Parker St",
          "ticket_status": "Closed"
         },
         "type": "Feature"
        },
        {
         "geometry": {
          "coordinates": [
           -122.27074806,
           37.8591591
          ],
          "type": "Point"
         },
         "properties": {
          "issue_description": "Residential Cart Size Increase",
          "issue_type": "Refuse and Recycling",
          "street_address": "1927 Ward St",
          "ticket_status": "Closed"
         },
         "type": "Feature"
        },
        {
         "geometry": {
          "coordinates": [
           -122.25337179,
           37.86231477
          ],
          "type": "Point"
         },
         "properties": {
          "issue_description": "Commercial Missed Pickup",
          "issue_type": "Refuse and Recycling",
          "street_address": "2645 College Ave",
          "ticket_status": "Closed"
         },
         "type": "Feature"
        },
        {
         "geometry": {
          "coordinates": [
           -122.24926771,
           37.85571987
          ],
          "type": "Point"
         },
         "properties": {
          "issue_description": "Residential Missed Pickup Integration",
          "issue_type": "Refuse and Recycling",
          "street_address": "2826 Webster St",
          "ticket_status": "Closed"
         },
         "type": "Feature"
        },
        {
         "geometry": {
          "coordinates": [
           -122.26392673,
           37.86139524
          ],
          "type": "Point"
         },
         "properties": {
          "issue_description": "Residential Site Inspection",
          "issue_type": "Refuse and Recycling",
          "street_address": "2214 Carleton St Com",
          "ticket_status": "Closed"
         },
         "type": "Feature"
        },
        {
         "geometry": {
          "coordinates": [
           -122.28827633,
           37.88057635
          ],
          "type": "Point"
         },
         "properties": {
          "issue_description": "Stray Cart Removal",
          "issue_type": "Refuse and Recycling",
          "street_address": "1308 Peralta Ave",
          "ticket_status": "Closed"
         },
         "type": "Feature"
        },
        {
         "geometry": {
          "coordinates": [
           -122.26710418,
           37.86513831
          ],
          "type": "Point"
         },
         "properties": {
          "issue_description": "Sewer Problem",
          "issue_type": "Streets, Utilities, and Transportation",
          "street_address": "2429 Shattuck Ave",
          "ticket_status": "Closed"
         },
         "type": "Feature"
        },
        {
         "geometry": {
          "coordinates": [
           -122.28070016,
           37.85648651
          ],
          "type": "Point"
         },
         "properties": {
          "issue_description": "Bin Repair",
          "issue_type": "Refuse and Recycling",
          "street_address": "1425 Oregon St",
          "ticket_status": "Closed"
         },
         "type": "Feature"
        },
        {
         "geometry": {
          "coordinates": [
           -122.24815559,
           37.85287635
          ],
          "type": "Point"
         },
         "properties": {
          "issue_description": "Fire Fuel Chipper and Debris Bin",
          "issue_type": "Refuse and Recycling",
          "street_address": "25 Hillcrest Rd",
          "ticket_status": "Closed"
         },
         "type": "Feature"
        },
        {
         "geometry": {
          "coordinates": [
           -122.28941667,
           37.86320912
          ],
          "type": "Point"
         },
         "properties": {
          "issue_description": "Tree Pruning",
          "issue_type": "Parks, Trees and Vegetation",
          "street_address": "1113 Channing Way",
          "ticket_status": "Closed"
         },
         "type": "Feature"
        },
        {
         "geometry": {
          "coordinates": [
           -122.27147562,
           37.87140167
          ],
          "type": "Point"
         },
         "properties": {
          "issue_description": "Residential Missed Pickup",
          "issue_type": "Refuse and Recycling",
          "street_address": "1960 University Ave",
          "ticket_status": "Closed"
         },
         "type": "Feature"
        },
        {
         "geometry": {
          "coordinates": [
           -122.28632338,
           37.89314205
          ],
          "type": "Point"
         },
         "properties": {
          "issue_description": "Tree Pruning",
          "issue_type": "Parks, Trees and Vegetation",
          "street_address": "787 Neilson St",
          "ticket_status": "Closed"
         },
         "type": "Feature"
        },
        {
         "geometry": {
          "coordinates": [
           -122.26401049,
           37.86686384
          ],
          "type": "Point"
         },
         "properties": {
          "issue_description": "Illegal Dumping - City Property",
          "issue_type": "Streets, Utilities, and Transportation",
          "street_address": "2236 Durant Ave",
          "ticket_status": "Closed"
         },
         "type": "Feature"
        },
        {
         "geometry": {
          "coordinates": [
           -122.29812449,
           37.87750155
          ],
          "type": "Point"
         },
         "properties": {
          "issue_description": "Residential Customer Complaint",
          "issue_type": "Refuse and Recycling",
          "street_address": "1419 Eighth St",
          "ticket_status": "Closed"
         },
         "type": "Feature"
        },
        {
         "geometry": {
          "coordinates": [
           -122.2750109,
           37.87159902
          ],
          "type": "Point"
         },
         "properties": {
          "issue_description": "Miscellaneous Internet Request",
          "issue_type": "General Questions/information",
          "street_address": "1801 University Ave",
          "ticket_status": "Closed"
         },
         "type": "Feature"
        },
        {
         "geometry": {
          "coordinates": [
           -122.2681913,
           37.88954938
          ],
          "type": "Point"
         },
         "properties": {
          "issue_description": "Residential Cart Size Decrease",
          "issue_type": "Refuse and Recycling",
          "street_address": "1028 Oxford St",
          "ticket_status": "Closed"
         },
         "type": "Feature"
        },
        {
         "geometry": {
          "coordinates": [
           -122.27567407,
           37.855209
          ],
          "type": "Point"
         },
         "properties": {
          "issue_description": "Miscellaneous Service Request",
          "issue_type": "General Questions/information",
          "street_address": "1632 Russell St",
          "ticket_status": "Closed"
         },
         "type": "Feature"
        },
        {
         "geometry": {
          "coordinates": [
           -122.28465489,
           37.86146848
          ],
          "type": "Point"
         },
         "properties": {
          "issue_description": "Residential Lost or Stolen Cart",
          "issue_type": "Refuse and Recycling",
          "street_address": "1314 Dwight Way",
          "ticket_status": "Closed"
         },
         "type": "Feature"
        },
        {
         "geometry": {
          "coordinates": [
           -122.27475232,
           37.88411673
          ],
          "type": "Point"
         },
         "properties": {
          "issue_description": "Residential Service Start",
          "issue_type": "Refuse and Recycling",
          "street_address": "1232 M L King Jr Way",
          "ticket_status": "Closed"
         },
         "type": "Feature"
        },
        {
         "geometry": {
          "coordinates": [
           -122.24825165,
           37.88511021
          ],
          "type": "Point"
         },
         "properties": {
          "issue_description": "Residential Cart Size Increase",
          "issue_type": "Refuse and Recycling",
          "street_address": "1401 Grizzly Peak Blvd",
          "ticket_status": "Closed"
         },
         "type": "Feature"
        },
        {
         "geometry": {
          "coordinates": [
           -122.28105822,
           37.8910005
          ],
          "type": "Point"
         },
         "properties": {
          "issue_description": "Commercial Missed Pickup",
          "issue_type": "Refuse and Recycling",
          "street_address": "1742 Solano Ave",
          "ticket_status": "Closed"
         },
         "type": "Feature"
        },
        {
         "geometry": {
          "coordinates": [
           -122.27860576,
           37.87378415
          ],
          "type": "Point"
         },
         "properties": {
          "issue_description": "Sidewalk Problem",
          "issue_type": "Streets, Utilities, and Transportation",
          "street_address": "1625 Delaware St",
          "ticket_status": "Closed"
         },
         "type": "Feature"
        },
        {
         "geometry": {
          "coordinates": [
           -122.26586799,
           37.88235231
          ],
          "type": "Point"
         },
         "properties": {
          "issue_description": "Residential Site Inspection",
          "issue_type": "Refuse and Recycling",
          "street_address": "2224 Rose St",
          "ticket_status": "Closed"
         },
         "type": "Feature"
        },
        {
         "geometry": {
          "coordinates": [
           -122.26454811,
           37.87634985
          ],
          "type": "Point"
         },
         "properties": {
          "issue_description": "Residential Reminder",
          "issue_type": "Refuse and Recycling",
          "street_address": "1770 Arch St",
          "ticket_status": "Closed"
         },
         "type": "Feature"
        },
        {
         "geometry": {
          "coordinates": [
           -122.26649631,
           37.86916048
          ],
          "type": "Point"
         },
         "properties": {
          "issue_description": "Application",
          "issue_type": "Business License",
          "street_address": "2150 Allston Way",
          "ticket_status": "Open"
         },
         "type": "Feature"
        },
        {
         "geometry": {
          "coordinates": [
           -122.28684023,
           37.89256532
          ],
          "type": "Point"
         },
         "properties": {
          "issue_description": "Residential Bulky Pickup",
          "issue_type": "Refuse and Recycling",
          "street_address": "1520 San Lorenzo Ave",
          "ticket_status": "Closed"
         },
         "type": "Feature"
        },
        {
         "geometry": {
          "coordinates": [
           -122.25808924,
           37.86472471
          ],
          "type": "Point"
         },
         "properties": {
          "issue_description": "Commercial Missed Pickup",
          "issue_type": "Refuse and Recycling",
          "street_address": "2510 Regent St",
          "ticket_status": "Closed"
         },
         "type": "Feature"
        },
        {
         "geometry": {
          "coordinates": [
           -122.28998795,
           37.86494366
          ],
          "type": "Point"
         },
         "properties": {
          "issue_description": "Cart Repair",
          "issue_type": "Refuse and Recycling",
          "street_address": "1115 Bancroft Way",
          "ticket_status": "Closed"
         },
         "type": "Feature"
        },
        {
         "geometry": {
          "coordinates": [
           -122.28281492,
           37.85875308
          ],
          "type": "Point"
         },
         "properties": {
          "issue_description": "Residential Service Start",
          "issue_type": "Refuse and Recycling",
          "street_address": "2634 Acton St",
          "ticket_status": "Closed"
         },
         "type": "Feature"
        },
        {
         "geometry": {
          "coordinates": [
           -122.26340758,
           37.85367775
          ],
          "type": "Point"
         },
         "properties": {
          "issue_description": "Tree Pruning",
          "issue_type": "Parks, Trees and Vegetation",
          "street_address": "2215 Prince St",
          "ticket_status": "Closed"
         },
         "type": "Feature"
        },
        {
         "geometry": {
          "coordinates": [
           -122.25957359,
           37.86802406
          ],
          "type": "Point"
         },
         "properties": {
          "issue_description": "Illegal Dumping - City Property",
          "issue_type": "Streets, Utilities, and Transportation",
          "street_address": "2439 Durant Ave",
          "ticket_status": "Closed"
         },
         "type": "Feature"
        },
        {
         "geometry": {
          "coordinates": [
           -122.28429571,
           37.86061793
          ],
          "type": "Point"
         },
         "properties": {
          "issue_description": "Miscellaneous Service Request",
          "issue_type": "General Questions/information",
          "street_address": "1322 Blake St",
          "ticket_status": "Closed"
         },
         "type": "Feature"
        },
        {
         "geometry": {
          "coordinates": [
           -122.27959322,
           37.88220016
          ],
          "type": "Point"
         },
         "properties": {
          "issue_description": "Residential Bulky Pickup",
          "issue_type": "Refuse and Recycling",
          "street_address": "1311 Carlotta Ave",
          "ticket_status": "Closed"
         },
         "type": "Feature"
        },
        {
         "geometry": {
          "coordinates": [
           -122.2528252,
           37.8638103
          ],
          "type": "Point"
         },
         "properties": {
          "issue_description": "Cart Repair",
          "issue_type": "Refuse and Recycling",
          "street_address": "2600 Etna St 1",
          "ticket_status": "Closed"
         },
         "type": "Feature"
        },
        {
         "geometry": {
          "coordinates": [
           -122.28629411,
           37.89236625
          ],
          "type": "Point"
         },
         "properties": {
          "issue_description": "Stray Cart Removal",
          "issue_type": "Refuse and Recycling",
          "street_address": "821 Neilson St",
          "ticket_status": "Closed"
         },
         "type": "Feature"
        },
        {
         "geometry": {
          "coordinates": [
           -122.28186957,
           37.89146735
          ],
          "type": "Point"
         },
         "properties": {
          "issue_description": "Miscellaneous Service Request",
          "issue_type": "General Questions/information",
          "street_address": "1737 Solano Ave",
          "ticket_status": "Closed"
         },
         "type": "Feature"
        },
        {
         "geometry": {
          "coordinates": [
           -122.25732554,
           37.8641446
          ],
          "type": "Point"
         },
         "properties": {
          "issue_description": "Commercial Special Pickup",
          "issue_type": "Refuse and Recycling",
          "street_address": "2531 Regent St",
          "ticket_status": "Closed"
         },
         "type": "Feature"
        },
        {
         "geometry": {
          "coordinates": [
           -122.29423071,
           37.87667572
          ],
          "type": "Point"
         },
         "properties": {
          "issue_description": "Miscellaneous Service Request",
          "issue_type": "General Questions/information",
          "street_address": "1491 San Pablo Ave",
          "ticket_status": "Closed"
         },
         "type": "Feature"
        },
        {
         "geometry": {
          "coordinates": [
           -122.260543,
           37.87555477
          ],
          "type": "Point"
         },
         "properties": {
          "issue_description": "Commercial Cart Size Increase",
          "issue_type": "Refuse and Recycling",
          "street_address": "1832 Euclid Ave",
          "ticket_status": "Closed"
         },
         "type": "Feature"
        },
        {
         "geometry": {
          "coordinates": [
           -122.28363343,
           37.89128654
          ],
          "type": "Point"
         },
         "properties": {
          "issue_description": "Commercial Site Inspection",
          "issue_type": "Refuse and Recycling",
          "street_address": "1631 Solano Ave",
          "ticket_status": "Closed"
         },
         "type": "Feature"
        },
        {
         "geometry": {
          "coordinates": [
           -122.26861288,
           37.87001846
          ],
          "type": "Point"
         },
         "properties": {
          "issue_description": "Commercial Reminder",
          "issue_type": "Refuse and Recycling",
          "street_address": "2150 Shattuck Ave",
          "ticket_status": "Closed"
         },
         "type": "Feature"
        },
        {
         "geometry": {
          "coordinates": [
           -122.29558732,
           37.8820134
          ],
          "type": "Point"
         },
         "properties": {
          "issue_description": "Residential Site Inspection",
          "issue_type": "Refuse and Recycling",
          "street_address": "1208 Kains Ave",
          "ticket_status": "Closed"
         },
         "type": "Feature"
        },
        {
         "geometry": {
          "coordinates": [
           -122.24787412,
           37.88479918
          ],
          "type": "Point"
         },
         "properties": {
          "issue_description": "Cart Repair",
          "issue_type": "Refuse and Recycling",
          "street_address": "1411 Grizzly Peak Blvd",
          "ticket_status": "Closed"
         },
         "type": "Feature"
        },
        {
         "geometry": {
          "coordinates": [
           -122.28878512,
           37.85085922
          ],
          "type": "Point"
         },
         "properties": {
          "issue_description": "Miscellaneous Internet Request",
          "issue_type": "General Questions/information",
          "street_address": "1011 Folger Ave",
          "ticket_status": "Closed"
         },
         "type": "Feature"
        },
        {
         "geometry": {
          "coordinates": [
           -122.26321066,
           37.87901533
          ],
          "type": "Point"
         },
         "properties": {
          "issue_description": "Residential Service Stop",
          "issue_type": "Refuse and Recycling",
          "street_address": "1608 Scenic Ave",
          "ticket_status": "Closed"
         },
         "type": "Feature"
        },
        {
         "geometry": {
          "coordinates": [
           -122.27562107,
           37.87199821
          ],
          "type": "Point"
         },
         "properties": {
          "issue_description": "Illegal Dumping - City Property",
          "issue_type": "Streets, Utilities, and Transportation",
          "street_address": "1918 Grant St",
          "ticket_status": "Closed"
         },
         "type": "Feature"
        },
        {
         "geometry": {
          "coordinates": [
           -122.27631558,
           37.87795787
          ],
          "type": "Point"
         },
         "properties": {
          "issue_description": "Miscellaneous Service Request",
          "issue_type": "General Questions/information",
          "street_address": "1542 Grant St",
          "ticket_status": "Closed"
         },
         "type": "Feature"
        },
        {
         "geometry": {
          "coordinates": [
           -122.2858956,
           37.87089657
          ],
          "type": "Point"
         },
         "properties": {
          "issue_description": "Sewer Problem",
          "issue_type": "Streets, Utilities, and Transportation",
          "street_address": "1349 Berkeley Way",
          "ticket_status": "Closed"
         },
         "type": "Feature"
        },
        {
         "geometry": {
          "coordinates": [
           -122.26557791,
           37.90246667
          ],
          "type": "Point"
         },
         "properties": {
          "issue_description": "Residential Site Inspection",
          "issue_type": "Refuse and Recycling",
          "street_address": "581 Woodmont Ave",
          "ticket_status": "Closed"
         },
         "type": "Feature"
        },
        {
         "geometry": {
          "coordinates": [
           -122.26658877,
           37.8789941
          ],
          "type": "Point"
         },
         "properties": {
          "issue_description": "Commercial Reminder",
          "issue_type": "Refuse and Recycling",
          "street_address": "1555 Oxford St",
          "ticket_status": "Closed"
         },
         "type": "Feature"
        },
        {
         "geometry": {
          "coordinates": [
           -122.29417154,
           37.86182107
          ],
          "type": "Point"
         },
         "properties": {
          "issue_description": "Residential Site Inspection",
          "issue_type": "Refuse and Recycling",
          "street_address": "906 Channing Way",
          "ticket_status": "Closed"
         },
         "type": "Feature"
        },
        {
         "geometry": {
          "coordinates": [
           -122.27101664,
           37.85099335
          ],
          "type": "Point"
         },
         "properties": {
          "issue_description": "Commercial Missed Pickup",
          "issue_type": "Refuse and Recycling",
          "street_address": "3140 M L King Jr Way",
          "ticket_status": "Closed"
         },
         "type": "Feature"
        },
        {
         "geometry": {
          "coordinates": [
           -122.28763921,
           37.8803439
          ],
          "type": "Point"
         },
         "properties": {
          "issue_description": "Forestry Miscellaneous",
          "issue_type": "Parks, Trees and Vegetation",
          "street_address": "1315 Peralta Ave",
          "ticket_status": "Closed"
         },
         "type": "Feature"
        },
        {
         "geometry": {
          "coordinates": [
           -122.2923335,
           37.87285954
          ],
          "type": "Point"
         },
         "properties": {
          "issue_description": "Residential Bulky Pickup",
          "issue_type": "Refuse and Recycling",
          "street_address": "1123 Francisco St",
          "ticket_status": "Closed"
         },
         "type": "Feature"
        },
        {
         "geometry": {
          "coordinates": [
           -122.28611003,
           37.85582421
          ],
          "type": "Point"
         },
         "properties": {
          "issue_description": "Cart Repair",
          "issue_type": "Refuse and Recycling",
          "street_address": "2758 Mathews St",
          "ticket_status": "Closed"
         },
         "type": "Feature"
        },
        {
         "geometry": {
          "coordinates": [
           -122.28374603,
           37.85888566
          ],
          "type": "Point"
         },
         "properties": {
          "issue_description": "Residential Site Inspection",
          "issue_type": "Refuse and Recycling",
          "street_address": "1322 Carleton St",
          "ticket_status": "Closed"
         },
         "type": "Feature"
        },
        {
         "geometry": {
          "coordinates": [
           -122.26179884,
           37.88278257
          ],
          "type": "Point"
         },
         "properties": {
          "issue_description": "Residential Service Start",
          "issue_type": "Refuse and Recycling",
          "street_address": "1406 Euclid Ave 6",
          "ticket_status": "Closed"
         },
         "type": "Feature"
        },
        {
         "geometry": {
          "coordinates": [
           -122.27201053,
           37.88022718
          ],
          "type": "Point"
         },
         "properties": {
          "issue_description": "Cart Repair",
          "issue_type": "Refuse and Recycling",
          "street_address": "1440 Milvia St",
          "ticket_status": "Closed"
         },
         "type": "Feature"
        },
        {
         "geometry": {
          "coordinates": [
           -122.27245859,
           37.8723028
          ],
          "type": "Point"
         },
         "properties": {
          "issue_description": "Sign Repair and Reinstallation",
          "issue_type": "Streets, Utilities, and Transportation",
          "street_address": "1910 Berkeley Way",
          "ticket_status": "Closed"
         },
         "type": "Feature"
        },
        {
         "geometry": {
          "coordinates": [
           -122.27121199,
           37.85836758
          ],
          "type": "Point"
         },
         "properties": {
          "issue_description": "Sewer Problem",
          "issue_type": "Streets, Utilities, and Transportation",
          "street_address": "2745 M L King Jr Way",
          "ticket_status": "Closed"
         },
         "type": "Feature"
        },
        {
         "geometry": {
          "coordinates": [
           -122.2801626,
           37.86024405
          ],
          "type": "Point"
         },
         "properties": {
          "issue_description": "Miscellaneous Service Request",
          "issue_type": "General Questions/information",
          "street_address": "2601 Sacramento St",
          "ticket_status": "Closed"
         },
         "type": "Feature"
        },
        {
         "geometry": {
          "coordinates": [
           -122.28895606,
           37.85812729
          ],
          "type": "Point"
         },
         "properties": {
          "issue_description": "Commercial Lost or Stolen Cart",
          "issue_type": "Refuse and Recycling",
          "street_address": "2630 San Pablo Ave",
          "ticket_status": "Closed"
         },
         "type": "Feature"
        },
        {
         "geometry": {
          "coordinates": [
           -122.25133509,
           37.85472138
          ],
          "type": "Point"
         },
         "properties": {
          "issue_description": "Payment Collection - Refuse and Recycling",
          "issue_type": "Refuse and Recycling",
          "street_address": "2732 Prince St",
          "ticket_status": "Closed"
         },
         "type": "Feature"
        },
        {
         "geometry": {
          "coordinates": [
           -122.28105474,
           37.86940859
          ],
          "type": "Point"
         },
         "properties": {
          "issue_description": "Broken Branch or Tree",
          "issue_type": "Parks, Trees and Vegetation",
          "street_address": "1518 Addison St",
          "ticket_status": "Closed"
         },
         "type": "Feature"
        },
        {
         "geometry": {
          "coordinates": [
           -122.2781256,
           37.88017019
          ],
          "type": "Point"
         },
         "properties": {
          "issue_description": "Residential Bulky Pickup",
          "issue_type": "Refuse and Recycling",
          "street_address": "1409 Cypress St",
          "ticket_status": "Closed"
         },
         "type": "Feature"
        },
        {
         "geometry": {
          "coordinates": [
           -122.28003741,
           37.85460973
          ],
          "type": "Point"
         },
         "properties": {
          "issue_description": "Residential Lost or Stolen Cart",
          "issue_type": "Refuse and Recycling",
          "street_address": "1430 Russell St",
          "ticket_status": "Closed"
         },
         "type": "Feature"
        },
        {
         "geometry": {
          "coordinates": [
           -122.28040074,
           37.85046694
          ],
          "type": "Point"
         },
         "properties": {
          "issue_description": "Stray Cart Removal",
          "issue_type": "Refuse and Recycling",
          "street_address": "1404 Sixty-Seventh St",
          "ticket_status": "Closed"
         },
         "type": "Feature"
        },
        {
         "geometry": {
          "coordinates": [
           -122.2676721,
           37.86162015
          ],
          "type": "Point"
         },
         "properties": {
          "issue_description": "Commercial Site Inspection",
          "issue_type": "Refuse and Recycling",
          "street_address": "2600 Shattuck Ave",
          "ticket_status": "Closed"
         },
         "type": "Feature"
        },
        {
         "geometry": {
          "coordinates": [
           -122.26640612,
           37.88172063
          ],
          "type": "Point"
         },
         "properties": {
          "issue_description": "Residential Site Inspection",
          "issue_type": "Refuse and Recycling",
          "street_address": "1418 Spruce St",
          "ticket_status": "Closed"
         },
         "type": "Feature"
        },
        {
         "geometry": {
          "coordinates": [
           -122.25657815,
           37.86363102
          ],
          "type": "Point"
         },
         "properties": {
          "issue_description": "Bin Repair",
          "issue_type": "Refuse and Recycling",
          "street_address": "2519 Parker St",
          "ticket_status": "Closed"
         },
         "type": "Feature"
        },
        {
         "geometry": {
          "coordinates": [
           -122.27299433,
           37.88365313
          ],
          "type": "Point"
         },
         "properties": {
          "issue_description": "Commercial Bin Size Decrease",
          "issue_type": "Refuse and Recycling",
          "street_address": "1931 Berryman St",
          "ticket_status": "Closed"
         },
         "type": "Feature"
        },
        {
         "geometry": {
          "coordinates": [
           -122.27797194,
           37.84763656
          ],
          "type": "Point"
         },
         "properties": {
          "issue_description": "Commercial Site Inspection",
          "issue_type": "Refuse and Recycling",
          "street_address": "1444 Alcatraz Ave",
          "ticket_status": "Closed"
         },
         "type": "Feature"
        },
        {
         "geometry": {
          "coordinates": [
           -122.26742331,
           37.86833388
          ],
          "type": "Point"
         },
         "properties": {
          "issue_description": "Stray Cart Removal",
          "issue_type": "Refuse and Recycling",
          "street_address": "2261 Shattuck Ave",
          "ticket_status": "Closed"
         },
         "type": "Feature"
        },
        {
         "geometry": {
          "coordinates": [
           -122.27171184,
           37.85168916
          ],
          "type": "Point"
         },
         "properties": {
          "issue_description": "Sewer Problem",
          "issue_type": "Streets, Utilities, and Transportation",
          "street_address": "1821 Woolsey St",
          "ticket_status": "Closed"
         },
         "type": "Feature"
        },
        {
         "geometry": {
          "coordinates": [
           -122.25142614,
           37.88085822
          ],
          "type": "Point"
         },
         "properties": {
          "issue_description": "Residential Lost or Stolen Cart",
          "issue_type": "Refuse and Recycling",
          "street_address": "1550 Campus Dr",
          "ticket_status": "Closed"
         },
         "type": "Feature"
        },
        {
         "geometry": {
          "coordinates": [
           -122.30078167,
           37.86442324
          ],
          "type": "Point"
         },
         "properties": {
          "issue_description": "Commercial Missed Pickup",
          "issue_type": "Refuse and Recycling",
          "street_address": "91 Bolivar Dr A",
          "ticket_status": "Closed"
         },
         "type": "Feature"
        },
        {
         "geometry": {
          "coordinates": [
           -122.27114519,
           37.85232227
          ],
          "type": "Point"
         },
         "properties": {
          "issue_description": "Residential Service Start",
          "issue_type": "Refuse and Recycling",
          "street_address": "3102 M L King Jr Way",
          "ticket_status": "Closed"
         },
         "type": "Feature"
        },
        {
         "geometry": {
          "coordinates": [
           -122.2727192,
           37.87366564
          ],
          "type": "Point"
         },
         "properties": {
          "issue_description": "Miscellaneous Internet Request",
          "issue_type": "General Questions/information",
          "street_address": "1901 Hearst Ave",
          "ticket_status": "Closed"
         },
         "type": "Feature"
        },
        {
         "geometry": {
          "coordinates": [
           -122.27427193,
           37.89646209
          ],
          "type": "Point"
         },
         "properties": {
          "issue_description": "Cart Repair",
          "issue_type": "Refuse and Recycling",
          "street_address": "743 San Diego Rd",
          "ticket_status": "Closed"
         },
         "type": "Feature"
        },
        {
         "geometry": {
          "coordinates": [
           -122.25363437,
           37.89185497
          ],
          "type": "Point"
         },
         "properties": {
          "issue_description": "Residential Bulky Pickup",
          "issue_type": "Refuse and Recycling",
          "street_address": "1108 Park Hills Rd",
          "ticket_status": "Closed"
         },
         "type": "Feature"
        },
        {
         "geometry": {
          "coordinates": [
           -122.28519422,
           37.85416935
          ],
          "type": "Point"
         },
         "properties": {
          "issue_description": "Residential Service Start",
          "issue_type": "Refuse and Recycling",
          "street_address": "1221 Russell St",
          "ticket_status": "Closed"
         },
         "type": "Feature"
        },
        {
         "geometry": {
          "coordinates": [
           -122.26806837,
           37.87284049
          ],
          "type": "Point"
         },
         "properties": {
          "issue_description": "Commercial Reminder",
          "issue_type": "Refuse and Recycling",
          "street_address": "1971 Shattuck Ave",
          "ticket_status": "Closed"
         },
         "type": "Feature"
        },
        {
         "geometry": {
          "coordinates": [
           -122.27569736,
           37.89441804
          ],
          "type": "Point"
         },
         "properties": {
          "issue_description": "Residential Cart Size Decrease",
          "issue_type": "Refuse and Recycling",
          "street_address": "805 Contra Costa Ave",
          "ticket_status": "Closed"
         },
         "type": "Feature"
        },
        {
         "geometry": {
          "coordinates": [
           -122.25894071,
           37.86391917
          ],
          "type": "Point"
         },
         "properties": {
          "issue_description": "Application",
          "issue_type": "Business License",
          "street_address": "2556 Telegraph Ave",
          "ticket_status": "Closed"
         },
         "type": "Feature"
        },
        {
         "geometry": {
          "coordinates": [
           -122.26455222,
           37.89135082
          ],
          "type": "Point"
         },
         "properties": {
          "issue_description": "Cart Repair",
          "issue_type": "Refuse and Recycling",
          "street_address": "1015 Euclid Ave",
          "ticket_status": "Closed"
         },
         "type": "Feature"
        },
        {
         "geometry": {
          "coordinates": [
           -122.29673054,
           37.86024372
          ],
          "type": "Point"
         },
         "properties": {
          "issue_description": "Residential Cart Size Increase",
          "issue_type": "Refuse and Recycling",
          "street_address": "2430 Fifth St D",
          "ticket_status": "Closed"
         },
         "type": "Feature"
        },
        {
         "geometry": {
          "coordinates": [
           -122.27210154,
           37.87704126
          ],
          "type": "Point"
         },
         "properties": {
          "issue_description": "Residential Lost or Stolen Cart",
          "issue_type": "Refuse and Recycling",
          "street_address": "1627 Bonita Ave",
          "ticket_status": "Closed"
         },
         "type": "Feature"
        },
        {
         "geometry": {
          "coordinates": [
           -122.26495253,
           37.85231372
          ],
          "type": "Point"
         },
         "properties": {
          "issue_description": "Residential Missed Pickup Integration",
          "issue_type": "Refuse and Recycling",
          "street_address": "2122 Woolsey St",
          "ticket_status": "Closed"
         },
         "type": "Feature"
        },
        {
         "geometry": {
          "coordinates": [
           -122.26958175,
           37.87073722
          ],
          "type": "Point"
         },
         "properties": {
          "issue_description": "Commercial Site Inspection",
          "issue_type": "Refuse and Recycling",
          "street_address": "2020 Addison St",
          "ticket_status": "Closed"
         },
         "type": "Feature"
        },
        {
         "geometry": {
          "coordinates": [
           -122.3010195,
           37.87528383
          ],
          "type": "Point"
         },
         "properties": {
          "issue_description": "Stray Cart Removal",
          "issue_type": "Refuse and Recycling",
          "street_address": "1465 Fifth St",
          "ticket_status": "Closed"
         },
         "type": "Feature"
        },
        {
         "geometry": {
          "coordinates": [
           -122.2860206,
           37.86862475
          ],
          "type": "Point"
         },
         "properties": {
          "issue_description": "Residential Bulky Pickup",
          "issue_type": "Refuse and Recycling",
          "street_address": "2107 West St",
          "ticket_status": "Closed"
         },
         "type": "Feature"
        },
        {
         "geometry": {
          "coordinates": [
           -122.27397271,
           37.86516518
          ],
          "type": "Point"
         },
         "properties": {
          "issue_description": "Potholes",
          "issue_type": "Streets, Utilities, and Transportation",
          "street_address": "1825 Channing Way",
          "ticket_status": "Closed"
         },
         "type": "Feature"
        },
        {
         "geometry": {
          "coordinates": [
           -122.28482558,
           37.8519337
          ],
          "type": "Point"
         },
         "properties": {
          "issue_description": "Residential Missed Pickup",
          "issue_type": "Refuse and Recycling",
          "street_address": "1235 Carrison St",
          "ticket_status": "Closed"
         },
         "type": "Feature"
        },
        {
         "geometry": {
          "coordinates": [
           -122.25999909,
           37.85689649
          ],
          "type": "Point"
         },
         "properties": {
          "issue_description": "Roll Off Bin",
          "issue_type": "Refuse and Recycling",
          "street_address": "2920 Telegraph Ave",
          "ticket_status": "Closed"
         },
         "type": "Feature"
        },
        {
         "geometry": {
          "coordinates": [
           -122.28837882,
           37.85635527
          ],
          "type": "Point"
         },
         "properties": {
          "issue_description": "Commercial Missed Pickup",
          "issue_type": "Refuse and Recycling",
          "street_address": "2748 San Pablo Ave",
          "ticket_status": "Closed"
         },
         "type": "Feature"
        },
        {
         "geometry": {
          "coordinates": [
           -122.26796993,
           37.86518274
          ],
          "type": "Point"
         },
         "properties": {
          "issue_description": "Commercial Cart Size Decrease",
          "issue_type": "Refuse and Recycling",
          "street_address": "2430 Shattuck Ave",
          "ticket_status": "Closed"
         },
         "type": "Feature"
        },
        {
         "geometry": {
          "coordinates": [
           -122.25881624,
           37.86560445
          ],
          "type": "Point"
         },
         "properties": {
          "issue_description": "Commercial Reminder",
          "issue_type": "Refuse and Recycling",
          "street_address": "2468 Telegraph Ave A",
          "ticket_status": "Closed"
         },
         "type": "Feature"
        },
        {
         "geometry": {
          "coordinates": [
           -122.27653398,
           37.87131387
          ],
          "type": "Point"
         },
         "properties": {
          "issue_description": "Commercial Site Inspection",
          "issue_type": "Refuse and Recycling",
          "street_address": "1725 University Ave",
          "ticket_status": "Closed"
         },
         "type": "Feature"
        },
        {
         "geometry": {
          "coordinates": [
           -122.27725599,
           37.85377787
          ],
          "type": "Point"
         },
         "properties": {
          "issue_description": "Residential Site Inspection",
          "issue_type": "Refuse and Recycling",
          "street_address": "2974 California St",
          "ticket_status": "Closed"
         },
         "type": "Feature"
        },
        {
         "geometry": {
          "coordinates": [
           -122.27048511,
           37.84773069
          ],
          "type": "Point"
         },
         "properties": {
          "issue_description": "Residential Customer Complaint",
          "issue_type": "Refuse and Recycling",
          "street_address": "1810 Sixty-Third St",
          "ticket_status": "Closed"
         },
         "type": "Feature"
        },
        {
         "geometry": {
          "coordinates": [
           -122.2792592,
           37.89197901
          ],
          "type": "Point"
         },
         "properties": {
          "issue_description": "Residential Missed Pickup Integration",
          "issue_type": "Refuse and Recycling",
          "street_address": "1820 Catalina Ave",
          "ticket_status": "Closed"
         },
         "type": "Feature"
        },
        {
         "geometry": {
          "coordinates": [
           -122.27028235,
           37.89371581
          ],
          "type": "Point"
         },
         "properties": {
          "issue_description": "Residential Cart Size Decrease",
          "issue_type": "Refuse and Recycling",
          "street_address": "837 San Luis Rd",
          "ticket_status": "Closed"
         },
         "type": "Feature"
        },
        {
         "geometry": {
          "coordinates": [
           -122.25345227,
           37.89174855
          ],
          "type": "Point"
         },
         "properties": {
          "issue_description": "Residential Lost or Stolen Cart",
          "issue_type": "Refuse and Recycling",
          "street_address": "1114 Park Hills Rd",
          "ticket_status": "Closed"
         },
         "type": "Feature"
        },
        {
         "geometry": {
          "coordinates": [
           -122.28721801,
           37.8593474
          ],
          "type": "Point"
         },
         "properties": {
          "issue_description": "Residential Missed Pickup Integration",
          "issue_type": "Refuse and Recycling",
          "street_address": "1136 Parker St",
          "ticket_status": "Closed"
         },
         "type": "Feature"
        },
        {
         "geometry": {
          "coordinates": [
           -122.27110984,
           37.857576
          ],
          "type": "Point"
         },
         "properties": {
          "issue_description": "Cart Repair",
          "issue_type": "Refuse and Recycling",
          "street_address": "2809 M L King Jr Way",
          "ticket_status": "Closed"
         },
         "type": "Feature"
        },
        {
         "geometry": {
          "coordinates": [
           -122.27742993,
           37.89169847
          ],
          "type": "Point"
         },
         "properties": {
          "issue_description": "Application",
          "issue_type": "Business License",
          "street_address": "898 The Alameda",
          "ticket_status": "Closed"
         },
         "type": "Feature"
        },
        {
         "geometry": {
          "coordinates": [
           -122.29255886,
           37.87980947
          ],
          "type": "Point"
         },
         "properties": {
          "issue_description": "Recycling - City of Berkeley",
          "issue_type": "Refuse and Recycling",
          "street_address": "1335 Cornell Ave",
          "ticket_status": "Closed"
         },
         "type": "Feature"
        },
        {
         "geometry": {
          "coordinates": [
           -122.27627892,
           37.86255051
          ],
          "type": "Point"
         },
         "properties": {
          "issue_description": "Residential Service Day Change",
          "issue_type": "Refuse and Recycling",
          "street_address": "1700 Dwight Way",
          "ticket_status": "Closed"
         },
         "type": "Feature"
        },
        {
         "geometry": {
          "coordinates": [
           -122.26838978,
           37.87520036
          ],
          "type": "Point"
         },
         "properties": {
          "issue_description": "Miscellaneous Service Request",
          "issue_type": "General Questions/information",
          "street_address": "1797 Shattuck Ave",
          "ticket_status": "Closed"
         },
         "type": "Feature"
        },
        {
         "geometry": {
          "coordinates": [
           -122.28898144,
           37.85652692
          ],
          "type": "Point"
         },
         "properties": {
          "issue_description": "Cart Repair",
          "issue_type": "Refuse and Recycling",
          "street_address": "2741 Tenth St",
          "ticket_status": "Closed"
         },
         "type": "Feature"
        },
        {
         "geometry": {
          "coordinates": [
           -122.2903336,
           37.88130248
          ],
          "type": "Point"
         },
         "properties": {
          "issue_description": "Commercial Reminder",
          "issue_type": "Refuse and Recycling",
          "street_address": "1280 Gilman St",
          "ticket_status": "Closed"
         },
         "type": "Feature"
        },
        {
         "geometry": {
          "coordinates": [
           -122.2414159,
           37.85541044
          ],
          "type": "Point"
         },
         "properties": {
          "issue_description": "Residential Service Stop",
          "issue_type": "Refuse and Recycling",
          "street_address": "73 El Camino Real",
          "ticket_status": "Closed"
         },
         "type": "Feature"
        },
        {
         "geometry": {
          "coordinates": [
           -122.25951047,
           37.87767925
          ],
          "type": "Point"
         },
         "properties": {
          "issue_description": "Illegal Dumping - City Property",
          "issue_type": "Streets, Utilities, and Transportation",
          "street_address": "2564 Virginia St",
          "ticket_status": "Closed"
         },
         "type": "Feature"
        },
        {
         "geometry": {
          "coordinates": [
           -122.28282166,
           37.87273462
          ],
          "type": "Point"
         },
         "properties": {
          "issue_description": "Residential Service Start",
          "issue_type": "Refuse and Recycling",
          "street_address": "1438 Delaware St",
          "ticket_status": "Closed"
         },
         "type": "Feature"
        },
        {
         "geometry": {
          "coordinates": [
           -122.28021741,
           37.88281017
          ],
          "type": "Point"
         },
         "properties": {
          "issue_description": "Recycling - City of Berkeley",
          "issue_type": "Refuse and Recycling",
          "street_address": "1655 Hopkins St",
          "ticket_status": "Closed"
         },
         "type": "Feature"
        },
        {
         "geometry": {
          "coordinates": [
           -122.27813642,
           37.85542488
          ],
          "type": "Point"
         },
         "properties": {
          "issue_description": "Residential Bin Size Decrease",
          "issue_type": "Refuse and Recycling",
          "street_address": "1529 Russell St",
          "ticket_status": "Closed"
         },
         "type": "Feature"
        },
        {
         "geometry": {
          "coordinates": [
           -122.26440652,
           37.88285882
          ],
          "type": "Point"
         },
         "properties": {
          "issue_description": "Residential Bulky Pickup",
          "issue_type": "Refuse and Recycling",
          "street_address": "2312 Rose St",
          "ticket_status": "Closed"
         },
         "type": "Feature"
        },
        {
         "geometry": {
          "coordinates": [
           -122.25348268,
           37.86729472
          ],
          "type": "Point"
         },
         "properties": {
          "issue_description": "Commercial Reminder",
          "issue_type": "Refuse and Recycling",
          "street_address": "2710 Channing Way",
          "ticket_status": "Closed"
         },
         "type": "Feature"
        },
        {
         "geometry": {
          "coordinates": [
           -122.26376834,
           37.8669499
          ],
          "type": "Point"
         },
         "properties": {
          "issue_description": "Commercial Lost or Stolen Cart",
          "issue_type": "Refuse and Recycling",
          "street_address": "2298 Durant Ave",
          "ticket_status": "Closed"
         },
         "type": "Feature"
        },
        {
         "geometry": {
          "coordinates": [
           -122.26469774,
           37.85946614
          ],
          "type": "Point"
         },
         "properties": {
          "issue_description": "Residential Missed Pickup",
          "issue_type": "Refuse and Recycling",
          "street_address": "2152 Ward St",
          "ticket_status": "Closed"
         },
         "type": "Feature"
        },
        {
         "geometry": {
          "coordinates": [
           -122.26673063,
           37.89354678
          ],
          "type": "Point"
         },
         "properties": {
          "issue_description": "Residential Cart Size Increase",
          "issue_type": "Refuse and Recycling",
          "street_address": "2356 Marin Ave",
          "ticket_status": "Closed"
         },
         "type": "Feature"
        },
        {
         "geometry": {
          "coordinates": [
           -122.2701916,
           37.90192112
          ],
          "type": "Point"
         },
         "properties": {
          "issue_description": "Stray Cart Removal",
          "issue_type": "Refuse and Recycling",
          "street_address": "499 Spruce St",
          "ticket_status": "Closed"
         },
         "type": "Feature"
        },
        {
         "geometry": {
          "coordinates": [
           -122.26521443,
           37.86671161
          ],
          "type": "Point"
         },
         "properties": {
          "issue_description": "Residential Reminder",
          "issue_type": "Refuse and Recycling",
          "street_address": "2210 Durant Ave",
          "ticket_status": "Closed"
         },
         "type": "Feature"
        },
        {
         "geometry": {
          "coordinates": [
           -122.28475516,
           37.86370336
          ],
          "type": "Point"
         },
         "properties": {
          "issue_description": "Residential Missed Pickup Integration",
          "issue_type": "Refuse and Recycling",
          "street_address": "2383 West St",
          "ticket_status": "Closed"
         },
         "type": "Feature"
        },
        {
         "geometry": {
          "coordinates": [
           -122.27682584,
           37.87755877
          ],
          "type": "Point"
         },
         "properties": {
          "issue_description": "Residential Service Start",
          "issue_type": "Refuse and Recycling",
          "street_address": "1727 Cedar St",
          "ticket_status": "Closed"
         },
         "type": "Feature"
        },
        {
         "geometry": {
          "coordinates": [
           -122.27671237,
           37.85068207
          ],
          "type": "Point"
         },
         "properties": {
          "issue_description": "Illegal Dumping - Internet Request",
          "issue_type": "Streets, Utilities, and Transportation",
          "street_address": "3130 California St",
          "ticket_status": "Closed"
         },
         "type": "Feature"
        },
        {
         "geometry": {
          "coordinates": [
           -122.25041585,
           37.88660526
          ],
          "type": "Point"
         },
         "properties": {
          "issue_description": "Miscellaneous Service Request",
          "issue_type": "General Questions/information",
          "street_address": "1325 Grizzly Peak Blvd",
          "ticket_status": "Closed"
         },
         "type": "Feature"
        },
        {
         "geometry": {
          "coordinates": [
           -122.26952466,
           37.87261333
          ],
          "type": "Point"
         },
         "properties": {
          "issue_description": "Pay & Display Repair",
          "issue_type": "Streets, Utilities, and Transportation",
          "street_address": "2012 Berkeley Way",
          "ticket_status": "Closed"
         },
         "type": "Feature"
        },
        {
         "geometry": {
          "coordinates": [
           -122.28125898,
           37.87087033
          ],
          "type": "Point"
         },
         "properties": {
          "issue_description": "Commercial Service Day Change",
          "issue_type": "Refuse and Recycling",
          "street_address": "1535 University Ave",
          "ticket_status": "Closed"
         },
         "type": "Feature"
        },
        {
         "geometry": {
          "coordinates": [
           -122.25988257,
           37.86205967
          ],
          "type": "Point"
         },
         "properties": {
          "issue_description": "Residential Service Day Change",
          "issue_type": "Refuse and Recycling",
          "street_address": "2400 Carleton St",
          "ticket_status": "Closed"
         },
         "type": "Feature"
        },
        {
         "geometry": {
          "coordinates": [
           -122.25359936,
           37.868634
          ],
          "type": "Point"
         },
         "properties": {
          "issue_description": "Commercial Lost or Stolen Cart",
          "issue_type": "Refuse and Recycling",
          "street_address": "2723 Durant Ave",
          "ticket_status": "Closed"
         },
         "type": "Feature"
        },
        {
         "geometry": {
          "coordinates": [
           -122.26279023,
           37.8570661
          ],
          "type": "Point"
         },
         "properties": {
          "issue_description": "Residential Missed Pickup Integration",
          "issue_type": "Refuse and Recycling",
          "street_address": "2218 Russell St",
          "ticket_status": "Closed"
         },
         "type": "Feature"
        },
        {
         "geometry": {
          "coordinates": [
           -122.26514225,
           37.87682872
          ],
          "type": "Point"
         },
         "properties": {
          "issue_description": "Recycling - City of Berkeley",
          "issue_type": "Refuse and Recycling",
          "street_address": "1715 Spruce St",
          "ticket_status": "Closed"
         },
         "type": "Feature"
        },
        {
         "geometry": {
          "coordinates": [
           -122.24587193,
           37.86050475
          ],
          "type": "Point"
         },
         "properties": {
          "issue_description": "Residential Bulky Pickup",
          "issue_type": "Refuse and Recycling",
          "street_address": "2800 Claremont Blvd",
          "ticket_status": "Closed"
         },
         "type": "Feature"
        },
        {
         "geometry": {
          "coordinates": [
           -122.28694882,
           37.85523882
          ],
          "type": "Point"
         },
         "properties": {
          "issue_description": "Residential Missed Pickup Integration",
          "issue_type": "Refuse and Recycling",
          "street_address": "1115 Oregon St",
          "ticket_status": "Closed"
         },
         "type": "Feature"
        },
        {
         "geometry": {
          "coordinates": [
           -122.27358452,
           37.87932857
          ],
          "type": "Point"
         },
         "properties": {
          "issue_description": "Sewer Problem",
          "issue_type": "Streets, Utilities, and Transportation",
          "street_address": "1507 M L King Jr Way",
          "ticket_status": "Closed"
         },
         "type": "Feature"
        },
        {
         "geometry": {
          "coordinates": [
           -122.27426409,
           37.85224317
          ],
          "type": "Point"
         },
         "properties": {
          "issue_description": "Stray Cart Removal",
          "issue_type": "Refuse and Recycling",
          "street_address": "1653 Prince St",
          "ticket_status": "Closed"
         },
         "type": "Feature"
        },
        {
         "geometry": {
          "coordinates": [
           -122.24801301,
           37.8848991
          ],
          "type": "Point"
         },
         "properties": {
          "issue_description": "Forestry Miscellaneous",
          "issue_type": "Parks, Trees and Vegetation",
          "street_address": "1407 Grizzly Peak Blvd",
          "ticket_status": "Closed"
         },
         "type": "Feature"
        },
        {
         "geometry": {
          "coordinates": [
           -122.28543058,
           37.85214936
          ],
          "type": "Point"
         },
         "properties": {
          "issue_description": "Commercial Cart Size Increase",
          "issue_type": "Refuse and Recycling",
          "street_address": "1226 Ashby Ave",
          "ticket_status": "Closed"
         },
         "type": "Feature"
        },
        {
         "geometry": {
          "coordinates": [
           -122.29237367,
           37.86858601
          ],
          "type": "Point"
         },
         "properties": {
          "issue_description": "Commercial Reminder",
          "issue_type": "Refuse and Recycling",
          "street_address": "2026 San Pablo Ave",
          "ticket_status": "Closed"
         },
         "type": "Feature"
        },
        {
         "geometry": {
          "coordinates": [
           -122.28167888,
           37.85477908
          ],
          "type": "Point"
         },
         "properties": {
          "issue_description": "Cart Repair",
          "issue_type": "Refuse and Recycling",
          "street_address": "2827 Acton St",
          "ticket_status": "Closed"
         },
         "type": "Feature"
        },
        {
         "geometry": {
          "coordinates": [
           -122.29862187,
           37.86463193
          ],
          "type": "Point"
         },
         "properties": {
          "issue_description": "Commercial Site Inspection",
          "issue_type": "Refuse and Recycling",
          "street_address": "724 Allston Way",
          "ticket_status": "Closed"
         },
         "type": "Feature"
        },
        {
         "geometry": {
          "coordinates": [
           -122.28019966,
           37.84786126
          ],
          "type": "Point"
         },
         "properties": {
          "issue_description": "Residential Missed Pickup Integration",
          "issue_type": "Refuse and Recycling",
          "street_address": "1329 Alcatraz Ave",
          "ticket_status": "Closed"
         },
         "type": "Feature"
        },
        {
         "geometry": {
          "coordinates": [
           -122.29867105,
           37.86988989
          ],
          "type": "Point"
         },
         "properties": {
          "issue_description": "Residential Lost or Stolen Cart",
          "issue_type": "Refuse and Recycling",
          "street_address": "1814 Sixth St",
          "ticket_status": "Closed"
         },
         "type": "Feature"
        },
        {
         "geometry": {
          "coordinates": [
           -122.26304901,
           37.87489456
          ],
          "type": "Point"
         },
         "properties": {
          "issue_description": "Residential Site Inspection",
          "issue_type": "Refuse and Recycling",
          "street_address": "2317 Hearst Ave",
          "ticket_status": "Closed"
         },
         "type": "Feature"
        },
        {
         "geometry": {
          "coordinates": [
           -122.28015448,
           37.86681304
          ],
          "type": "Point"
         },
         "properties": {
          "issue_description": "Residential Lost or Stolen Cart",
          "issue_type": "Refuse and Recycling",
          "street_address": "2225 Spaulding Ave",
          "ticket_status": "Closed"
         },
         "type": "Feature"
        },
        {
         "geometry": {
          "coordinates": [
           -122.24964745,
           37.86839207
          ],
          "type": "Point"
         },
         "properties": {
          "issue_description": "Illegal Dumping - City Property",
          "issue_type": "Streets, Utilities, and Transportation",
          "street_address": "2347 Prospect St",
          "ticket_status": "Closed"
         },
         "type": "Feature"
        },
        {
         "geometry": {
          "coordinates": [
           -122.27723822,
           37.88828118
          ],
          "type": "Point"
         },
         "properties": {
          "issue_description": "Call Transfer - Forestry",
          "issue_type": "General Questions/information",
          "street_address": "1015 Fresno Ave",
          "ticket_status": "Closed"
         },
         "type": "Feature"
        },
        {
         "geometry": {
          "coordinates": [
           -122.26237814,
           37.87904075
          ],
          "type": "Point"
         },
         "properties": {
          "issue_description": "Tree Pruning",
          "issue_type": "Parks, Trees and Vegetation",
          "street_address": "2422 Cedar St",
          "ticket_status": "Closed"
         },
         "type": "Feature"
        },
        {
         "geometry": {
          "coordinates": [
           -122.28130348,
           37.8982572
          ],
          "type": "Point"
         },
         "properties": {
          "issue_description": "Cart Repair",
          "issue_type": "Refuse and Recycling",
          "street_address": "575 The Alameda",
          "ticket_status": "Closed"
         },
         "type": "Feature"
        },
        {
         "geometry": {
          "coordinates": [
           -122.27626501,
           37.87500401
          ],
          "type": "Point"
         },
         "properties": {
          "issue_description": "Residential Missed Pickup",
          "issue_type": "Refuse and Recycling",
          "street_address": "1737 Francisco St",
          "ticket_status": "Closed"
         },
         "type": "Feature"
        },
        {
         "geometry": {
          "coordinates": [
           -122.26302782,
           37.89085607
          ],
          "type": "Point"
         },
         "properties": {
          "issue_description": "Call Transfer - Public Works",
          "issue_type": "General Questions/information",
          "street_address": "1075 Keith Ave",
          "ticket_status": "Closed"
         },
         "type": "Feature"
        },
        {
         "geometry": {
          "coordinates": [
           -122.25404457,
           37.86224764
          ],
          "type": "Point"
         },
         "properties": {
          "issue_description": "Commercial Special Pickup",
          "issue_type": "Refuse and Recycling",
          "street_address": "2640 College Ave",
          "ticket_status": "Closed"
         },
         "type": "Feature"
        },
        {
         "geometry": {
          "coordinates": [
           -122.27184292,
           37.87007864
          ],
          "type": "Point"
         },
         "properties": {
          "issue_description": "Miscellaneous Service Request",
          "issue_type": "General Questions/information",
          "street_address": "1931 Center St",
          "ticket_status": "Closed"
         },
         "type": "Feature"
        },
        {
         "geometry": {
          "coordinates": [
           -122.26239179,
           37.88225592
          ],
          "type": "Point"
         },
         "properties": {
          "issue_description": "Residential Special Pickup",
          "issue_type": "Refuse and Recycling",
          "street_address": "1427 Hawthorne Ter",
          "ticket_status": "Closed"
         },
         "type": "Feature"
        },
        {
         "geometry": {
          "coordinates": [
           -122.26987122,
           37.8705255
          ],
          "type": "Point"
         },
         "properties": {
          "issue_description": "Miscellaneous Service Request",
          "issue_type": "General Questions/information",
          "street_address": "2025 Center St",
          "ticket_status": "Closed"
         },
         "type": "Feature"
        },
        {
         "geometry": {
          "coordinates": [
           -122.27598692,
           37.85248506
          ],
          "type": "Point"
         },
         "properties": {
          "issue_description": "Roll Off Bin",
          "issue_type": "Refuse and Recycling",
          "street_address": "1614 Tyler St",
          "ticket_status": "Closed"
         },
         "type": "Feature"
        },
        {
         "geometry": {
          "coordinates": [
           -122.27056961,
           37.87293501
          ],
          "type": "Point"
         },
         "properties": {
          "issue_description": "Residential Cart Size Increase",
          "issue_type": "Refuse and Recycling",
          "street_address": "1921 Milvia St",
          "ticket_status": "Closed"
         },
         "type": "Feature"
        },
        {
         "geometry": {
          "coordinates": [
           -122.26749054,
           37.86965065
          ],
          "type": "Point"
         },
         "properties": {
          "issue_description": "Commercial Reminder",
          "issue_type": "Refuse and Recycling",
          "street_address": "2187 Shattuck Ave",
          "ticket_status": "Closed"
         },
         "type": "Feature"
        },
        {
         "geometry": {
          "coordinates": [
           -122.27001548,
           37.8482764
          ],
          "type": "Point"
         },
         "properties": {
          "issue_description": "Sidewalk Problem",
          "issue_type": "Streets, Utilities, and Transportation",
          "street_address": "1823 Sixty-Third St",
          "ticket_status": "Closed"
         },
         "type": "Feature"
        },
        {
         "geometry": {
          "coordinates": [
           -122.25329537,
           37.8572677
          ],
          "type": "Point"
         },
         "properties": {
          "issue_description": "Cart Repair",
          "issue_type": "Refuse and Recycling",
          "street_address": "2944 College Ave",
          "ticket_status": "Closed"
         },
         "type": "Feature"
        },
        {
         "geometry": {
          "coordinates": [
           -122.25003523,
           37.89204957
          ],
          "type": "Point"
         },
         "properties": {
          "issue_description": "Fire Fuel Chipper and Debris Bin",
          "issue_type": "Refuse and Recycling",
          "street_address": "1169 Park Hills Rd",
          "ticket_status": "Closed"
         },
         "type": "Feature"
        },
        {
         "geometry": {
          "coordinates": [
           -122.28543058,
           37.85214936
          ],
          "type": "Point"
         },
         "properties": {
          "issue_description": "Commercial Customer Complaint",
          "issue_type": "Refuse and Recycling",
          "street_address": "1226 Ashby Ave",
          "ticket_status": "Closed"
         },
         "type": "Feature"
        },
        {
         "geometry": {
          "coordinates": [
           -122.26871854,
           37.89082616
          ],
          "type": "Point"
         },
         "properties": {
          "issue_description": "Residential Cart Size Increase",
          "issue_type": "Refuse and Recycling",
          "street_address": "940 Oxford St",
          "ticket_status": "Closed"
         },
         "type": "Feature"
        },
        {
         "geometry": {
          "coordinates": [
           -122.26901146,
           37.87174459
          ],
          "type": "Point"
         },
         "properties": {
          "issue_description": "Commercial Reminder",
          "issue_type": "Refuse and Recycling",
          "street_address": "2066 University Ave",
          "ticket_status": "Closed"
         },
         "type": "Feature"
        },
        {
         "geometry": {
          "coordinates": [
           -122.28109076,
           37.8933592
          ],
          "type": "Point"
         },
         "properties": {
          "issue_description": "Miscellaneous Service Request",
          "issue_type": "General Questions/information",
          "street_address": "816 Colusa Ave",
          "ticket_status": "Closed"
         },
         "type": "Feature"
        },
        {
         "geometry": {
          "coordinates": [
           -122.25179476,
           37.86611624
          ],
          "type": "Point"
         },
         "properties": {
          "issue_description": "Commercial Special Pickup",
          "issue_type": "Refuse and Recycling",
          "street_address": "2498 Piedmont Ave",
          "ticket_status": "Closed"
         },
         "type": "Feature"
        },
        {
         "geometry": {
          "coordinates": [
           -122.27251291,
           37.87028684
          ],
          "type": "Point"
         },
         "properties": {
          "issue_description": "Commercial Reminder",
          "issue_type": "Refuse and Recycling",
          "street_address": "2105 M L King Jr Way",
          "ticket_status": "Closed"
         },
         "type": "Feature"
        },
        {
         "geometry": {
          "coordinates": [
           -122.27184764,
           37.88008506
          ],
          "type": "Point"
         },
         "properties": {
          "issue_description": "Tree Removal",
          "issue_type": "Parks, Trees and Vegetation",
          "street_address": "1941 Vine St",
          "ticket_status": "Closed"
         },
         "type": "Feature"
        },
        {
         "geometry": {
          "coordinates": [
           -122.27421413,
           37.85076755
          ],
          "type": "Point"
         },
         "properties": {
          "issue_description": "Residential Service Start",
          "issue_type": "Refuse and Recycling",
          "street_address": "3134 King St",
          "ticket_status": "Closed"
         },
         "type": "Feature"
        },
        {
         "geometry": {
          "coordinates": [
           -122.26900524,
           37.85050852
          ],
          "type": "Point"
         },
         "properties": {
          "issue_description": "Call Transfer - Public Works",
          "issue_type": "General Questions/information",
          "street_address": "6531 Dover St",
          "ticket_status": "Closed"
         },
         "type": "Feature"
        },
        {
         "geometry": {
          "coordinates": [
           -122.26062277,
           37.85402324
          ],
          "type": "Point"
         },
         "properties": {
          "issue_description": "Sewer Problem",
          "issue_type": "Streets, Utilities, and Transportation",
          "street_address": "2327 Prince St",
          "ticket_status": "Closed"
         },
         "type": "Feature"
        },
        {
         "geometry": {
          "coordinates": [
           -122.27853733,
           37.85013858
          ],
          "type": "Point"
         },
         "properties": {
          "issue_description": "Residential Missed Pickup Integration",
          "issue_type": "Refuse and Recycling",
          "street_address": "3140 Sacramento St",
          "ticket_status": "Closed"
         },
         "type": "Feature"
        },
        {
         "geometry": {
          "coordinates": [
           -122.3083443,
           37.87588301
          ],
          "type": "Point"
         },
         "properties": {
          "issue_description": "Miscellaneous Internet Request",
          "issue_type": "General Questions/information",
          "street_address": "400 Gilman St",
          "ticket_status": "Closed"
         },
         "type": "Feature"
        },
        {
         "geometry": {
          "coordinates": [
           -122.24985625,
           37.86108504
          ],
          "type": "Point"
         },
         "properties": {
          "issue_description": "Call Transfer - Finance Department",
          "issue_type": "General Questions/information",
          "street_address": "2825 Garber St",
          "ticket_status": "Closed"
         },
         "type": "Feature"
        },
        {
         "geometry": {
          "coordinates": [
           -122.26951858,
           37.87809052
          ],
          "type": "Point"
         },
         "properties": {
          "issue_description": "Commercial Missed Pickup",
          "issue_type": "Refuse and Recycling",
          "street_address": "1600 Shattuck Ave 100",
          "ticket_status": "Closed"
         },
         "type": "Feature"
        },
        {
         "geometry": {
          "coordinates": [
           -122.25271011,
           37.8619326
          ],
          "type": "Point"
         },
         "properties": {
          "issue_description": "Commercial Cart Size Decrease",
          "issue_type": "Refuse and Recycling",
          "street_address": "2716 Derby St",
          "ticket_status": "Closed"
         },
         "type": "Feature"
        },
        {
         "geometry": {
          "coordinates": [
           -122.27989534,
           37.85179001
          ],
          "type": "Point"
         },
         "properties": {
          "issue_description": "Residential Lost or Stolen Cart",
          "issue_type": "Refuse and Recycling",
          "street_address": "3041 Dohr St",
          "ticket_status": "Closed"
         },
         "type": "Feature"
        },
        {
         "geometry": {
          "coordinates": [
           -122.26213,
           37.8971763
          ],
          "type": "Point"
         },
         "properties": {
          "issue_description": "Miscellaneous Internet Request",
          "issue_type": "General Questions/information",
          "street_address": "880 Grizzly Peak Blvd",
          "ticket_status": "Closed"
         },
         "type": "Feature"
        },
        {
         "geometry": {
          "coordinates": [
           -122.29402352,
           37.87173102
          ],
          "type": "Point"
         },
         "properties": {
          "issue_description": "Residential Cart Size Decrease",
          "issue_type": "Refuse and Recycling",
          "street_address": "1029 Delaware St",
          "ticket_status": "Closed"
         },
         "type": "Feature"
        },
        {
         "geometry": {
          "coordinates": [
           -122.26432002,
           37.87955574
          ],
          "type": "Point"
         },
         "properties": {
          "issue_description": "Commercial Special Pickup",
          "issue_type": "Refuse and Recycling",
          "street_address": "1565 Arch St",
          "ticket_status": "Closed"
         },
         "type": "Feature"
        },
        {
         "geometry": {
          "coordinates": [
           -122.26514026,
           37.89535234
          ],
          "type": "Point"
         },
         "properties": {
          "issue_description": "Residential Customer Complaint",
          "issue_type": "Refuse and Recycling",
          "street_address": "859 Euclid Ave",
          "ticket_status": "Closed"
         },
         "type": "Feature"
        },
        {
         "geometry": {
          "coordinates": [
           -122.2701916,
           37.90192112
          ],
          "type": "Point"
         },
         "properties": {
          "issue_description": "Commercial Missed Pickup",
          "issue_type": "Refuse and Recycling",
          "street_address": "499 Spruce St",
          "ticket_status": "Open"
         },
         "type": "Feature"
        },
        {
         "geometry": {
          "coordinates": [
           -122.2534202,
           37.86785044
          ],
          "type": "Point"
         },
         "properties": {
          "issue_description": "Commercial Bin Size Increase",
          "issue_type": "Refuse and Recycling",
          "street_address": "2717 Channing Way",
          "ticket_status": "Closed"
         },
         "type": "Feature"
        },
        {
         "geometry": {
          "coordinates": [
           -122.27306104,
           37.84872584
          ],
          "type": "Point"
         },
         "properties": {
          "issue_description": "Commercial Customer Complaint",
          "issue_type": "Refuse and Recycling",
          "street_address": "1717 Alcatraz Ave",
          "ticket_status": "Closed"
         },
         "type": "Feature"
        },
        {
         "geometry": {
          "coordinates": [
           -122.28289061,
           37.85063222
          ],
          "type": "Point"
         },
         "properties": {
          "issue_description": "Residential Special Pickup",
          "issue_type": "Refuse and Recycling",
          "street_address": "3115 Mabel St",
          "ticket_status": "Closed"
         },
         "type": "Feature"
        },
        {
         "geometry": {
          "coordinates": [
           -122.26996219,
           37.85097784
          ],
          "type": "Point"
         },
         "properties": {
          "issue_description": "Commercial Missed Pickup",
          "issue_type": "Refuse and Recycling",
          "street_address": "3195 Adeline St",
          "ticket_status": "Closed"
         },
         "type": "Feature"
        },
        {
         "geometry": {
          "coordinates": [
           -122.24803308,
           37.87036422
          ],
          "type": "Point"
         },
         "properties": {
          "issue_description": "Miscellaneous Service Request",
          "issue_type": "General Questions/information",
          "street_address": "29 Mosswood Rd",
          "ticket_status": "Closed"
         },
         "type": "Feature"
        },
        {
         "geometry": {
          "coordinates": [
           -122.28430179,
           37.86834181
          ],
          "type": "Point"
         },
         "properties": {
          "issue_description": "Residential Bulky Pickup",
          "issue_type": "Refuse and Recycling",
          "street_address": "2120 Acton St",
          "ticket_status": "Closed"
         },
         "type": "Feature"
        },
        {
         "geometry": {
          "coordinates": [
           -122.25359936,
           37.868634
          ],
          "type": "Point"
         },
         "properties": {
          "issue_description": "Stray Cart Removal",
          "issue_type": "Refuse and Recycling",
          "street_address": "2723 Durant Ave",
          "ticket_status": "Closed"
         },
         "type": "Feature"
        },
        {
         "geometry": {
          "coordinates": [
           -122.27124948,
           37.85859707
          ],
          "type": "Point"
         },
         "properties": {
          "issue_description": "Residential Bulky Pickup",
          "issue_type": "Refuse and Recycling",
          "street_address": "2735 M L King Jr Way",
          "ticket_status": "Closed"
         },
         "type": "Feature"
        },
        {
         "geometry": {
          "coordinates": [
           -122.2900884,
           37.86416738
          ],
          "type": "Point"
         },
         "properties": {
          "issue_description": "Commercial Reminder",
          "issue_type": "Refuse and Recycling",
          "street_address": "2323 San Pablo Ave",
          "ticket_status": "Closed"
         },
         "type": "Feature"
        },
        {
         "geometry": {
          "coordinates": [
           -122.26197987,
           37.89329074
          ],
          "type": "Point"
         },
         "properties": {
          "issue_description": "Residential Missed Pickup Integration",
          "issue_type": "Refuse and Recycling",
          "street_address": "26 Poppy Ln",
          "ticket_status": "Closed"
         },
         "type": "Feature"
        },
        {
         "geometry": {
          "coordinates": [
           -122.26902164,
           37.87441883
          ],
          "type": "Point"
         },
         "properties": {
          "issue_description": "Commercial Customer Complaint",
          "issue_type": "Refuse and Recycling",
          "street_address": "2050 Delaware St",
          "ticket_status": "Closed"
         },
         "type": "Feature"
        },
        {
         "geometry": {
          "coordinates": [
           -122.29341102,
           37.87191247
          ],
          "type": "Point"
         },
         "properties": {
          "issue_description": "Illegal Dumping - Private Property",
          "issue_type": "Streets, Utilities, and Transportation",
          "street_address": "1740 San Pablo Ave",
          "ticket_status": "Closed"
         },
         "type": "Feature"
        },
        {
         "geometry": {
          "coordinates": [
           -122.28507975,
           37.88082912
          ],
          "type": "Point"
         },
         "properties": {
          "issue_description": "Residential Bulky Pickup",
          "issue_type": "Refuse and Recycling",
          "street_address": "1375 Acton St",
          "ticket_status": "Closed"
         },
         "type": "Feature"
        },
        {
         "geometry": {
          "coordinates": [
           -122.26352744,
           37.8780291
          ],
          "type": "Point"
         },
         "properties": {
          "issue_description": "Illegal Dumping - City Property",
          "issue_type": "Streets, Utilities, and Transportation",
          "street_address": "2348 Hilgard Ave",
          "ticket_status": "Closed"
         },
         "type": "Feature"
        },
        {
         "geometry": {
          "coordinates": [
           -122.29123622,
           37.86751256
          ],
          "type": "Point"
         },
         "properties": {
          "issue_description": "Commercial Service Start",
          "issue_type": "Refuse and Recycling",
          "street_address": "1101 Cowper St",
          "ticket_status": "Closed"
         },
         "type": "Feature"
        },
        {
         "geometry": {
          "coordinates": [
           -122.24615932,
           37.85828582
          ],
          "type": "Point"
         },
         "properties": {
          "issue_description": "Residential Missed Pickup Integration",
          "issue_type": "Refuse and Recycling",
          "street_address": "2951 Ashby Ave",
          "ticket_status": "Closed"
         },
         "type": "Feature"
        },
        {
         "geometry": {
          "coordinates": [
           -122.27979629,
           37.85558083
          ],
          "type": "Point"
         },
         "properties": {
          "issue_description": "Commercial Site Inspection",
          "issue_type": "Refuse and Recycling",
          "street_address": "2850 Sacramento St",
          "ticket_status": "Closed"
         },
         "type": "Feature"
        },
        {
         "geometry": {
          "coordinates": [
           -122.29178289,
           37.86529802
          ],
          "type": "Point"
         },
         "properties": {
          "issue_description": "Residential Cart Size Increase",
          "issue_type": "Refuse and Recycling",
          "street_address": "2229 Tenth St",
          "ticket_status": "Closed"
         },
         "type": "Feature"
        },
        {
         "geometry": {
          "coordinates": [
           -122.26391203,
           37.85626871
          ],
          "type": "Point"
         },
         "properties": {
          "issue_description": "Residential Lost or Stolen Cart",
          "issue_type": "Refuse and Recycling",
          "street_address": "2920 Fulton St",
          "ticket_status": "Closed"
         },
         "type": "Feature"
        },
        {
         "geometry": {
          "coordinates": [
           -122.26941086,
           37.85760012
          ],
          "type": "Point"
         },
         "properties": {
          "issue_description": "Miscellaneous Service Request",
          "issue_type": "General Questions/information",
          "street_address": "1947 Oregon St",
          "ticket_status": "Closed"
         },
         "type": "Feature"
        },
        {
         "geometry": {
          "coordinates": [
           -122.28584737,
           37.88030733
          ],
          "type": "Point"
         },
         "properties": {
          "issue_description": "Residential Service Stop",
          "issue_type": "Refuse and Recycling",
          "street_address": "1400 Acton St",
          "ticket_status": "Closed"
         },
         "type": "Feature"
        },
        {
         "geometry": {
          "coordinates": [
           -122.25987891,
           37.86429273
          ],
          "type": "Point"
         },
         "properties": {
          "issue_description": "Residential Reminder",
          "issue_type": "Refuse and Recycling",
          "street_address": "2415 Blake St",
          "ticket_status": "Closed"
         },
         "type": "Feature"
        },
        {
         "geometry": {
          "coordinates": [
           -122.27851657,
           37.85215934
          ],
          "type": "Point"
         },
         "properties": {
          "issue_description": "Residential Bulky Pickup",
          "issue_type": "Refuse and Recycling",
          "street_address": "1500 Tyler St",
          "ticket_status": "Closed"
         },
         "type": "Feature"
        },
        {
         "geometry": {
          "coordinates": [
           -122.27486883,
           37.84762182
          ],
          "type": "Point"
         },
         "properties": {
          "issue_description": "Residential Customer Complaint",
          "issue_type": "Refuse and Recycling",
          "street_address": "1617 Sixty-Third St",
          "ticket_status": "Closed"
         },
         "type": "Feature"
        },
        {
         "geometry": {
          "coordinates": [
           -122.27856142,
           37.8783374
          ],
          "type": "Point"
         },
         "properties": {
          "issue_description": "Residential Customer Complaint",
          "issue_type": "Refuse and Recycling",
          "street_address": "1705 Jaynes St",
          "ticket_status": "Closed"
         },
         "type": "Feature"
        },
        {
         "geometry": {
          "coordinates": [
           -122.29766638,
           37.88064824
          ],
          "type": "Point"
         },
         "properties": {
          "issue_description": "Steam Cleaning",
          "issue_type": "Refuse and Recycling",
          "street_address": "1025 Gilman St",
          "ticket_status": "Closed"
         },
         "type": "Feature"
        },
        {
         "geometry": {
          "coordinates": [
           -122.29876636,
           37.86219376
          ],
          "type": "Point"
         },
         "properties": {
          "issue_description": "Commercial Cart Size Decrease",
          "issue_type": "Refuse and Recycling",
          "street_address": "2332 Fourth St F",
          "ticket_status": "Closed"
         },
         "type": "Feature"
        },
        {
         "geometry": {
          "coordinates": [
           -122.28000398,
           37.85937027
          ],
          "type": "Point"
         },
         "properties": {
          "issue_description": "Sewer Problem",
          "issue_type": "Streets, Utilities, and Transportation",
          "street_address": "2651 Sacramento St",
          "ticket_status": "Closed"
         },
         "type": "Feature"
        },
        {
         "geometry": {
          "coordinates": [
           -122.26259718,
           37.85556413
          ],
          "type": "Point"
         },
         "properties": {
          "issue_description": "Residential Cart Size Decrease",
          "issue_type": "Refuse and Recycling",
          "street_address": "2218 Ashby Ave",
          "ticket_status": "Closed"
         },
         "type": "Feature"
        },
        {
         "geometry": {
          "coordinates": [
           -122.30350015,
           37.8693834
          ],
          "type": "Point"
         },
         "properties": {
          "issue_description": "Commercial Lost or Stolen Cart",
          "issue_type": "Refuse and Recycling",
          "street_address": "1801 Eastshore Hwy Com",
          "ticket_status": "Closed"
         },
         "type": "Feature"
        },
        {
         "geometry": {
          "coordinates": [
           -122.29328372,
           37.87375537
          ],
          "type": "Point"
         },
         "properties": {
          "issue_description": "Application",
          "issue_type": "Business License",
          "street_address": "1659 San Pablo Ave",
          "ticket_status": "Closed"
         },
         "type": "Feature"
        },
        {
         "geometry": {
          "coordinates": [
           -122.29088662,
           37.86892312
          ],
          "type": "Point"
         },
         "properties": {
          "issue_description": "Residential Reminder",
          "issue_type": "Refuse and Recycling",
          "street_address": "1122 University Ave",
          "ticket_status": "Closed"
         },
         "type": "Feature"
        },
        {
         "geometry": {
          "coordinates": [
           -122.2504445,
           37.85565072
          ],
          "type": "Point"
         },
         "properties": {
          "issue_description": "Miscellaneous Service Request",
          "issue_type": "General Questions/information",
          "street_address": "2754 Webster St",
          "ticket_status": "Closed"
         },
         "type": "Feature"
        },
        {
         "geometry": {
          "coordinates": [
           -122.26333168,
           37.89005912
          ],
          "type": "Point"
         },
         "properties": {
          "issue_description": "Residential Service Start",
          "issue_type": "Refuse and Recycling",
          "street_address": "1066 Keith Ave",
          "ticket_status": "Closed"
         },
         "type": "Feature"
        },
        {
         "geometry": {
          "coordinates": [
           -122.27474895,
           37.84763777
          ],
          "type": "Point"
         },
         "properties": {
          "issue_description": "Residential Cart Size Decrease",
          "issue_type": "Refuse and Recycling",
          "street_address": "1621 Sixty-Third St",
          "ticket_status": "Closed"
         },
         "type": "Feature"
        },
        {
         "geometry": {
          "coordinates": [
           -122.28880351,
           37.85765941
          ],
          "type": "Point"
         },
         "properties": {
          "issue_description": "Miscellaneous Service Request",
          "issue_type": "General Questions/information",
          "street_address": "2700 San Pablo Ave 201",
          "ticket_status": "Closed"
         },
         "type": "Feature"
        },
        {
         "geometry": {
          "coordinates": [
           -122.29051098,
           37.86299732
          ],
          "type": "Point"
         },
         "properties": {
          "issue_description": "Commercial Customer Complaint",
          "issue_type": "Refuse and Recycling",
          "street_address": "2396 San Pablo Ave",
          "ticket_status": "Closed"
         },
         "type": "Feature"
        },
        {
         "geometry": {
          "coordinates": [
           -122.27233771,
           37.85025689
          ],
          "type": "Point"
         },
         "properties": {
          "issue_description": "Illegal Dumping - City Property",
          "issue_type": "Streets, Utilities, and Transportation",
          "street_address": "1810 Fairview St",
          "ticket_status": "Closed"
         },
         "type": "Feature"
        },
        {
         "geometry": {
          "coordinates": [
           -122.27204162,
           37.84653212
          ],
          "type": "Point"
         },
         "properties": {
          "issue_description": "Commercial Missed Pickup",
          "issue_type": "Refuse and Recycling",
          "street_address": "3407 Adeline St",
          "ticket_status": "Closed"
         },
         "type": "Feature"
        },
        {
         "geometry": {
          "coordinates": [
           -122.26204671,
           37.89579579
          ],
          "type": "Point"
         },
         "properties": {
          "issue_description": "Residential Missed Pickup Integration",
          "issue_type": "Refuse and Recycling",
          "street_address": "95 Forest Ln",
          "ticket_status": "Closed"
         },
         "type": "Feature"
        },
        {
         "geometry": {
          "coordinates": [
           -122.28834802,
           37.87861416
          ],
          "type": "Point"
         },
         "properties": {
          "issue_description": "Residential Cart Size Increase",
          "issue_type": "Refuse and Recycling",
          "street_address": "1309 Hopkins St Com",
          "ticket_status": "Closed"
         },
         "type": "Feature"
        },
        {
         "geometry": {
          "coordinates": [
           -122.25252239,
           37.86842332
          ],
          "type": "Point"
         },
         "properties": {
          "issue_description": "Residential Site Inspection",
          "issue_type": "Refuse and Recycling",
          "street_address": "2328 Piedmont Ave",
          "ticket_status": "Closed"
         },
         "type": "Feature"
        },
        {
         "geometry": {
          "coordinates": [
           -122.2661931,
           37.86759016
          ],
          "type": "Point"
         },
         "properties": {
          "issue_description": "Commercial Missed Pickup",
          "issue_type": "Refuse and Recycling",
          "street_address": "2190 Bancroft Way",
          "ticket_status": "Closed"
         },
         "type": "Feature"
        },
        {
         "geometry": {
          "coordinates": [
           -122.27054182,
           37.8926396
          ],
          "type": "Point"
         },
         "properties": {
          "issue_description": "Residential Lost or Stolen Cart",
          "issue_type": "Refuse and Recycling",
          "street_address": "833 Oxford St",
          "ticket_status": "Closed"
         },
         "type": "Feature"
        },
        {
         "geometry": {
          "coordinates": [
           -122.27938679,
           37.89164419
          ],
          "type": "Point"
         },
         "properties": {
          "issue_description": "Commercial Missed Pickup",
          "issue_type": "Refuse and Recycling",
          "street_address": "1819 Solano Ave",
          "ticket_status": "Closed"
         },
         "type": "Feature"
        },
        {
         "geometry": {
          "coordinates": [
           -122.28866383,
           37.85983558
          ],
          "type": "Point"
         },
         "properties": {
          "issue_description": "Cart Repair",
          "issue_type": "Refuse and Recycling",
          "street_address": "2577 San Pablo Ave",
          "ticket_status": "Closed"
         },
         "type": "Feature"
        },
        {
         "geometry": {
          "coordinates": [
           -122.25342692,
           37.86438595
          ],
          "type": "Point"
         },
         "properties": {
          "issue_description": "Commercial Special Pickup",
          "issue_type": "Refuse and Recycling",
          "street_address": "2539 College Ave",
          "ticket_status": "Closed"
         },
         "type": "Feature"
        },
        {
         "geometry": {
          "coordinates": [
           -122.28019264,
           37.85701222
          ],
          "type": "Point"
         },
         "properties": {
          "issue_description": "Illegal Dumping - Internet Request",
          "issue_type": "Streets, Utilities, and Transportation",
          "street_address": "2790 Sacramento St",
          "ticket_status": "Closed"
         },
         "type": "Feature"
        },
        {
         "geometry": {
          "coordinates": [
           -122.27661968,
           37.86476667
          ],
          "type": "Point"
         },
         "properties": {
          "issue_description": "Residential Site Inspection",
          "issue_type": "Refuse and Recycling",
          "street_address": "1701 Channing Way",
          "ticket_status": "Closed"
         },
         "type": "Feature"
        },
        {
         "geometry": {
          "coordinates": [
           -122.28546137,
           37.86924406
          ],
          "type": "Point"
         },
         "properties": {
          "issue_description": "Residential Reminder",
          "issue_type": "Refuse and Recycling",
          "street_address": "1321 Addison St",
          "ticket_status": "Closed"
         },
         "type": "Feature"
        },
        {
         "geometry": {
          "coordinates": [
           -122.28027996,
           37.84936083
          ],
          "type": "Point"
         },
         "properties": {
          "issue_description": "Residential Site Inspection",
          "issue_type": "Refuse and Recycling",
          "street_address": "3216 Baker St",
          "ticket_status": "Closed"
         },
         "type": "Feature"
        },
        {
         "geometry": {
          "coordinates": [
           -122.29148051,
           37.87394941
          ],
          "type": "Point"
         },
         "properties": {
          "issue_description": "Residential Bulky Pickup",
          "issue_type": "Refuse and Recycling",
          "street_address": "1155 Virginia St",
          "ticket_status": "Closed"
         },
         "type": "Feature"
        },
        {
         "geometry": {
          "coordinates": [
           -122.26920716,
           37.88410411
          ],
          "type": "Point"
         },
         "properties": {
          "issue_description": "Application",
          "issue_type": "Business License",
          "street_address": "1301 Shattuck Ave",
          "ticket_status": "Closed"
         },
         "type": "Feature"
        },
        {
         "geometry": {
          "coordinates": [
           -122.27937977,
           37.87499046
          ],
          "type": "Point"
         },
         "properties": {
          "issue_description": "Residential Cart Size Increase",
          "issue_type": "Refuse and Recycling",
          "street_address": "1616 Virginia St",
          "ticket_status": "Closed"
         },
         "type": "Feature"
        },
        {
         "geometry": {
          "coordinates": [
           -122.26873783,
           37.85800855
          ],
          "type": "Point"
         },
         "properties": {
          "issue_description": "Residential Reminder",
          "issue_type": "Refuse and Recycling",
          "street_address": "2012 Stuart St",
          "ticket_status": "Closed"
         },
         "type": "Feature"
        },
        {
         "geometry": {
          "coordinates": [
           -122.27048511,
           37.84773069
          ],
          "type": "Point"
         },
         "properties": {
          "issue_description": "Residential Customer Complaint",
          "issue_type": "Refuse and Recycling",
          "street_address": "1810 Sixty-Third St",
          "ticket_status": "Closed"
         },
         "type": "Feature"
        },
        {
         "geometry": {
          "coordinates": [
           -122.27230582,
           37.84834339
          ],
          "type": "Point"
         },
         "properties": {
          "issue_description": "Commercial Missed Pickup",
          "issue_type": "Refuse and Recycling",
          "street_address": "1742 Alcatraz Ave",
          "ticket_status": "Closed"
         },
         "type": "Feature"
        },
        {
         "geometry": {
          "coordinates": [
           -122.26666472,
           37.8896177
          ],
          "type": "Point"
         },
         "properties": {
          "issue_description": "Residential Customer Complaint",
          "issue_type": "Refuse and Recycling",
          "street_address": "1055 Spruce St",
          "ticket_status": "Closed"
         },
         "type": "Feature"
        },
        {
         "geometry": {
          "coordinates": [
           -122.27177633,
           37.87274031
          ],
          "type": "Point"
         },
         "properties": {
          "issue_description": "Residential Site Inspection",
          "issue_type": "Refuse and Recycling",
          "street_address": "1921 Bonita Ave",
          "ticket_status": "Closed"
         },
         "type": "Feature"
        },
        {
         "geometry": {
          "coordinates": [
           -122.26742406,
           37.8939505
          ],
          "type": "Point"
         },
         "properties": {
          "issue_description": "Roll Off Bin",
          "issue_type": "Refuse and Recycling",
          "street_address": "830 Regal Rd",
          "ticket_status": "Closed"
         },
         "type": "Feature"
        },
        {
         "geometry": {
          "coordinates": [
           -122.29214156,
           37.86409105
          ],
          "type": "Point"
         },
         "properties": {
          "issue_description": "Residential Customer Complaint",
          "issue_type": "Refuse and Recycling",
          "street_address": "1016 Bancroft Way",
          "ticket_status": "Closed"
         },
         "type": "Feature"
        },
        {
         "geometry": {
          "coordinates": [
           -122.24884466,
           37.85297003
          ],
          "type": "Point"
         },
         "properties": {
          "issue_description": "Residential Service Start",
          "issue_type": "Refuse and Recycling",
          "street_address": "10 Hillcrest Rd",
          "ticket_status": "Closed"
         },
         "type": "Feature"
        },
        {
         "geometry": {
          "coordinates": [
           -122.24309131,
           37.85404326
          ],
          "type": "Point"
         },
         "properties": {
          "issue_description": "Cart Repair",
          "issue_type": "Refuse and Recycling",
          "street_address": "116 Parkside Dr",
          "ticket_status": "Closed"
         },
         "type": "Feature"
        },
        {
         "geometry": {
          "coordinates": [
           -122.28117069,
           37.8822882
          ],
          "type": "Point"
         },
         "properties": {
          "issue_description": "Application",
          "issue_type": "Business License",
          "street_address": "1615 Hopkins St",
          "ticket_status": "Closed"
         },
         "type": "Feature"
        },
        {
         "geometry": {
          "coordinates": [
           -122.29759251,
           37.86885328
          ],
          "type": "Point"
         },
         "properties": {
          "issue_description": "Commercial Site Inspection",
          "issue_type": "Refuse and Recycling",
          "street_address": "1917 Sixth St",
          "ticket_status": "Closed"
         },
         "type": "Feature"
        },
        {
         "geometry": {
          "coordinates": [
           -122.27546039,
           37.89132494
          ],
          "type": "Point"
         },
         "properties": {
          "issue_description": "Sidewalk Problem",
          "issue_type": "Streets, Utilities, and Transportation",
          "street_address": "915 Contra Costa Ave",
          "ticket_status": "Closed"
         },
         "type": "Feature"
        },
        {
         "geometry": {
          "coordinates": [
           -122.26924333,
           37.88231922
          ],
          "type": "Point"
         },
         "properties": {
          "issue_description": "Application",
          "issue_type": "Business License",
          "street_address": "1385 Shattuck Ave",
          "ticket_status": "Closed"
         },
         "type": "Feature"
        },
        {
         "geometry": {
          "coordinates": [
           -122.26290054,
           37.88989524
          ],
          "type": "Point"
         },
         "properties": {
          "issue_description": "Fire Fuel Chipper and Debris Bin",
          "issue_type": "Refuse and Recycling",
          "street_address": "1084 Euclid Ave",
          "ticket_status": "Closed"
         },
         "type": "Feature"
        },
        {
         "geometry": {
          "coordinates": [
           -122.27268813,
           37.86020446
          ],
          "type": "Point"
         },
         "properties": {
          "issue_description": "Residential Cart Size Decrease",
          "issue_type": "Refuse and Recycling",
          "street_address": "1818 Carleton St",
          "ticket_status": "Closed"
         },
         "type": "Feature"
        },
        {
         "geometry": {
          "coordinates": [
           -122.26645247,
           37.88832612
          ],
          "type": "Point"
         },
         "properties": {
          "issue_description": "Residential Missed Pickup Integration",
          "issue_type": "Refuse and Recycling",
          "street_address": "1111 Spruce St",
          "ticket_status": "Closed"
         },
         "type": "Feature"
        },
        {
         "geometry": {
          "coordinates": [
           -122.27757458,
           37.8541183
          ],
          "type": "Point"
         },
         "properties": {
          "issue_description": "Residential Bulky Pickup",
          "issue_type": "Refuse and Recycling",
          "street_address": "1540 Julia St",
          "ticket_status": "Closed"
         },
         "type": "Feature"
        },
        {
         "geometry": {
          "coordinates": [
           -122.25858312,
           37.86720944
          ],
          "type": "Point"
         },
         "properties": {
          "issue_description": "Commercial Cart Size Decrease",
          "issue_type": "Refuse and Recycling",
          "street_address": "2395 Telegraph Ave",
          "ticket_status": "Closed"
         },
         "type": "Feature"
        },
        {
         "geometry": {
          "coordinates": [
           -122.29053727,
           37.86143532
          ],
          "type": "Point"
         },
         "properties": {
          "issue_description": "Residential Lost or Stolen Cart",
          "issue_type": "Refuse and Recycling",
          "street_address": "2439 Tenth St A",
          "ticket_status": "Closed"
         },
         "type": "Feature"
        },
        {
         "geometry": {
          "coordinates": [
           -122.29923523,
           37.86653084
          ],
          "type": "Point"
         },
         "properties": {
          "issue_description": "Commercial Reminder",
          "issue_type": "Refuse and Recycling",
          "street_address": "2039 Fourth St",
          "ticket_status": "Closed"
         },
         "type": "Feature"
        },
        {
         "geometry": {
          "coordinates": [
           -122.26716141,
           37.87158253
          ],
          "type": "Point"
         },
         "properties": {
          "issue_description": "Illegal Dumping - City Property",
          "issue_type": "Streets, Utilities, and Transportation",
          "street_address": "2119 Addison St",
          "ticket_status": "Closed"
         },
         "type": "Feature"
        },
        {
         "geometry": {
          "coordinates": [
           -122.29486691,
           37.878651
          ],
          "type": "Point"
         },
         "properties": {
          "issue_description": "Commercial Site Inspection",
          "issue_type": "Refuse and Recycling",
          "street_address": "1401 San Pablo Ave",
          "ticket_status": "Open"
         },
         "type": "Feature"
        },
        {
         "geometry": {
          "coordinates": [
           -122.26995881,
           37.87160192
          ],
          "type": "Point"
         },
         "properties": {
          "issue_description": "Commercial Site Inspection",
          "issue_type": "Refuse and Recycling",
          "street_address": "2036 University Ave",
          "ticket_status": "Closed"
         },
         "type": "Feature"
        },
        {
         "geometry": {
          "coordinates": [
           -122.29865011,
           37.87616117
          ],
          "type": "Point"
         },
         "properties": {
          "issue_description": "Commercial Missed Pickup",
          "issue_type": "Refuse and Recycling",
          "street_address": "1460 Eighth St",
          "ticket_status": "Closed"
         },
         "type": "Feature"
        },
        {
         "geometry": {
          "coordinates": [
           -122.28501877,
           37.86878573
          ],
          "type": "Point"
         },
         "properties": {
          "issue_description": "Commercial Cart Size Decrease",
          "issue_type": "Refuse and Recycling",
          "street_address": "1324 Addison St",
          "ticket_status": "Closed"
         },
         "type": "Feature"
        },
        {
         "geometry": {
          "coordinates": [
           -122.29345776,
           37.87002764
          ],
          "type": "Point"
         },
         "properties": {
          "issue_description": "Application",
          "issue_type": "Business License",
          "street_address": "1022 Hearst Ave",
          "ticket_status": "Closed"
         },
         "type": "Feature"
        },
        {
         "geometry": {
          "coordinates": [
           -122.28612529,
           37.87833335
          ],
          "type": "Point"
         },
         "properties": {
          "issue_description": "Residential Service Start",
          "issue_type": "Refuse and Recycling",
          "street_address": "1370 Ada St",
          "ticket_status": "Closed"
         },
         "type": "Feature"
        },
        {
         "geometry": {
          "coordinates": [
           -122.28114191,
           37.84721957
          ],
          "type": "Point"
         },
         "properties": {
          "issue_description": "Residential Lost or Stolen Cart",
          "issue_type": "Refuse and Recycling",
          "street_address": "1300 Alcatraz Ave",
          "ticket_status": "Closed"
         },
         "type": "Feature"
        },
        {
         "geometry": {
          "coordinates": [
           -122.2855009,
           37.85348977
          ],
          "type": "Point"
         },
         "properties": {
          "issue_description": "Residential Cart Size Decrease",
          "issue_type": "Refuse and Recycling",
          "street_address": "1231 Burnett St",
          "ticket_status": "Closed"
         },
         "type": "Feature"
        },
        {
         "geometry": {
          "coordinates": [
           -122.29699846,
           37.86711371
          ],
          "type": "Point"
         },
         "properties": {
          "issue_description": "Commercial Reminder",
          "issue_type": "Refuse and Recycling",
          "street_address": "2031 Sixth St",
          "ticket_status": "Closed"
         },
         "type": "Feature"
        },
        {
         "geometry": {
          "coordinates": [
           -122.26734958,
           37.87102494
          ],
          "type": "Point"
         },
         "properties": {
          "issue_description": "Commercial Site Inspection",
          "issue_type": "Refuse and Recycling",
          "street_address": "2109 Shattuck Ave Apt",
          "ticket_status": "Closed"
         },
         "type": "Feature"
        },
        {
         "geometry": {
          "coordinates": [
           -122.26951858,
           37.87809052
          ],
          "type": "Point"
         },
         "properties": {
          "issue_description": "Commercial Missed Pickup",
          "issue_type": "Refuse and Recycling",
          "street_address": "1600 Shattuck Ave 100",
          "ticket_status": "Closed"
         },
         "type": "Feature"
        },
        {
         "geometry": {
          "coordinates": [
           -122.27361955,
           37.85847589
          ],
          "type": "Point"
         },
         "properties": {
          "issue_description": "Forestry Miscellaneous",
          "issue_type": "Parks, Trees and Vegetation",
          "street_address": "2728 Grant St",
          "ticket_status": "Closed"
         },
         "type": "Feature"
        },
        {
         "geometry": {
          "coordinates": [
           -122.27971761,
           37.84956847
          ],
          "type": "Point"
         },
         "properties": {
          "issue_description": "Cart Repair",
          "issue_type": "Refuse and Recycling",
          "street_address": "1405 Fairview St",
          "ticket_status": "Closed"
         },
         "type": "Feature"
        },
        {
         "geometry": {
          "coordinates": [
           -122.28619923,
           37.89678224
          ],
          "type": "Point"
         },
         "properties": {
          "issue_description": "Residential Missed Pickup Integration",
          "issue_type": "Refuse and Recycling",
          "street_address": "1559 Thousand Oaks Blvd",
          "ticket_status": "Closed"
         },
         "type": "Feature"
        },
        {
         "geometry": {
          "coordinates": [
           -122.25030877,
           37.85737553
          ],
          "type": "Point"
         },
         "properties": {
          "issue_description": "Residential Cart Size Decrease",
          "issue_type": "Refuse and Recycling",
          "street_address": "2931 Piedmont Ave",
          "ticket_status": "Closed"
         },
         "type": "Feature"
        },
        {
         "geometry": {
          "coordinates": [
           -122.25370205,
           37.88811539
          ],
          "type": "Point"
         },
         "properties": {
          "issue_description": "Residential Missed Pickup Integration",
          "issue_type": "Refuse and Recycling",
          "street_address": "1200 Queens Rd",
          "ticket_status": "Closed"
         },
         "type": "Feature"
        },
        {
         "geometry": {
          "coordinates": [
           -122.25419369,
           37.85499439
          ],
          "type": "Point"
         },
         "properties": {
          "issue_description": "Stray Cart Removal",
          "issue_type": "Refuse and Recycling",
          "street_address": "3020 Benvenue Ave",
          "ticket_status": "Closed"
         },
         "type": "Feature"
        },
        {
         "geometry": {
          "coordinates": [
           -122.29216007,
           37.85688499
          ],
          "type": "Point"
         },
         "properties": {
          "issue_description": "Residential Reminder",
          "issue_type": "Refuse and Recycling",
          "street_address": "2706 Eighth St",
          "ticket_status": "Closed"
         },
         "type": "Feature"
        },
        {
         "geometry": {
          "coordinates": [
           -122.25718962,
           37.8567415
          ],
          "type": "Point"
         },
         "properties": {
          "issue_description": "Residential Service Start",
          "issue_type": "Refuse and Recycling",
          "street_address": "2455 Ashby Ave",
          "ticket_status": "Closed"
         },
         "type": "Feature"
        },
        {
         "geometry": {
          "coordinates": [
           -122.25621959,
           37.85505955
          ],
          "type": "Point"
         },
         "properties": {
          "issue_description": "Broken Branch or Tree",
          "issue_type": "Parks, Trees and Vegetation",
          "street_address": "3015 Regent St",
          "ticket_status": "Closed"
         },
         "type": "Feature"
        },
        {
         "geometry": {
          "coordinates": [
           -122.26460509,
           37.85727828
          ],
          "type": "Point"
         },
         "properties": {
          "issue_description": "Residential Missed Pickup",
          "issue_type": "Refuse and Recycling",
          "street_address": "2147 Russell St",
          "ticket_status": "Closed"
         },
         "type": "Feature"
        },
        {
         "geometry": {
          "coordinates": [
           -122.28185559,
           37.87520866
          ],
          "type": "Point"
         },
         "properties": {
          "issue_description": "Residential Site Inspection",
          "issue_type": "Refuse and Recycling",
          "street_address": "1509 Virginia St A",
          "ticket_status": "Closed"
         },
         "type": "Feature"
        },
        {
         "geometry": {
          "coordinates": [
           -122.26006222,
           37.87630862
          ],
          "type": "Point"
         },
         "properties": {
          "issue_description": "Sewer Problem",
          "issue_type": "Streets, Utilities, and Transportation",
          "street_address": "1799 Euclid Ave",
          "ticket_status": "Closed"
         },
         "type": "Feature"
        },
        {
         "geometry": {
          "coordinates": [
           -122.27671812,
           37.88602959
          ],
          "type": "Point"
         },
         "properties": {
          "issue_description": "Residential Bulky Pickup",
          "issue_type": "Refuse and Recycling",
          "street_address": "1143 Fresno Ave",
          "ticket_status": "Closed"
         },
         "type": "Feature"
        },
        {
         "geometry": {
          "coordinates": [
           -122.26864368,
           37.86883792
          ],
          "type": "Point"
         },
         "properties": {
          "issue_description": "Miscellaneous Service Request",
          "issue_type": "General Questions/information",
          "street_address": "2222 Shattuck Ave",
          "ticket_status": "Closed"
         },
         "type": "Feature"
        },
        {
         "geometry": {
          "coordinates": [
           -122.27530143,
           37.87600975
          ],
          "type": "Point"
         },
         "properties": {
          "issue_description": "Cart Repair",
          "issue_type": "Refuse and Recycling",
          "street_address": "1809 Virginia St",
          "ticket_status": "Closed"
         },
         "type": "Feature"
        },
        {
         "geometry": {
          "coordinates": [
           -122.28108884,
           37.85035516
          ],
          "type": "Point"
         },
         "properties": {
          "issue_description": "Residential Site Inspection",
          "issue_type": "Refuse and Recycling",
          "street_address": "1340 Sixty-Seventh St",
          "ticket_status": "Closed"
         },
         "type": "Feature"
        },
        {
         "geometry": {
          "coordinates": [
           -122.26706119,
           37.87110283
          ],
          "type": "Point"
         },
         "properties": {
          "issue_description": "Illegal Dumping - Internet Request",
          "issue_type": "Streets, Utilities, and Transportation",
          "street_address": "2114 Addison St",
          "ticket_status": "Closed"
         },
         "type": "Feature"
        },
        {
         "geometry": {
          "coordinates": [
           -122.28223255,
           37.87596022
          ],
          "type": "Point"
         },
         "properties": {
          "issue_description": "Residential Bulky Pickup",
          "issue_type": "Refuse and Recycling",
          "street_address": "1623 Sacramento St",
          "ticket_status": "Closed"
         },
         "type": "Feature"
        },
        {
         "geometry": {
          "coordinates": [
           -122.27426409,
           37.85224317
          ],
          "type": "Point"
         },
         "properties": {
          "issue_description": "Residential Site Inspection",
          "issue_type": "Refuse and Recycling",
          "street_address": "1653 Prince St",
          "ticket_status": "Closed"
         },
         "type": "Feature"
        },
        {
         "geometry": {
          "coordinates": [
           -122.28569838,
           37.86321686
          ],
          "type": "Point"
         },
         "properties": {
          "issue_description": "Residential Reminder",
          "issue_type": "Refuse and Recycling",
          "street_address": "1306 Channing Way",
          "ticket_status": "Closed"
         },
         "type": "Feature"
        },
        {
         "geometry": {
          "coordinates": [
           -122.29150477,
           37.86833076
          ],
          "type": "Point"
         },
         "properties": {
          "issue_description": "Commercial Site Inspection",
          "issue_type": "Refuse and Recycling",
          "street_address": "2057 San Pablo Ave",
          "ticket_status": "Closed"
         },
         "type": "Feature"
        },
        {
         "geometry": {
          "coordinates": [
           -122.27720119,
           37.86116627
          ],
          "type": "Point"
         },
         "properties": {
          "issue_description": "Street Lights - Repair",
          "issue_type": "Facilities, Electrical & Property Management",
          "street_address": "1627 Parker St",
          "ticket_status": "Closed"
         },
         "type": "Feature"
        },
        {
         "geometry": {
          "coordinates": [
           -122.2724045,
           37.84749227
          ],
          "type": "Point"
         },
         "properties": {
          "issue_description": "Commercial Missed Pickup",
          "issue_type": "Refuse and Recycling",
          "street_address": "3350 Adeline St",
          "ticket_status": "Closed"
         },
         "type": "Feature"
        },
        {
         "geometry": {
          "coordinates": [
           -122.25674165,
           37.86389162
          ],
          "type": "Point"
         },
         "properties": {
          "issue_description": "Residential Site Inspection",
          "issue_type": "Refuse and Recycling",
          "street_address": "2538 Hillegass Ave",
          "ticket_status": "Closed"
         },
         "type": "Feature"
        },
        {
         "geometry": {
          "coordinates": [
           -122.26377681,
           37.87513937
          ],
          "type": "Point"
         },
         "properties": {
          "issue_description": "Commercial Special Pickup",
          "issue_type": "Refuse and Recycling",
          "street_address": "2311 Le Conte Ave",
          "ticket_status": "Closed"
         },
         "type": "Feature"
        },
        {
         "geometry": {
          "coordinates": [
           -122.26844495,
           37.89567016
          ],
          "type": "Point"
         },
         "properties": {
          "issue_description": "Residential Bulky Pickup",
          "issue_type": "Refuse and Recycling",
          "street_address": "784 Cragmont Ave",
          "ticket_status": "Closed"
         },
         "type": "Feature"
        },
        {
         "geometry": {
          "coordinates": [
           -122.27204793,
           37.88054054
          ],
          "type": "Point"
         },
         "properties": {
          "issue_description": "Residential Lost or Stolen Cart",
          "issue_type": "Refuse and Recycling",
          "street_address": "1428 Milvia St",
          "ticket_status": "Closed"
         },
         "type": "Feature"
        },
        {
         "geometry": {
          "coordinates": [
           -122.27059692,
           37.87342503
          ],
          "type": "Point"
         },
         "properties": {
          "issue_description": "Commercial Missed Pickup",
          "issue_type": "Refuse and Recycling",
          "street_address": "2000 Hearst Ave",
          "ticket_status": "Closed"
         },
         "type": "Feature"
        },
        {
         "geometry": {
          "coordinates": [
           -122.25426928,
           37.86896133
          ],
          "type": "Point"
         },
         "properties": {
          "issue_description": "Commercial Special Pickup",
          "issue_type": "Refuse and Recycling",
          "street_address": "2700 Bancroft Way",
          "ticket_status": "Closed"
         },
         "type": "Feature"
        },
        {
         "geometry": {
          "coordinates": [
           -122.29752955,
           37.88294738
          ],
          "type": "Point"
         },
         "properties": {
          "issue_description": "Commercial Missed Pickup",
          "issue_type": "Refuse and Recycling",
          "street_address": "1101 Tenth St",
          "ticket_status": "Closed"
         },
         "type": "Feature"
        },
        {
         "geometry": {
          "coordinates": [
           -122.30343895,
           37.87674105
          ],
          "type": "Point"
         },
         "properties": {
          "issue_description": "Commercial Special Pickup",
          "issue_type": "Refuse and Recycling",
          "street_address": "1404 Fourth St",
          "ticket_status": "Closed"
         },
         "type": "Feature"
        },
        {
         "geometry": {
          "coordinates": [
           -122.28712957,
           37.86639742
          ],
          "type": "Point"
         },
         "properties": {
          "issue_description": "Miscellaneous Internet Request",
          "issue_type": "General Questions/information",
          "street_address": "2210 Bonar St",
          "ticket_status": "Open"
         },
         "type": "Feature"
        },
        {
         "geometry": {
          "coordinates": [
           -122.27643228,
           37.87406164
          ],
          "type": "Point"
         },
         "properties": {
          "issue_description": "Cart Repair",
          "issue_type": "Refuse and Recycling",
          "street_address": "1735 Delaware St",
          "ticket_status": "Closed"
         },
         "type": "Feature"
        },
        {
         "geometry": {
          "coordinates": [
           -122.28368124,
           37.85174875
          ],
          "type": "Point"
         },
         "properties": {
          "issue_description": "Illegal Dumping - City Property",
          "issue_type": "Streets, Utilities, and Transportation",
          "street_address": "3024 Mabel St",
          "ticket_status": "Closed"
         },
         "type": "Feature"
        },
        {
         "geometry": {
          "coordinates": [
           -122.28330886,
           37.86747632
          ],
          "type": "Point"
         },
         "properties": {
          "issue_description": "RECO Application - EECGB Rebate",
          "issue_type": "Environmental Services and Programs",
          "street_address": "1413 Allston Way",
          "ticket_status": "Closed"
         },
         "type": "Feature"
        },
        {
         "geometry": {
          "coordinates": [
           -122.25269678,
           37.85654815
          ],
          "type": "Point"
         },
         "properties": {
          "issue_description": "Commercial Lost or Stolen Cart",
          "issue_type": "Refuse and Recycling",
          "street_address": "2981 College Ave",
          "ticket_status": "Closed"
         },
         "type": "Feature"
        },
        {
         "geometry": {
          "coordinates": [
           -122.26321553,
           37.89628326
          ],
          "type": "Point"
         },
         "properties": {
          "issue_description": "Residential Cart Size Decrease",
          "issue_type": "Refuse and Recycling",
          "street_address": "2585 Marin Ave",
          "ticket_status": "Closed"
         },
         "type": "Feature"
        },
        {
         "geometry": {
          "coordinates": [
           -122.28008859,
           37.89160602
          ],
          "type": "Point"
         },
         "properties": {
          "issue_description": "Commercial Service Start",
          "issue_type": "Refuse and Recycling",
          "street_address": "886 Colusa Ave",
          "ticket_status": "Closed"
         },
         "type": "Feature"
        },
        {
         "geometry": {
          "coordinates": [
           -122.26867128,
           37.88808529
          ],
          "type": "Point"
         },
         "properties": {
          "issue_description": "Tree Removal",
          "issue_type": "Parks, Trees and Vegetation",
          "street_address": "1122 Oxford St",
          "ticket_status": "Closed"
         },
         "type": "Feature"
        },
        {
         "geometry": {
          "coordinates": [
           -122.27582305,
           37.8809216
          ],
          "type": "Point"
         },
         "properties": {
          "issue_description": "Residential Cart Size Decrease",
          "issue_type": "Refuse and Recycling",
          "street_address": "1808 Rose St",
          "ticket_status": "Closed"
         },
         "type": "Feature"
        },
        {
         "geometry": {
          "coordinates": [
           -122.33705586,
           37.85787012
          ],
          "type": "Point"
         },
         "properties": {
          "issue_description": "Commercial Site Inspection",
          "issue_type": "Refuse and Recycling",
          "street_address": "200 Marina Blvd",
          "ticket_status": "Closed"
         },
         "type": "Feature"
        },
        {
         "geometry": {
          "coordinates": [
           -122.28578033,
           37.85693452
          ],
          "type": "Point"
         },
         "properties": {
          "issue_description": "Residential Lost or Stolen Cart",
          "issue_type": "Refuse and Recycling",
          "street_address": "2727 Mathews St",
          "ticket_status": "Closed"
         },
         "type": "Feature"
        },
        {
         "geometry": {
          "coordinates": [
           -122.289984,
           37.85162581
          ],
          "type": "Point"
         },
         "properties": {
          "issue_description": "Application",
          "issue_type": "Business License",
          "street_address": "931 Ashby Ave",
          "ticket_status": "Closed"
         },
         "type": "Feature"
        },
        {
         "geometry": {
          "coordinates": [
           -122.28401502,
           37.87187564
          ],
          "type": "Point"
         },
         "properties": {
          "issue_description": "Tree Pruning",
          "issue_type": "Parks, Trees and Vegetation",
          "street_address": "1407 Hearst Ave",
          "ticket_status": "Closed"
         },
         "type": "Feature"
        },
        {
         "geometry": {
          "coordinates": [
           -122.2596445,
           37.89961218
          ],
          "type": "Point"
         },
         "properties": {
          "issue_description": "Sinkholes",
          "issue_type": "Streets, Utilities, and Transportation",
          "street_address": "720 Wildcat Canyon Rd",
          "ticket_status": "Closed"
         },
         "type": "Feature"
        },
        {
         "geometry": {
          "coordinates": [
           -122.27141874,
           37.8675722
          ],
          "type": "Point"
         },
         "properties": {
          "issue_description": "Roll Off Bin",
          "issue_type": "Refuse and Recycling",
          "street_address": "2246 Milvia St",
          "ticket_status": "Closed"
         },
         "type": "Feature"
        },
        {
         "geometry": {
          "coordinates": [
           -122.27252787,
           37.8911899
          ],
          "type": "Point"
         },
         "properties": {
          "issue_description": "Residential Cart Size Decrease",
          "issue_type": "Refuse and Recycling",
          "street_address": "961 Arlington Ave",
          "ticket_status": "Closed"
         },
         "type": "Feature"
        },
        {
         "geometry": {
          "coordinates": [
           -122.28062483,
           37.8808643
          ],
          "type": "Point"
         },
         "properties": {
          "issue_description": "Residential Bulky Pickup",
          "issue_type": "Refuse and Recycling",
          "street_address": "1328 Mcgee Ave",
          "ticket_status": "Closed"
         },
         "type": "Feature"
        },
        {
         "geometry": {
          "coordinates": [
           -122.25420707,
           37.85510497
          ],
          "type": "Point"
         },
         "properties": {
          "issue_description": "Sewer Problem",
          "issue_type": "Streets, Utilities, and Transportation",
          "street_address": "3016 Benvenue Ave",
          "ticket_status": "Closed"
         },
         "type": "Feature"
        },
        {
         "geometry": {
          "coordinates": [
           -122.26663451,
           37.87268367
          ],
          "type": "Point"
         },
         "properties": {
          "issue_description": "Cart Repair",
          "issue_type": "Refuse and Recycling",
          "street_address": "2161 University Ave A",
          "ticket_status": "Closed"
         },
         "type": "Feature"
        },
        {
         "geometry": {
          "coordinates": [
           -122.25955536,
           37.87639733
          ],
          "type": "Point"
         },
         "properties": {
          "issue_description": "Residential Cart Size Increase",
          "issue_type": "Refuse and Recycling",
          "street_address": "2523 Ridge Rd",
          "ticket_status": "Closed"
         },
         "type": "Feature"
        },
        {
         "geometry": {
          "coordinates": [
           -122.28181194,
           37.89092856
          ],
          "type": "Point"
         },
         "properties": {
          "issue_description": "Application",
          "issue_type": "Business License",
          "street_address": "1722 Solano Ave",
          "ticket_status": "Open"
         },
         "type": "Feature"
        },
        {
         "geometry": {
          "coordinates": [
           -122.28010434,
           37.85089177
          ],
          "type": "Point"
         },
         "properties": {
          "issue_description": "Residential Cart Size Decrease",
          "issue_type": "Refuse and Recycling",
          "street_address": "1415 Sixty-Seventh St",
          "ticket_status": "Closed"
         },
         "type": "Feature"
        },
        {
         "geometry": {
          "coordinates": [
           -122.27987908,
           37.89325348
          ],
          "type": "Point"
         },
         "properties": {
          "issue_description": "Residential Bulky Pickup",
          "issue_type": "Refuse and Recycling",
          "street_address": "1812 Tacoma Ave",
          "ticket_status": "Closed"
         },
         "type": "Feature"
        },
        {
         "geometry": {
          "coordinates": [
           -122.27122657,
           37.87016303
          ],
          "type": "Point"
         },
         "properties": {
          "issue_description": "Miscellaneous Service Request",
          "issue_type": "General Questions/information",
          "street_address": "1947 Center St",
          "ticket_status": "Closed"
         },
         "type": "Feature"
        },
        {
         "geometry": {
          "coordinates": [
           -122.26463574,
           37.85352667
          ],
          "type": "Point"
         },
         "properties": {
          "issue_description": "Roll Off Bin",
          "issue_type": "Refuse and Recycling",
          "street_address": "2135 Prince St",
          "ticket_status": "Closed"
         },
         "type": "Feature"
        },
        {
         "geometry": {
          "coordinates": [
           -122.25235656,
           37.89117963
          ],
          "type": "Point"
         },
         "properties": {
          "issue_description": "Residential Customer Complaint",
          "issue_type": "Refuse and Recycling",
          "street_address": "2 Park Gate",
          "ticket_status": "Closed"
         },
         "type": "Feature"
        },
        {
         "geometry": {
          "coordinates": [
           -122.24892909,
           37.85536888
          ],
          "type": "Point"
         },
         "properties": {
          "issue_description": "Cart Repair",
          "issue_type": "Refuse and Recycling",
          "street_address": "2829 Prince St",
          "ticket_status": "Closed"
         },
         "type": "Feature"
        },
        {
         "geometry": {
          "coordinates": [
           -122.25089959,
           37.89071925
          ],
          "type": "Point"
         },
         "properties": {
          "issue_description": "Miscellaneous Internet Request",
          "issue_type": "General Questions/information",
          "street_address": "3000 Shasta Rd",
          "ticket_status": "Closed"
         },
         "type": "Feature"
        },
        {
         "geometry": {
          "coordinates": [
           -122.29129598,
           37.85576653
          ],
          "type": "Point"
         },
         "properties": {
          "issue_description": "Illegal Dumping - City Property",
          "issue_type": "Streets, Utilities, and Transportation",
          "street_address": "927 Grayson St",
          "ticket_status": "Closed"
         },
         "type": "Feature"
        },
        {
         "geometry": {
          "coordinates": [
           -122.26545354,
           37.8567494
          ],
          "type": "Point"
         },
         "properties": {
          "issue_description": "Residential Missed Pickup Integration",
          "issue_type": "Refuse and Recycling",
          "street_address": "2901 Lorina St",
          "ticket_status": "Closed"
         },
         "type": "Feature"
        },
        {
         "geometry": {
          "coordinates": [
           -122.28969038,
           37.88159811
          ],
          "type": "Point"
         },
         "properties": {
          "issue_description": "Tree Pruning",
          "issue_type": "Parks, Trees and Vegetation",
          "street_address": "1301 Gilman St",
          "ticket_status": "Closed"
         },
         "type": "Feature"
        },
        {
         "geometry": {
          "coordinates": [
           -122.25710724,
           37.86200987
          ],
          "type": "Point"
         },
         "properties": {
          "issue_description": "Housing Inspection Request by Tenant",
          "issue_type": "Environmental Services and Programs",
          "street_address": "2637 Regent St",
          "ticket_status": "Closed"
         },
         "type": "Feature"
        },
        {
         "geometry": {
          "coordinates": [
           -122.27652135,
           37.88703987
          ],
          "type": "Point"
         },
         "properties": {
          "issue_description": "Residential Service Start",
          "issue_type": "Refuse and Recycling",
          "street_address": "1120 The Alameda",
          "ticket_status": "Closed"
         },
         "type": "Feature"
        },
        {
         "geometry": {
          "coordinates": [
           -122.3058789,
           37.87984737
          ],
          "type": "Point"
         },
         "properties": {
          "issue_description": "Miscellaneous Internet Request",
          "issue_type": "General Questions/information",
          "street_address": "1201 Second St",
          "ticket_status": "Closed"
         },
         "type": "Feature"
        },
        {
         "geometry": {
          "coordinates": [
           -122.2862734,
           37.85735514
          ],
          "type": "Point"
         },
         "properties": {
          "issue_description": "Residential Missed Pickup Integration",
          "issue_type": "Refuse and Recycling",
          "street_address": "2719 Mathews St",
          "ticket_status": "Closed"
         },
         "type": "Feature"
        },
        {
         "geometry": {
          "coordinates": [
           -122.25884636,
           37.86476854
          ],
          "type": "Point"
         },
         "properties": {
          "issue_description": "Tree Pruning",
          "issue_type": "Parks, Trees and Vegetation",
          "street_address": "2510 Telegraph Ave",
          "ticket_status": "Closed"
         },
         "type": "Feature"
        },
        {
         "geometry": {
          "coordinates": [
           -122.26328684,
           37.87851931
          ],
          "type": "Point"
         },
         "properties": {
          "issue_description": "Tree Pruning",
          "issue_type": "Parks, Trees and Vegetation",
          "street_address": "2389 Hilgard Ave",
          "ticket_status": "Closed"
         },
         "type": "Feature"
        },
        {
         "geometry": {
          "coordinates": [
           -122.26328909,
           37.89533125
          ],
          "type": "Point"
         },
         "properties": {
          "issue_description": "Residential Missed Pickup Integration",
          "issue_type": "Refuse and Recycling",
          "street_address": "910 Hilldale Ave",
          "ticket_status": "Closed"
         },
         "type": "Feature"
        },
        {
         "geometry": {
          "coordinates": [
           -122.27598399,
           37.88545278
          ],
          "type": "Point"
         },
         "properties": {
          "issue_description": "Residential Service Stop",
          "issue_type": "Refuse and Recycling",
          "street_address": "1849 Sonoma Ave",
          "ticket_status": "Closed"
         },
         "type": "Feature"
        },
        {
         "geometry": {
          "coordinates": [
           -122.27532821,
           37.86683173
          ],
          "type": "Point"
         },
         "properties": {
          "issue_description": "Residential Bulky Pickup",
          "issue_type": "Refuse and Recycling",
          "street_address": "1737 Bancroft Way",
          "ticket_status": "Closed"
         },
         "type": "Feature"
        },
        {
         "geometry": {
          "coordinates": [
           -122.2476678,
           37.86222286
          ],
          "type": "Point"
         },
         "properties": {
          "issue_description": "Residential Customer Complaint",
          "issue_type": "Refuse and Recycling",
          "street_address": "2928 Derby St",
          "ticket_status": "Closed"
         },
         "type": "Feature"
        },
        {
         "geometry": {
          "coordinates": [
           -122.26764555,
           37.85313423
          ],
          "type": "Point"
         },
         "properties": {
          "issue_description": "Cart Repair",
          "issue_type": "Refuse and Recycling",
          "street_address": "2007 Prince St",
          "ticket_status": "Closed"
         },
         "type": "Feature"
        },
        {
         "geometry": {
          "coordinates": [
           -122.27591338,
           37.88281403
          ],
          "type": "Point"
         },
         "properties": {
          "issue_description": "Graffiti Abatement - Internet Request",
          "issue_type": "Graffiti and Vandalism",
          "street_address": "1808 Berryman St",
          "ticket_status": "Closed"
         },
         "type": "Feature"
        },
        {
         "geometry": {
          "coordinates": [
           -122.2583077,
           37.86539058
          ],
          "type": "Point"
         },
         "properties": {
          "issue_description": "Application",
          "issue_type": "Business License",
          "street_address": "2493 Telegraph Ave",
          "ticket_status": "Closed"
         },
         "type": "Feature"
        },
        {
         "geometry": {
          "coordinates": [
           -122.29458644,
           37.86086676
          ],
          "type": "Point"
         },
         "properties": {
          "issue_description": "Miscellaneous Service Request",
          "issue_type": "General Questions/information",
          "street_address": "2430 Seventh St",
          "ticket_status": "Closed"
         },
         "type": "Feature"
        },
        {
         "geometry": {
          "coordinates": [
           -122.27124837,
           37.88288373
          ],
          "type": "Point"
         },
         "properties": {
          "issue_description": "Residential Site Inspection",
          "issue_type": "Refuse and Recycling",
          "street_address": "1352 Henry St",
          "ticket_status": "Closed"
         },
         "type": "Feature"
        },
        {
         "geometry": {
          "coordinates": [
           -122.28947228,
           37.86759191
          ],
          "type": "Point"
         },
         "properties": {
          "issue_description": "Residential Lost or Stolen Cart",
          "issue_type": "Refuse and Recycling",
          "street_address": "2122 Curtis St",
          "ticket_status": "Closed"
         },
         "type": "Feature"
        },
        {
         "geometry": {
          "coordinates": [
           -122.27374341,
           37.90128243
          ],
          "type": "Point"
         },
         "properties": {
          "issue_description": "Tree Pruning",
          "issue_type": "Parks, Trees and Vegetation",
          "street_address": "490 Vermont Ave",
          "ticket_status": "Closed"
         },
         "type": "Feature"
        },
        {
         "geometry": {
          "coordinates": [
           -122.26981359,
           37.85490553
          ],
          "type": "Point"
         },
         "properties": {
          "issue_description": "Sidewalk Problem",
          "issue_type": "Streets, Utilities, and Transportation",
          "street_address": "2939 Otis St",
          "ticket_status": "Closed"
         },
         "type": "Feature"
        },
        {
         "geometry": {
          "coordinates": [
           -122.26307781,
           37.89202252
          ],
          "type": "Point"
         },
         "properties": {
          "issue_description": "Tree Removal",
          "issue_type": "Parks, Trees and Vegetation",
          "street_address": "1057 Cragmont Ave",
          "ticket_status": "Closed"
         },
         "type": "Feature"
        },
        {
         "geometry": {
          "coordinates": [
           -122.25905914,
           37.86671939
          ],
          "type": "Point"
         },
         "properties": {
          "issue_description": "Commercial Service Day Change",
          "issue_type": "Refuse and Recycling",
          "street_address": "2488 Channing Way",
          "ticket_status": "Closed"
         },
         "type": "Feature"
        },
        {
         "geometry": {
          "coordinates": [
           -122.27185357,
           37.8502697
          ],
          "type": "Point"
         },
         "properties": {
          "issue_description": "Illegal Dumping - City Property",
          "issue_type": "Streets, Utilities, and Transportation",
          "street_address": "1820 Fairview St",
          "ticket_status": "Closed"
         },
         "type": "Feature"
        },
        {
         "geometry": {
          "coordinates": [
           -122.27147562,
           37.87140167
          ],
          "type": "Point"
         },
         "properties": {
          "issue_description": "Commercial Missed Pickup",
          "issue_type": "Refuse and Recycling",
          "street_address": "1962 University Ave",
          "ticket_status": "Closed"
         },
         "type": "Feature"
        },
        {
         "geometry": {
          "coordinates": [
           -122.27681289,
           37.86624949
          ],
          "type": "Point"
         },
         "properties": {
          "issue_description": "Residential Missed Pickup Integration",
          "issue_type": "Refuse and Recycling",
          "street_address": "1700 Bancroft Way",
          "ticket_status": "Closed"
         },
         "type": "Feature"
        },
        {
         "geometry": {
          "coordinates": [
           -122.24471549,
           37.8559557
          ],
          "type": "Point"
         },
         "properties": {
          "issue_description": "Residential Missed Pickup Integration",
          "issue_type": "Refuse and Recycling",
          "street_address": "51 Oakvale Ave",
          "ticket_status": "Closed"
         },
         "type": "Feature"
        },
        {
         "geometry": {
          "coordinates": [
           -122.26353396,
           37.8641909
          ],
          "type": "Point"
         },
         "properties": {
          "issue_description": "Housing Inspection Request by Tenant",
          "issue_type": "Environmental Services and Programs",
          "street_address": "2230 Dwight Way",
          "ticket_status": "Closed"
         },
         "type": "Feature"
        },
        {
         "geometry": {
          "coordinates": [
           -122.28287907,
           37.87202746
          ],
          "type": "Point"
         },
         "properties": {
          "issue_description": "Cart Repair",
          "issue_type": "Refuse and Recycling",
          "street_address": "1433 Hearst Ave",
          "ticket_status": "Closed"
         },
         "type": "Feature"
        },
        {
         "geometry": {
          "coordinates": [
           -122.24516075,
           37.86792886
          ],
          "type": "Point"
         },
         "properties": {
          "issue_description": "Residential Bulky Pickup",
          "issue_type": "Refuse and Recycling",
          "street_address": "162 Panoramic Way",
          "ticket_status": "Closed"
         },
         "type": "Feature"
        },
        {
         "geometry": {
          "coordinates": [
           -122.24837716,
           37.85485944
          ],
          "type": "Point"
         },
         "properties": {
          "issue_description": "Steam Cleaning",
          "issue_type": "Refuse and Recycling",
          "street_address": "3068 Claremont Ave",
          "ticket_status": "Closed"
         },
         "type": "Feature"
        },
        {
         "geometry": {
          "coordinates": [
           -122.29740708,
           37.86096148
          ],
          "type": "Point"
         },
         "properties": {
          "issue_description": "Commercial Cart Size Increase",
          "issue_type": "Refuse and Recycling",
          "street_address": "2407 Fourth St",
          "ticket_status": "Closed"
         },
         "type": "Feature"
        },
        {
         "geometry": {
          "coordinates": [
           -122.25412104,
           37.86338644
          ],
          "type": "Point"
         },
         "properties": {
          "issue_description": "Residential Service Start",
          "issue_type": "Refuse and Recycling",
          "street_address": "2650 Parker St",
          "ticket_status": "Closed"
         },
         "type": "Feature"
        },
        {
         "geometry": {
          "coordinates": [
           -122.28023076,
           37.84922672
          ],
          "type": "Point"
         },
         "properties": {
          "issue_description": "Residential Bulky Pickup",
          "issue_type": "Refuse and Recycling",
          "street_address": "3218 Baker St",
          "ticket_status": "Closed"
         },
         "type": "Feature"
        },
        {
         "geometry": {
          "coordinates": [
           -122.28864691,
           37.88208893
          ],
          "type": "Point"
         },
         "properties": {
          "issue_description": "Residential Missed Pickup Integration",
          "issue_type": "Refuse and Recycling",
          "street_address": "1223 Neilson St",
          "ticket_status": "Closed"
         },
         "type": "Feature"
        },
        {
         "geometry": {
          "coordinates": [
           -122.26496137,
           37.86461361
          ],
          "type": "Point"
         },
         "properties": {
          "issue_description": "Commercial Service Day Change",
          "issue_type": "Refuse and Recycling",
          "street_address": "2201 Dwight Way",
          "ticket_status": "Closed"
         },
         "type": "Feature"
        },
        {
         "geometry": {
          "coordinates": [
           -122.26457073,
           37.86367816
          ],
          "type": "Point"
         },
         "properties": {
          "issue_description": "Residential Cart Size Decrease",
          "issue_type": "Refuse and Recycling",
          "street_address": "2211 Blake St",
          "ticket_status": "Closed"
         },
         "type": "Feature"
        },
        {
         "geometry": {
          "coordinates": [
           -122.24819562,
           37.86219263
          ],
          "type": "Point"
         },
         "properties": {
          "issue_description": "Residential Bulky Pickup",
          "issue_type": "Refuse and Recycling",
          "street_address": "2920 Derby St",
          "ticket_status": "Closed"
         },
         "type": "Feature"
        },
        {
         "geometry": {
          "coordinates": [
           -122.27147851,
           37.84987118
          ],
          "type": "Point"
         },
         "properties": {
          "issue_description": "Commercial Lost or Stolen Cart",
          "issue_type": "Refuse and Recycling",
          "street_address": "3236 Adeline St",
          "ticket_status": "Closed"
         },
         "type": "Feature"
        },
        {
         "geometry": {
          "coordinates": [
           -122.26907556,
           37.87595666
          ],
          "type": "Point"
         },
         "properties": {
          "issue_description": "Commercial Service Stop",
          "issue_type": "Refuse and Recycling",
          "street_address": "1730 Shattuck Ave",
          "ticket_status": "Closed"
         },
         "type": "Feature"
        },
        {
         "geometry": {
          "coordinates": [
           -122.27446707,
           37.85221841
          ],
          "type": "Point"
         },
         "properties": {
          "issue_description": "Commercial Reminder",
          "issue_type": "Refuse and Recycling",
          "street_address": "1645 Prince St",
          "ticket_status": "Closed"
         },
         "type": "Feature"
        },
        {
         "geometry": {
          "coordinates": [
           -122.24810841,
           37.85722435
          ],
          "type": "Point"
         },
         "properties": {
          "issue_description": "Residential Service Start",
          "issue_type": "Refuse and Recycling",
          "street_address": "2943 Pine Ave",
          "ticket_status": "Closed"
         },
         "type": "Feature"
        },
        {
         "geometry": {
          "coordinates": [
           -122.27684012,
           37.89180602
          ],
          "type": "Point"
         },
         "properties": {
          "issue_description": "Residential Lost or Stolen Cart",
          "issue_type": "Refuse and Recycling",
          "street_address": "877 The Alameda",
          "ticket_status": "Closed"
         },
         "type": "Feature"
        },
        {
         "geometry": {
          "coordinates": [
           -122.297965,
           37.87547317
          ],
          "type": "Point"
         },
         "properties": {
          "issue_description": "Residential Customer Complaint",
          "issue_type": "Refuse and Recycling",
          "street_address": "920 Jones St",
          "ticket_status": "Closed"
         },
         "type": "Feature"
        },
        {
         "geometry": {
          "coordinates": [
           -122.28408251,
           37.87695035
          ],
          "type": "Point"
         },
         "properties": {
          "issue_description": "Miscellaneous Service Request",
          "issue_type": "General Questions/information",
          "street_address": "1450 Keoncrest Dr",
          "ticket_status": "Closed"
         },
         "type": "Feature"
        },
        {
         "geometry": {
          "coordinates": [
           -122.29372709,
           37.86719584
          ],
          "type": "Point"
         },
         "properties": {
          "issue_description": "Hand Sweeping",
          "issue_type": "Streets, Utilities, and Transportation",
          "street_address": "2101 Ninth St",
          "ticket_status": "Closed"
         },
         "type": "Feature"
        },
        {
         "geometry": {
          "coordinates": [
           -122.26510316,
           37.86202983
          ],
          "type": "Point"
         },
         "properties": {
          "issue_description": "Tree Pruning",
          "issue_type": "Parks, Trees and Vegetation",
          "street_address": "2606 Fulton St",
          "ticket_status": "Closed"
         },
         "type": "Feature"
        },
        {
         "geometry": {
          "coordinates": [
           -122.26920716,
           37.88410411
          ],
          "type": "Point"
         },
         "properties": {
          "issue_description": "Parks Landscape Maintenance",
          "issue_type": "Parks, Trees and Vegetation",
          "street_address": "1301 Shattuck Ave",
          "ticket_status": "Open"
         },
         "type": "Feature"
        },
        {
         "geometry": {
          "coordinates": [
           -122.29384607,
           37.86763195
          ],
          "type": "Point"
         },
         "properties": {
          "issue_description": "Commercial Missed Pickup",
          "issue_type": "Refuse and Recycling",
          "street_address": "2035 Ninth St",
          "ticket_status": "Closed"
         },
         "type": "Feature"
        },
        {
         "geometry": {
          "coordinates": [
           -122.27450436,
           37.84861563
          ],
          "type": "Point"
         },
         "properties": {
          "issue_description": "Residential Service Start",
          "issue_type": "Refuse and Recycling",
          "street_address": "1631 Alcatraz Ave",
          "ticket_status": "Closed"
         },
         "type": "Feature"
        },
        {
         "geometry": {
          "coordinates": [
           -122.25454275,
           37.8565879
          ],
          "type": "Point"
         },
         "properties": {
          "issue_description": "Commercial Bin Size Increase",
          "issue_type": "Refuse and Recycling",
          "street_address": "2620 Ashby Ave 201",
          "ticket_status": "Closed"
         },
         "type": "Feature"
        },
        {
         "geometry": {
          "coordinates": [
           -122.29433882,
           37.87809568
          ],
          "type": "Point"
         },
         "properties": {
          "issue_description": "Residential Cart Size Decrease",
          "issue_type": "Refuse and Recycling",
          "street_address": "1420 Kains Ave",
          "ticket_status": "Closed"
         },
         "type": "Feature"
        },
        {
         "geometry": {
          "coordinates": [
           -122.25913159,
           37.86250001
          ],
          "type": "Point"
         },
         "properties": {
          "issue_description": "Illegal Dumping - City Property",
          "issue_type": "Streets, Utilities, and Transportation",
          "street_address": "2620 Telegraph Ave",
          "ticket_status": "Closed"
         },
         "type": "Feature"
        },
        {
         "geometry": {
          "coordinates": [
           -122.28126924,
           37.86704385
          ],
          "type": "Point"
         },
         "properties": {
          "issue_description": "Illegal Dumping - City Property",
          "issue_type": "Streets, Utilities, and Transportation",
          "street_address": "2211 Sacramento St",
          "ticket_status": "Closed"
         },
         "type": "Feature"
        },
        {
         "geometry": {
          "coordinates": [
           -122.27457602,
           37.90386828
          ],
          "type": "Point"
         },
         "properties": {
          "issue_description": "City Vehicle Accidents",
          "issue_type": "Equipment Maintenance",
          "street_address": "360 Rugby Ave",
          "ticket_status": "Open"
         },
         "type": "Feature"
        },
        {
         "geometry": {
          "coordinates": [
           -122.26667137,
           37.86010479
          ],
          "type": "Point"
         },
         "properties": {
          "issue_description": "Graffiti Abatement - Internet Request",
          "issue_type": "Graffiti and Vandalism",
          "street_address": "2701 Shattuck Ave",
          "ticket_status": "Closed"
         },
         "type": "Feature"
        },
        {
         "geometry": {
          "coordinates": [
           -122.26889446,
           37.89028642
          ],
          "type": "Point"
         },
         "properties": {
          "issue_description": "Residential Service Stop",
          "issue_type": "Refuse and Recycling",
          "street_address": "953 Shattuck Ave",
          "ticket_status": "Closed"
         },
         "type": "Feature"
        },
        {
         "geometry": {
          "coordinates": [
           -122.24192305,
           37.85663992
          ],
          "type": "Point"
         },
         "properties": {
          "issue_description": "Residential Service Start",
          "issue_type": "Refuse and Recycling",
          "street_address": "45 Oak Ridge Rd",
          "ticket_status": "Closed"
         },
         "type": "Feature"
        },
        {
         "geometry": {
          "coordinates": [
           -122.2566802,
           37.8651368
          ],
          "type": "Point"
         },
         "properties": {
          "issue_description": "Commercial Customer Complaint",
          "issue_type": "Refuse and Recycling",
          "street_address": "2500 Hillegass Ave",
          "ticket_status": "Closed"
         },
         "type": "Feature"
        },
        {
         "geometry": {
          "coordinates": [
           -122.26243234,
           37.85408009
          ],
          "type": "Point"
         },
         "properties": {
          "issue_description": "Residential Bulky Pickup",
          "issue_type": "Refuse and Recycling",
          "street_address": "3046 Deakin St",
          "ticket_status": "Closed"
         },
         "type": "Feature"
        },
        {
         "geometry": {
          "coordinates": [
           -122.26563298,
           37.86171314
          ],
          "type": "Point"
         },
         "properties": {
          "issue_description": "Broken Branch or Tree",
          "issue_type": "Parks, Trees and Vegetation",
          "street_address": "2125 Carleton St",
          "ticket_status": "Closed"
         },
         "type": "Feature"
        },
        {
         "geometry": {
          "coordinates": [
           -122.26986824,
           37.90354761
          ],
          "type": "Point"
         },
         "properties": {
          "issue_description": "Residential Missed Pickup Integration",
          "issue_type": "Refuse and Recycling",
          "street_address": "454 Cragmont Ave",
          "ticket_status": "Closed"
         },
         "type": "Feature"
        },
        {
         "geometry": {
          "coordinates": [
           -122.2662868,
           37.8912568
          ],
          "type": "Point"
         },
         "properties": {
          "issue_description": "Sewer Problem",
          "issue_type": "Streets, Utilities, and Transportation",
          "street_address": "993 Santa Barbara Rd",
          "ticket_status": "Closed"
         },
         "type": "Feature"
        },
        {
         "geometry": {
          "coordinates": [
           -122.26710418,
           37.86513831
          ],
          "type": "Point"
         },
         "properties": {
          "issue_description": "Curb Repainting",
          "issue_type": "Streets, Utilities, and Transportation",
          "street_address": "2441 Shattuck Ave",
          "ticket_status": "Closed"
         },
         "type": "Feature"
        },
        {
         "geometry": {
          "coordinates": [
           -122.2526523,
           37.85971233
          ],
          "type": "Point"
         },
         "properties": {
          "issue_description": "Sewer Problem",
          "issue_type": "Streets, Utilities, and Transportation",
          "street_address": "2712 Stuart St",
          "ticket_status": "Closed"
         },
         "type": "Feature"
        },
        {
         "geometry": {
          "coordinates": [
           -122.26792924,
           37.88092644
          ],
          "type": "Point"
         },
         "properties": {
          "issue_description": "Residential Site Inspection",
          "issue_type": "Refuse and Recycling",
          "street_address": "1433 Walnut St",
          "ticket_status": "Closed"
         },
         "type": "Feature"
        },
        {
         "geometry": {
          "coordinates": [
           -122.2520891,
           37.851593
          ],
          "type": "Point"
         },
         "properties": {
          "issue_description": "Residential Cart Size Decrease",
          "issue_type": "Refuse and Recycling",
          "street_address": "2709 Alcatraz Ave",
          "ticket_status": "Closed"
         },
         "type": "Feature"
        },
        {
         "geometry": {
          "coordinates": [
           -122.25608677,
           37.88890665
          ],
          "type": "Point"
         },
         "properties": {
          "issue_description": "Cart Repair",
          "issue_type": "Refuse and Recycling",
          "street_address": "1176 Keeler Ave",
          "ticket_status": "Closed"
         },
         "type": "Feature"
        },
        {
         "geometry": {
          "coordinates": [
           -122.26588255,
           37.8597747
          ],
          "type": "Point"
         },
         "properties": {
          "issue_description": "Residential Customer Complaint",
          "issue_type": "Refuse and Recycling",
          "street_address": "2135 Ward St",
          "ticket_status": "Closed"
         },
         "type": "Feature"
        },
        {
         "geometry": {
          "coordinates": [
           -122.25119977,
           37.86710303
          ],
          "type": "Point"
         },
         "properties": {
          "issue_description": "Commercial Cart Size Increase",
          "issue_type": "Refuse and Recycling",
          "street_address": "2421 Piedmont Ave",
          "ticket_status": "Closed"
         },
         "type": "Feature"
        },
        {
         "geometry": {
          "coordinates": [
           -122.29301121,
           37.88121197
          ],
          "type": "Point"
         },
         "properties": {
          "issue_description": "Residential Bulky Pickup",
          "issue_type": "Refuse and Recycling",
          "street_address": "1201 Gilman St",
          "ticket_status": "Closed"
         },
         "type": "Feature"
        },
        {
         "geometry": {
          "coordinates": [
           -122.25674165,
           37.86389162
          ],
          "type": "Point"
         },
         "properties": {
          "issue_description": "Commercial Service Day Change",
          "issue_type": "Refuse and Recycling",
          "street_address": "2538 Hillegass Ave",
          "ticket_status": "Closed"
         },
         "type": "Feature"
        },
        {
         "geometry": {
          "coordinates": [
           -122.2661939,
           37.86723712
          ],
          "type": "Point"
         },
         "properties": {
          "issue_description": "Commercial Special Pickup",
          "issue_type": "Refuse and Recycling",
          "street_address": "2310 Fulton St",
          "ticket_status": "Closed"
         },
         "type": "Feature"
        },
        {
         "geometry": {
          "coordinates": [
           -122.26742331,
           37.86833388
          ],
          "type": "Point"
         },
         "properties": {
          "issue_description": "Commercial Missed Pickup",
          "issue_type": "Refuse and Recycling",
          "street_address": "2261 Shattuck Ave",
          "ticket_status": "Closed"
         },
         "type": "Feature"
        },
        {
         "geometry": {
          "coordinates": [
           -122.27060266,
           37.85648567
          ],
          "type": "Point"
         },
         "properties": {
          "issue_description": "Commercial Bin Size Decrease",
          "issue_type": "Refuse and Recycling",
          "street_address": "1913 Russell St",
          "ticket_status": "Closed"
         },
         "type": "Feature"
        },
        {
         "geometry": {
          "coordinates": [
           -122.2480221,
           37.86220203
          ],
          "type": "Point"
         },
         "properties": {
          "issue_description": "Residential Lost or Stolen Cart",
          "issue_type": "Refuse and Recycling",
          "street_address": "2922 Derby St",
          "ticket_status": "Closed"
         },
         "type": "Feature"
        },
        {
         "geometry": {
          "coordinates": [
           -122.26864368,
           37.86883792
          ],
          "type": "Point"
         },
         "properties": {
          "issue_description": "Sewer Problem",
          "issue_type": "Streets, Utilities, and Transportation",
          "street_address": "2222 Shattuck Ave",
          "ticket_status": "Closed"
         },
         "type": "Feature"
        },
        {
         "geometry": {
          "coordinates": [
           -122.28193444,
           37.8519897
          ],
          "type": "Point"
         },
         "properties": {
          "issue_description": "Residential Bulky Pickup",
          "issue_type": "Refuse and Recycling",
          "street_address": "1332 Carrison St",
          "ticket_status": "Closed"
         },
         "type": "Feature"
        },
        {
         "geometry": {
          "coordinates": [
           -122.28090417,
           37.890795
          ],
          "type": "Point"
         },
         "properties": {
          "issue_description": "Residential Service Stop",
          "issue_type": "Refuse and Recycling",
          "street_address": "919 Ensenada Ave",
          "ticket_status": "Closed"
         },
         "type": "Feature"
        },
        {
         "geometry": {
          "coordinates": [
           -122.27122657,
           37.87016303
          ],
          "type": "Point"
         },
         "properties": {
          "issue_description": "Housing Inspection Request by Tenant",
          "issue_type": "Environmental Services and Programs",
          "street_address": "1947 Center St",
          "ticket_status": "Closed"
         },
         "type": "Feature"
        },
        {
         "geometry": {
          "coordinates": [
           -122.28262099,
           37.85185483
          ],
          "type": "Point"
         },
         "properties": {
          "issue_description": "Residential Bulky Pickup",
          "issue_type": "Refuse and Recycling",
          "street_address": "1316 Carrison St",
          "ticket_status": "Closed"
         },
         "type": "Feature"
        },
        {
         "geometry": {
          "coordinates": [
           -122.27400937,
           37.87530251
          ],
          "type": "Point"
         },
         "properties": {
          "issue_description": "Miscellaneous Service Request",
          "issue_type": "General Questions/information",
          "street_address": "1833 Francisco St",
          "ticket_status": "Closed"
         },
         "type": "Feature"
        },
        {
         "geometry": {
          "coordinates": [
           -122.25660833,
           37.85921847
          ],
          "type": "Point"
         },
         "properties": {
          "issue_description": "Miscellaneous Service Request",
          "issue_type": "General Questions/information",
          "street_address": "2815 Regent St Com",
          "ticket_status": "Closed"
         },
         "type": "Feature"
        },
        {
         "geometry": {
          "coordinates": [
           -122.27625164,
           37.88952624
          ],
          "type": "Point"
         },
         "properties": {
          "issue_description": "Residential Bulky Pickup",
          "issue_type": "Refuse and Recycling",
          "street_address": "961 The Alameda",
          "ticket_status": "Closed"
         },
         "type": "Feature"
        },
        {
         "geometry": {
          "coordinates": [
           -122.24912355,
           37.85613772
          ],
          "type": "Point"
         },
         "properties": {
          "issue_description": "Residential Cart Size Decrease",
          "issue_type": "Refuse and Recycling",
          "street_address": "2833 Webster St",
          "ticket_status": "Closed"
         },
         "type": "Feature"
        },
        {
         "geometry": {
          "coordinates": [
           -122.27857065,
           37.84989514
          ],
          "type": "Point"
         },
         "properties": {
          "issue_description": "Recycling - City of Berkeley",
          "issue_type": "Refuse and Recycling",
          "street_address": "3144 Sacramento St",
          "ticket_status": "Closed"
         },
         "type": "Feature"
        },
        {
         "geometry": {
          "coordinates": [
           -122.27546422,
           37.88036254
          ],
          "type": "Point"
         },
         "properties": {
          "issue_description": "Sewer Problem",
          "issue_type": "Streets, Utilities, and Transportation",
          "street_address": "1420 Josephine St",
          "ticket_status": "Closed"
         },
         "type": "Feature"
        },
        {
         "geometry": {
          "coordinates": [
           -122.27490501,
           37.88339599
          ],
          "type": "Point"
         },
         "properties": {
          "issue_description": "Residential Missed Pickup Integration",
          "issue_type": "Refuse and Recycling",
          "street_address": "1837 Berryman St",
          "ticket_status": "Closed"
         },
         "type": "Feature"
        },
        {
         "geometry": {
          "coordinates": [
           -122.2509222,
           37.86685787
          ],
          "type": "Point"
         },
         "properties": {
          "issue_description": "Residential Cart Size Increase",
          "issue_type": "Refuse and Recycling",
          "street_address": "2424 Warring St",
          "ticket_status": "Closed"
         },
         "type": "Feature"
        },
        {
         "geometry": {
          "coordinates": [
           -122.24488541,
           37.85930349
          ],
          "type": "Point"
         },
         "properties": {
          "issue_description": "Commercial Lost or Stolen Cart",
          "issue_type": "Refuse and Recycling",
          "street_address": "2837 Claremont Blvd",
          "ticket_status": "Closed"
         },
         "type": "Feature"
        },
        {
         "geometry": {
          "coordinates": [
           -122.26878965,
           37.85752838
          ],
          "type": "Point"
         },
         "properties": {
          "issue_description": "Illegal Dumping - Internet Request",
          "issue_type": "Streets, Utilities, and Transportation",
          "street_address": "2051 Oregon St",
          "ticket_status": "Closed"
         },
         "type": "Feature"
        },
        {
         "geometry": {
          "coordinates": [
           -122.27086549,
           37.87596293
          ],
          "type": "Point"
         },
         "properties": {
          "issue_description": "Sewer Problem",
          "issue_type": "Streets, Utilities, and Transportation",
          "street_address": "1709 Milvia St",
          "ticket_status": "Closed"
         },
         "type": "Feature"
        },
        {
         "geometry": {
          "coordinates": [
           -122.29583009,
           37.88274949
          ],
          "type": "Point"
         },
         "properties": {
          "issue_description": "Miscellaneous Service Request",
          "issue_type": "General Questions/information",
          "street_address": "1192 Kains Ave",
          "ticket_status": "Closed"
         },
         "type": "Feature"
        },
        {
         "geometry": {
          "coordinates": [
           -122.26168772,
           37.86815399
          ],
          "type": "Point"
         },
         "properties": {
          "issue_description": "Commercial Special Pickup",
          "issue_type": "Refuse and Recycling",
          "street_address": "2398 Bancroft Way",
          "ticket_status": "Closed"
         },
         "type": "Feature"
        },
        {
         "geometry": {
          "coordinates": [
           -122.26923028,
           37.89317596
          ],
          "type": "Point"
         },
         "properties": {
          "issue_description": "Residential Missed Pickup Integration",
          "issue_type": "Refuse and Recycling",
          "street_address": "876 Santa Barbara Rd",
          "ticket_status": "Closed"
         },
         "type": "Feature"
        },
        {
         "geometry": {
          "coordinates": [
           -122.28495783,
           37.8535961
          ],
          "type": "Point"
         },
         "properties": {
          "issue_description": "Residential Bulky Pickup",
          "issue_type": "Refuse and Recycling",
          "street_address": "1245 Burnett St",
          "ticket_status": "Closed"
         },
         "type": "Feature"
        },
        {
         "geometry": {
          "coordinates": [
           -122.2640092,
           37.86192255
          ],
          "type": "Point"
         },
         "properties": {
          "issue_description": "Commercial Customer Complaint",
          "issue_type": "Refuse and Recycling",
          "street_address": "2211 Carleton St",
          "ticket_status": "Closed"
         },
         "type": "Feature"
        },
        {
         "geometry": {
          "coordinates": [
           -122.29478755,
           37.88230359
          ],
          "type": "Point"
         },
         "properties": {
          "issue_description": "Residential Missed Pickup",
          "issue_type": "Refuse and Recycling",
          "street_address": "1204 Stannage Ave",
          "ticket_status": "Closed"
         },
         "type": "Feature"
        },
        {
         "geometry": {
          "coordinates": [
           -122.25826473,
           37.86674254
          ],
          "type": "Point"
         },
         "properties": {
          "issue_description": "Commercial Missed Pickup",
          "issue_type": "Refuse and Recycling",
          "street_address": "2510 Channing Way",
          "ticket_status": "Closed"
         },
         "type": "Feature"
        },
        {
         "geometry": {
          "coordinates": [
           -122.26928898,
           37.86619502
          ],
          "type": "Point"
         },
         "properties": {
          "issue_description": "Commercial Missed Pickup",
          "issue_type": "Refuse and Recycling",
          "street_address": "2020 Durant Ave",
          "ticket_status": "Closed"
         },
         "type": "Feature"
        },
        {
         "geometry": {
          "coordinates": [
           -122.28926671,
           37.88268003
          ],
          "type": "Point"
         },
         "properties": {
          "issue_description": "Broken Branch or Tree",
          "issue_type": "Parks, Trees and Vegetation",
          "street_address": "1209 Curtis St",
          "ticket_status": "Closed"
         },
         "type": "Feature"
        },
        {
         "geometry": {
          "coordinates": [
           -122.27856142,
           37.8783374
          ],
          "type": "Point"
         },
         "properties": {
          "issue_description": "Residential Reminder",
          "issue_type": "Refuse and Recycling",
          "street_address": "1705 Jaynes St",
          "ticket_status": "Closed"
         },
         "type": "Feature"
        },
        {
         "geometry": {
          "coordinates": [
           -122.27544923,
           37.88026086
          ],
          "type": "Point"
         },
         "properties": {
          "issue_description": "Signage Repair and Replace",
          "issue_type": "Traffic and Transportation",
          "street_address": "1424 Josephine St",
          "ticket_status": "Closed"
         },
         "type": "Feature"
        },
        {
         "geometry": {
          "coordinates": [
           -122.26864684,
           37.86948947
          ],
          "type": "Point"
         },
         "properties": {
          "issue_description": "Tree Removal",
          "issue_type": "Parks, Trees and Vegetation",
          "street_address": "2075 Allston Way",
          "ticket_status": "Closed"
         },
         "type": "Feature"
        },
        {
         "geometry": {
          "coordinates": [
           -122.2781027,
           37.87156098
          ],
          "type": "Point"
         },
         "properties": {
          "issue_description": "Cart Repair",
          "issue_type": "Refuse and Recycling",
          "street_address": "1636 Berkeley Way",
          "ticket_status": "Closed"
         },
         "type": "Feature"
        },
        {
         "geometry": {
          "coordinates": [
           -122.26998023,
           37.86866396
          ],
          "type": "Point"
         },
         "properties": {
          "issue_description": "Illegal Dumping - Internet Request",
          "issue_type": "Streets, Utilities, and Transportation",
          "street_address": "2000 Allston Way",
          "ticket_status": "Closed"
         },
         "type": "Feature"
        },
        {
         "geometry": {
          "coordinates": [
           -122.23926145,
           37.85752676
          ],
          "type": "Point"
         },
         "properties": {
          "issue_description": "Cart Repair",
          "issue_type": "Refuse and Recycling",
          "street_address": "115 Alvarado Rd",
          "ticket_status": "Closed"
         },
         "type": "Feature"
        },
        {
         "geometry": {
          "coordinates": [
           -122.2733667,
           37.86960582
          ],
          "type": "Point"
         },
         "properties": {
          "issue_description": "Parks Building Maintenance",
          "issue_type": "Parks, Trees and Vegetation",
          "street_address": "2100 M L King Jr Way",
          "ticket_status": "Closed"
         },
         "type": "Feature"
        },
        {
         "geometry": {
          "coordinates": [
           -122.27489807,
           37.89118116
          ],
          "type": "Point"
         },
         "properties": {
          "issue_description": "Residential Cart Size Decrease",
          "issue_type": "Refuse and Recycling",
          "street_address": "916 Mendocino Ave",
          "ticket_status": "Closed"
         },
         "type": "Feature"
        },
        {
         "geometry": {
          "coordinates": [
           -122.25798595,
           37.89304034
          ],
          "type": "Point"
         },
         "properties": {
          "issue_description": "Residential Bulky Pickup",
          "issue_type": "Refuse and Recycling",
          "street_address": "1060 Grizzly Peak Blvd",
          "ticket_status": "Closed"
         },
         "type": "Feature"
        },
        {
         "geometry": {
          "coordinates": [
           -122.27469534,
           37.87100309
          ],
          "type": "Point"
         },
         "properties": {
          "issue_description": "Commercial Site Inspection",
          "issue_type": "Refuse and Recycling",
          "street_address": "1808 University Ave",
          "ticket_status": "Closed"
         },
         "type": "Feature"
        },
        {
         "geometry": {
          "coordinates": [
           -122.27887923,
           37.89167117
          ],
          "type": "Point"
         },
         "properties": {
          "issue_description": "Commercial Reminder",
          "issue_type": "Refuse and Recycling",
          "street_address": "1841 Solano Ave",
          "ticket_status": "Closed"
         },
         "type": "Feature"
        },
        {
         "geometry": {
          "coordinates": [
           -122.26201886,
           37.86310057
          ],
          "type": "Point"
         },
         "properties": {
          "issue_description": "Miscellaneous Service Request",
          "issue_type": "General Questions/information",
          "street_address": "2315 Parker St",
          "ticket_status": "Closed"
         },
         "type": "Feature"
        },
        {
         "geometry": {
          "coordinates": [
           -122.29089983,
           37.86067687
          ],
          "type": "Point"
         },
         "properties": {
          "issue_description": "Residential Missed Pickup",
          "issue_type": "Refuse and Recycling",
          "street_address": "1042 Dwight Way",
          "ticket_status": "Closed"
         },
         "type": "Feature"
        },
        {
         "geometry": {
          "coordinates": [
           -122.27756718,
           37.88995972
          ],
          "type": "Point"
         },
         "properties": {
          "issue_description": "Recycling - City of Berkeley",
          "issue_type": "Refuse and Recycling",
          "street_address": "939 Fresno Ave",
          "ticket_status": "Closed"
         },
         "type": "Feature"
        },
        {
         "geometry": {
          "coordinates": [
           -122.27219385,
           37.88568852
          ],
          "type": "Point"
         },
         "properties": {
          "issue_description": "RECO Application - EECGB Rebate",
          "issue_type": "Environmental Services and Programs",
          "street_address": "2002 Yolo Ave",
          "ticket_status": "Closed"
         },
         "type": "Feature"
        },
        {
         "geometry": {
          "coordinates": [
           -122.27088854,
           37.87984262
          ],
          "type": "Point"
         },
         "properties": {
          "issue_description": "Residential Lost or Stolen Cart",
          "issue_type": "Refuse and Recycling",
          "street_address": "2016 Vine St",
          "ticket_status": "Closed"
         },
         "type": "Feature"
        },
        {
         "geometry": {
          "coordinates": [
           -122.2657666,
           37.8981717
          ],
          "type": "Point"
         },
         "properties": {
          "issue_description": "Residential Bulky Pickup",
          "issue_type": "Refuse and Recycling",
          "street_address": "720 Hilldale Ave",
          "ticket_status": "Closed"
         },
         "type": "Feature"
        },
        {
         "geometry": {
          "coordinates": [
           -122.26951858,
           37.87809052
          ],
          "type": "Point"
         },
         "properties": {
          "issue_description": "Cart Repair",
          "issue_type": "Refuse and Recycling",
          "street_address": "1600 Shattuck Ave",
          "ticket_status": "Closed"
         },
         "type": "Feature"
        },
        {
         "geometry": {
          "coordinates": [
           -122.28323586,
           37.87152563
          ],
          "type": "Point"
         },
         "properties": {
          "issue_description": "Residential Reminder",
          "issue_type": "Refuse and Recycling",
          "street_address": "1426 Hearst Ave",
          "ticket_status": "Closed"
         },
         "type": "Feature"
        },
        {
         "geometry": {
          "coordinates": [
           -122.29227892,
           37.87642493
          ],
          "type": "Point"
         },
         "properties": {
          "issue_description": "Residential Bulky Pickup",
          "issue_type": "Refuse and Recycling",
          "street_address": "1155 Hopkins St",
          "ticket_status": "Closed"
         },
         "type": "Feature"
        },
        {
         "geometry": {
          "coordinates": [
           -122.29611334,
           37.87141678
          ],
          "type": "Point"
         },
         "properties": {
          "issue_description": "Illegal Dumping - City Property",
          "issue_type": "Streets, Utilities, and Transportation",
          "street_address": "929 Delaware St",
          "ticket_status": "Closed"
         },
         "type": "Feature"
        },
        {
         "geometry": {
          "coordinates": [
           -122.27419485,
           37.8793417
          ],
          "type": "Point"
         },
         "properties": {
          "issue_description": "Sewer Problem",
          "issue_type": "Streets, Utilities, and Transportation",
          "street_address": "1504 M L King Jr Way",
          "ticket_status": "Closed"
         },
         "type": "Feature"
        },
        {
         "geometry": {
          "coordinates": [
           -122.25673069,
           37.86490878
          ],
          "type": "Point"
         },
         "properties": {
          "issue_description": "Recycling - City of Berkeley",
          "issue_type": "Refuse and Recycling",
          "street_address": "2508 Hillegass Ave",
          "ticket_status": "Closed"
         },
         "type": "Feature"
        },
        {
         "geometry": {
          "coordinates": [
           -122.29546447,
           37.86962894
          ],
          "type": "Point"
         },
         "properties": {
          "issue_description": "Roll Off Bin",
          "issue_type": "Refuse and Recycling",
          "street_address": "928 Hearst Ave",
          "ticket_status": "Closed"
         },
         "type": "Feature"
        },
        {
         "geometry": {
          "coordinates": [
           -122.26933287,
           37.84876099
          ],
          "type": "Point"
         },
         "properties": {
          "issue_description": "Commercial Site Inspection",
          "issue_type": "Refuse and Recycling",
          "street_address": "1896 Alcatraz Ave",
          "ticket_status": "Closed"
         },
         "type": "Feature"
        },
        {
         "geometry": {
          "coordinates": [
           -122.30066425,
           37.87622026
          ],
          "type": "Point"
         },
         "properties": {
          "issue_description": "Illegal Dumping - City Property",
          "issue_type": "Streets, Utilities, and Transportation",
          "street_address": "1434 Sixth St",
          "ticket_status": "Closed"
         },
         "type": "Feature"
        },
        {
         "geometry": {
          "coordinates": [
           -122.2897115,
           37.87360462
          ],
          "type": "Point"
         },
         "properties": {
          "issue_description": "Residential Bulky Pickup",
          "issue_type": "Refuse and Recycling",
          "street_address": "1707 Curtis St",
          "ticket_status": "Closed"
         },
         "type": "Feature"
        },
        {
         "geometry": {
          "coordinates": [
           -122.27351543,
           37.86080447
          ],
          "type": "Point"
         },
         "properties": {
          "issue_description": "Residential Missed Pickup Integration",
          "issue_type": "Refuse and Recycling",
          "street_address": "2611 Grant St",
          "ticket_status": "Closed"
         },
         "type": "Feature"
        },
        {
         "geometry": {
          "coordinates": [
           -122.30113704,
           37.87248462
          ],
          "type": "Point"
         },
         "properties": {
          "issue_description": "Commercial Missed Pickup",
          "issue_type": "Refuse and Recycling",
          "street_address": "1635 Fourth St",
          "ticket_status": "Closed"
         },
         "type": "Feature"
        },
        {
         "geometry": {
          "coordinates": [
           -122.25768747,
           37.87878597
          ],
          "type": "Point"
         },
         "properties": {
          "issue_description": "Residential Missed Pickup",
          "issue_type": "Refuse and Recycling",
          "street_address": "2678 Hilgard Ave",
          "ticket_status": "Closed"
         },
         "type": "Feature"
        },
        {
         "geometry": {
          "coordinates": [
           -122.25543716,
           37.85552764
          ],
          "type": "Point"
         },
         "properties": {
          "issue_description": "Residential Missed Pickup Integration",
          "issue_type": "Refuse and Recycling",
          "street_address": "2526 Webster St",
          "ticket_status": "Closed"
         },
         "type": "Feature"
        },
        {
         "geometry": {
          "coordinates": [
           -122.27685231,
           37.87777551
          ],
          "type": "Point"
         },
         "properties": {
          "issue_description": "Cart Repair",
          "issue_type": "Refuse and Recycling",
          "street_address": "1541 Edith St",
          "ticket_status": "Closed"
         },
         "type": "Feature"
        },
        {
         "geometry": {
          "coordinates": [
           -122.28490048,
           37.85439318
          ],
          "type": "Point"
         },
         "properties": {
          "issue_description": "Residential Cart Size Decrease",
          "issue_type": "Refuse and Recycling",
          "street_address": "2830 Mabel St",
          "ticket_status": "Closed"
         },
         "type": "Feature"
        },
        {
         "geometry": {
          "coordinates": [
           -122.2535796,
           37.85514473
          ],
          "type": "Point"
         },
         "properties": {
          "issue_description": "Sewer Problem",
          "issue_type": "Streets, Utilities, and Transportation",
          "street_address": "3023 Benvenue Ave",
          "ticket_status": "Closed"
         },
         "type": "Feature"
        },
        {
         "geometry": {
          "coordinates": [
           -122.24693791,
           37.85267721
          ],
          "type": "Point"
         },
         "properties": {
          "issue_description": "Potholes",
          "issue_type": "Streets, Utilities, and Transportation",
          "street_address": "104 Hillcrest Rd",
          "ticket_status": "Closed"
         },
         "type": "Feature"
        },
        {
         "geometry": {
          "coordinates": [
           -122.28549613,
           37.8649353
          ],
          "type": "Point"
         },
         "properties": {
          "issue_description": "Residential Service Start",
          "issue_type": "Refuse and Recycling",
          "street_address": "2310 West St",
          "ticket_status": "Closed"
         },
         "type": "Feature"
        },
        {
         "geometry": {
          "coordinates": [
           -122.2694439,
           37.87166264
          ],
          "type": "Point"
         },
         "properties": {
          "issue_description": "Commercial Reminder",
          "issue_type": "Refuse and Recycling",
          "street_address": "2050 University Ave",
          "ticket_status": "Closed"
         },
         "type": "Feature"
        },
        {
         "geometry": {
          "coordinates": [
           -122.27922786,
           37.84746319
          ],
          "type": "Point"
         },
         "properties": {
          "issue_description": "Residential Service Start",
          "issue_type": "Refuse and Recycling",
          "street_address": "1408 Alcatraz Ave",
          "ticket_status": "Closed"
         },
         "type": "Feature"
        },
        {
         "geometry": {
          "coordinates": [
           -122.26572757,
           37.86470364
          ],
          "type": "Point"
         },
         "properties": {
          "issue_description": "Commercial Site Inspection",
          "issue_type": "Refuse and Recycling",
          "street_address": "2430 Fulton St",
          "ticket_status": "Closed"
         },
         "type": "Feature"
        },
        {
         "geometry": {
          "coordinates": [
           -122.28353135,
           37.87193962
          ],
          "type": "Point"
         },
         "properties": {
          "issue_description": "Miscellaneous Service Request",
          "issue_type": "General Questions/information",
          "street_address": "1421 Hearst Ave",
          "ticket_status": "Closed"
         },
         "type": "Feature"
        },
        {
         "geometry": {
          "coordinates": [
           -122.26921942,
           37.86700238
          ],
          "type": "Point"
         },
         "properties": {
          "issue_description": "Commercial Missed Pickup",
          "issue_type": "Refuse and Recycling",
          "street_address": "2025 Durant Ave",
          "ticket_status": "Closed"
         },
         "type": "Feature"
        },
        {
         "geometry": {
          "coordinates": [
           -122.27563329,
           37.84614673
          ],
          "type": "Point"
         },
         "properties": {
          "issue_description": "Residential Cart Size Increase",
          "issue_type": "Refuse and Recycling",
          "street_address": "3400 California St",
          "ticket_status": "Closed"
         },
         "type": "Feature"
        },
        {
         "geometry": {
          "coordinates": [
           -122.30152368,
           37.8661812
          ],
          "type": "Point"
         },
         "properties": {
          "issue_description": "Commercial Reminder",
          "issue_type": "Refuse and Recycling",
          "street_address": "2031 Second St",
          "ticket_status": "Closed"
         },
         "type": "Feature"
        },
        {
         "geometry": {
          "coordinates": [
           -122.2415748,
           37.85199162
          ],
          "type": "Point"
         },
         "properties": {
          "issue_description": "Residential Service Start",
          "issue_type": "Refuse and Recycling",
          "street_address": "266 Hillcrest Rd",
          "ticket_status": "Closed"
         },
         "type": "Feature"
        },
        {
         "geometry": {
          "coordinates": [
           -122.26927707,
           37.87704343
          ],
          "type": "Point"
         },
         "properties": {
          "issue_description": "Residential Cart Size Increase",
          "issue_type": "Refuse and Recycling",
          "street_address": "1670 Shattuck Ave",
          "ticket_status": "Closed"
         },
         "type": "Feature"
        },
        {
         "geometry": {
          "coordinates": [
           -122.25987891,
           37.86429273
          ],
          "type": "Point"
         },
         "properties": {
          "issue_description": "Miscellaneous Internet Request",
          "issue_type": "General Questions/information",
          "street_address": "2415 Blake St",
          "ticket_status": "Closed"
         },
         "type": "Feature"
        },
        {
         "geometry": {
          "coordinates": [
           -122.27000039,
           37.84735527
          ],
          "type": "Point"
         },
         "properties": {
          "issue_description": "Residential Reminder",
          "issue_type": "Refuse and Recycling",
          "street_address": "1821 Sixty-Second St",
          "ticket_status": "Closed"
         },
         "type": "Feature"
        },
        {
         "geometry": {
          "coordinates": [
           -122.26862561,
           37.85384339
          ],
          "type": "Point"
         },
         "properties": {
          "issue_description": "Residential Missed Pickup",
          "issue_type": "Refuse and Recycling",
          "street_address": "3030 Tremont St",
          "ticket_status": "Closed"
         },
         "type": "Feature"
        },
        {
         "geometry": {
          "coordinates": [
           -122.28096901,
           37.89226924
          ],
          "type": "Point"
         },
         "properties": {
          "issue_description": "Broken Branch or Tree",
          "issue_type": "Parks, Trees and Vegetation",
          "street_address": "1780 Tacoma Ave",
          "ticket_status": "Closed"
         },
         "type": "Feature"
        },
        {
         "geometry": {
          "coordinates": [
           -122.26954277,
           37.88870654
          ],
          "type": "Point"
         },
         "properties": {
          "issue_description": "Commercial Missed Pickup",
          "issue_type": "Refuse and Recycling",
          "street_address": "1022 Shattuck Ave",
          "ticket_status": "Closed"
         },
         "type": "Feature"
        },
        {
         "geometry": {
          "coordinates": [
           -122.26388807,
           37.85354171
          ],
          "type": "Point"
         },
         "properties": {
          "issue_description": "Illegal Dumping - City Property",
          "issue_type": "Streets, Utilities, and Transportation",
          "street_address": "2205 Prince St",
          "ticket_status": "Closed"
         },
         "type": "Feature"
        },
        {
         "geometry": {
          "coordinates": [
           -122.27771487,
           37.85042575
          ],
          "type": "Point"
         },
         "properties": {
          "issue_description": "Application",
          "issue_type": "Business License",
          "street_address": "1520 Woolsey St",
          "ticket_status": "Closed"
         },
         "type": "Feature"
        },
        {
         "geometry": {
          "coordinates": [
           -122.27671812,
           37.88602959
          ],
          "type": "Point"
         },
         "properties": {
          "issue_description": "Residential Bulky Pickup",
          "issue_type": "Refuse and Recycling",
          "street_address": "1143 Fresno Ave",
          "ticket_status": "Closed"
         },
         "type": "Feature"
        },
        {
         "geometry": {
          "coordinates": [
           -122.29389228,
           37.86079557
          ],
          "type": "Point"
         },
         "properties": {
          "issue_description": "Residential Missed Pickup Integration",
          "issue_type": "Refuse and Recycling",
          "street_address": "2435 Seventh St",
          "ticket_status": "Closed"
         },
         "type": "Feature"
        },
        {
         "geometry": {
          "coordinates": [
           -122.27300902,
           37.88720135
          ],
          "type": "Point"
         },
         "properties": {
          "issue_description": "Residential Service Start",
          "issue_type": "Refuse and Recycling",
          "street_address": "1962 Hopkins St",
          "ticket_status": "Closed"
         },
         "type": "Feature"
        },
        {
         "geometry": {
          "coordinates": [
           -122.2792761,
           37.88575597
          ],
          "type": "Point"
         },
         "properties": {
          "issue_description": "Residential Cart Size Increase",
          "issue_type": "Refuse and Recycling",
          "street_address": "1776 Sonoma Ave",
          "ticket_status": "Closed"
         },
         "type": "Feature"
        },
        {
         "geometry": {
          "coordinates": [
           -122.26749649,
           37.85315293
          ],
          "type": "Point"
         },
         "properties": {
          "issue_description": "Illegal Dumping - City Property",
          "issue_type": "Streets, Utilities, and Transportation",
          "street_address": "2009 Prince St",
          "ticket_status": "Closed"
         },
         "type": "Feature"
        },
        {
         "geometry": {
          "coordinates": [
           -122.27961711,
           37.8710169
          ],
          "type": "Point"
         },
         "properties": {
          "issue_description": "Commercial Service Start",
          "issue_type": "Refuse and Recycling",
          "street_address": "1601 University Ave",
          "ticket_status": "Closed"
         },
         "type": "Feature"
        },
        {
         "geometry": {
          "coordinates": [
           -122.27012659,
           37.87031333
          ],
          "type": "Point"
         },
         "properties": {
          "issue_description": "Commercial Customer Complaint",
          "issue_type": "Refuse and Recycling",
          "street_address": "2015 Center St",
          "ticket_status": "Closed"
         },
         "type": "Feature"
        },
        {
         "geometry": {
          "coordinates": [
           -122.25252199,
           37.85824297
          ],
          "type": "Point"
         },
         "properties": {
          "issue_description": "Miscellaneous Service Request",
          "issue_type": "General Questions/information",
          "street_address": "2710 Russell St Fs#3",
          "ticket_status": "Closed"
         },
         "type": "Feature"
        },
        {
         "geometry": {
          "coordinates": [
           -122.29389228,
           37.86079557
          ],
          "type": "Point"
         },
         "properties": {
          "issue_description": "Illegal Dumping - City Property",
          "issue_type": "Streets, Utilities, and Transportation",
          "street_address": "2435 Seventh St",
          "ticket_status": "Closed"
         },
         "type": "Feature"
        },
        {
         "geometry": {
          "coordinates": [
           -122.29611334,
           37.87141678
          ],
          "type": "Point"
         },
         "properties": {
          "issue_description": "Commercial Bin Size Increase",
          "issue_type": "Refuse and Recycling",
          "street_address": "929 Delaware St",
          "ticket_status": "Closed"
         },
         "type": "Feature"
        },
        {
         "geometry": {
          "coordinates": [
           -122.28007256,
           37.85562011
          ],
          "type": "Point"
         },
         "properties": {
          "issue_description": "Cart Repair",
          "issue_type": "Refuse and Recycling",
          "street_address": "2809 Stanton St",
          "ticket_status": "Closed"
         },
         "type": "Feature"
        },
        {
         "geometry": {
          "coordinates": [
           -122.28224006,
           37.86530038
          ],
          "type": "Point"
         },
         "properties": {
          "issue_description": "Tree Removal",
          "issue_type": "Parks, Trees and Vegetation",
          "street_address": "2311 Edwards St",
          "ticket_status": "Open"
         },
         "type": "Feature"
        },
        {
         "geometry": {
          "coordinates": [
           -122.24454241,
           37.8552145
          ],
          "type": "Point"
         },
         "properties": {
          "issue_description": "Residential Reminder",
          "issue_type": "Refuse and Recycling",
          "street_address": "41 The Plaza Dr",
          "ticket_status": "Closed"
         },
         "type": "Feature"
        },
        {
         "geometry": {
          "coordinates": [
           -122.28002525,
           37.8598984
          ],
          "type": "Point"
         },
         "properties": {
          "issue_description": "Tree Pruning",
          "issue_type": "Parks, Trees and Vegetation",
          "street_address": "2635 Sacramento St",
          "ticket_status": "Closed"
         },
         "type": "Feature"
        },
        {
         "geometry": {
          "coordinates": [
           -122.26503964,
           37.8797736
          ],
          "type": "Point"
         },
         "properties": {
          "issue_description": "Residential Site Inspection",
          "issue_type": "Refuse and Recycling",
          "street_address": "1526 Arch St",
          "ticket_status": "Closed"
         },
         "type": "Feature"
        },
        {
         "geometry": {
          "coordinates": [
           -122.25586987,
           37.86274826
          ],
          "type": "Point"
         },
         "properties": {
          "issue_description": "Miscellaneous Service Request",
          "issue_type": "General Questions/information",
          "street_address": "2617 Hillegass Ave",
          "ticket_status": "Closed"
         },
         "type": "Feature"
        },
        {
         "geometry": {
          "coordinates": [
           -122.26440663,
           37.86645398
          ],
          "type": "Point"
         },
         "properties": {
          "issue_description": "Commercial Missed Pickup",
          "issue_type": "Refuse and Recycling",
          "street_address": "2225 Channing Way",
          "ticket_status": "Closed"
         },
         "type": "Feature"
        },
        {
         "geometry": {
          "coordinates": [
           -122.26119684,
           37.86582925
          ],
          "type": "Point"
         },
         "properties": {
          "issue_description": "Miscellaneous Service Request",
          "issue_type": "General Questions/information",
          "street_address": "2418 Dana St",
          "ticket_status": "Closed"
         },
         "type": "Feature"
        },
        {
         "geometry": {
          "coordinates": [
           -122.29495916,
           37.86775575
          ],
          "type": "Point"
         },
         "properties": {
          "issue_description": "Residential Service Start",
          "issue_type": "Refuse and Recycling",
          "street_address": "2017 Eighth St",
          "ticket_status": "Closed"
         },
         "type": "Feature"
        },
        {
         "geometry": {
          "coordinates": [
           -122.26920716,
           37.88410411
          ],
          "type": "Point"
         },
         "properties": {
          "issue_description": "Sewer Problem",
          "issue_type": "Streets, Utilities, and Transportation",
          "street_address": "1301 Shattuck Ave",
          "ticket_status": "Closed"
         },
         "type": "Feature"
        },
        {
         "geometry": {
          "coordinates": [
           -122.27871352,
           37.85076532
          ],
          "type": "Point"
         },
         "properties": {
          "issue_description": "Miscellaneous Service Request",
          "issue_type": "General Questions/information",
          "street_address": "3130 Sacramento St",
          "ticket_status": "Closed"
         },
         "type": "Feature"
        },
        {
         "geometry": {
          "coordinates": [
           -122.2528229,
           37.851482
          ],
          "type": "Point"
         },
         "properties": {
          "issue_description": "Address Change - Refuse and Recycling",
          "issue_type": "Refuse and Recycling",
          "street_address": "3170 College Ave",
          "ticket_status": "Closed"
         },
         "type": "Feature"
        },
        {
         "geometry": {
          "coordinates": [
           -122.26742331,
           37.86833388
          ],
          "type": "Point"
         },
         "properties": {
          "issue_description": "Commercial Customer Complaint",
          "issue_type": "Refuse and Recycling",
          "street_address": "2261 Shattuck Ave",
          "ticket_status": "Closed"
         },
         "type": "Feature"
        },
        {
         "geometry": {
          "coordinates": [
           -122.27452282,
           37.86874591
          ],
          "type": "Point"
         },
         "properties": {
          "issue_description": "Residential Special Pickup",
          "issue_type": "Refuse and Recycling",
          "street_address": "1815 Allston Way",
          "ticket_status": "Closed"
         },
         "type": "Feature"
        },
        {
         "geometry": {
          "coordinates": [
           -122.24857258,
           37.88402134
          ],
          "type": "Point"
         },
         "properties": {
          "issue_description": "Street Lights - Repair",
          "issue_type": "Facilities, Electrical & Property Management",
          "street_address": "1444 Grizzly Peak Blvd",
          "ticket_status": "Closed"
         },
         "type": "Feature"
        },
        {
         "geometry": {
          "coordinates": [
           -122.28146184,
           37.88165917
          ],
          "type": "Point"
         },
         "properties": {
          "issue_description": "Commercial Cart Size Increase",
          "issue_type": "Refuse and Recycling",
          "street_address": "1582 Hopkins St",
          "ticket_status": "Closed"
         },
         "type": "Feature"
        },
        {
         "geometry": {
          "coordinates": [
           -122.27735241,
           37.85856795
          ],
          "type": "Point"
         },
         "properties": {
          "issue_description": "Residential Missed Pickup",
          "issue_type": "Refuse and Recycling",
          "street_address": "2711 California St",
          "ticket_status": "Closed"
         },
         "type": "Feature"
        },
        {
         "geometry": {
          "coordinates": [
           -122.27950449,
           37.86176477
          ],
          "type": "Point"
         },
         "properties": {
          "issue_description": "Residential Reminder",
          "issue_type": "Refuse and Recycling",
          "street_address": "1527 Blake St",
          "ticket_status": "Closed"
         },
         "type": "Feature"
        },
        {
         "geometry": {
          "coordinates": [
           -122.2944794,
           37.86627487
          ],
          "type": "Point"
         },
         "properties": {
          "issue_description": "Roll Off Bin",
          "issue_type": "Refuse and Recycling",
          "street_address": "2121 Eighth St A",
          "ticket_status": "Closed"
         },
         "type": "Feature"
        },
        {
         "geometry": {
          "coordinates": [
           -122.26599588,
           37.85370661
          ],
          "type": "Point"
         },
         "properties": {
          "issue_description": "Residential Cart Size Decrease",
          "issue_type": "Refuse and Recycling",
          "street_address": "3045 Shattuck Ave Com",
          "ticket_status": "Closed"
         },
         "type": "Feature"
        },
        {
         "geometry": {
          "coordinates": [
           -122.29174081,
           37.88113981
          ],
          "type": "Point"
         },
         "properties": {
          "issue_description": "Residential Missed Pickup Integration",
          "issue_type": "Refuse and Recycling",
          "street_address": "1300 Evelyn Ave",
          "ticket_status": "Closed"
         },
         "type": "Feature"
        },
        {
         "geometry": {
          "coordinates": [
           -122.26563573,
           37.85751327
          ],
          "type": "Point"
         },
         "properties": {
          "issue_description": "Cart Repair",
          "issue_type": "Refuse and Recycling",
          "street_address": "2132 Oregon St",
          "ticket_status": "Closed"
         },
         "type": "Feature"
        },
        {
         "geometry": {
          "coordinates": [
           -122.24539507,
           37.86959669
          ],
          "type": "Point"
         },
         "properties": {
          "issue_description": "Commercial Cart Size Decrease",
          "issue_type": "Refuse and Recycling",
          "street_address": "363 Panoramic Way",
          "ticket_status": "Closed"
         },
         "type": "Feature"
        },
        {
         "geometry": {
          "coordinates": [
           -122.26707639,
           37.87765058
          ],
          "type": "Point"
         },
         "properties": {
          "issue_description": "Residential Missed Pickup Integration",
          "issue_type": "Refuse and Recycling",
          "street_address": "1652 Oxford St",
          "ticket_status": "Closed"
         },
         "type": "Feature"
        },
        {
         "geometry": {
          "coordinates": [
           -122.2564773,
           37.87877047
          ],
          "type": "Point"
         },
         "properties": {
          "issue_description": "Potholes",
          "issue_type": "Streets, Utilities, and Transportation",
          "street_address": "1680 La Vereda Rd",
          "ticket_status": "Closed"
         },
         "type": "Feature"
        },
        {
         "geometry": {
          "coordinates": [
           -122.27485173,
           37.84856829
          ],
          "type": "Point"
         },
         "properties": {
          "issue_description": "Residential Missed Pickup Integration",
          "issue_type": "Refuse and Recycling",
          "street_address": "1619 Alcatraz Ave",
          "ticket_status": "Closed"
         },
         "type": "Feature"
        },
        {
         "geometry": {
          "coordinates": [
           -122.27070314,
           37.84671356
          ],
          "type": "Point"
         },
         "properties": {
          "issue_description": "Illegal Dumping - City Property",
          "issue_type": "Streets, Utilities, and Transportation",
          "street_address": "3359 M L King Jr Way",
          "ticket_status": "Closed"
         },
         "type": "Feature"
        },
        {
         "geometry": {
          "coordinates": [
           -122.30268092,
           37.86638316
          ],
          "type": "Point"
         },
         "properties": {
          "issue_description": "Call Transfer - Public Works",
          "issue_type": "General Questions/information",
          "street_address": "1 Bolivar Dr",
          "ticket_status": "Closed"
         },
         "type": "Feature"
        },
        {
         "geometry": {
          "coordinates": [
           -122.29097953,
           37.87012453
          ],
          "type": "Point"
         },
         "properties": {
          "issue_description": "Illegal Dumping - Internet Request",
          "issue_type": "Streets, Utilities, and Transportation",
          "street_address": "1144 Hearst Ave",
          "ticket_status": "Closed"
         },
         "type": "Feature"
        },
        {
         "geometry": {
          "coordinates": [
           -122.27656862,
           37.86546807
          ],
          "type": "Point"
         },
         "properties": {
          "issue_description": "Residential Customer Complaint",
          "issue_type": "Refuse and Recycling",
          "street_address": "2325 Mcgee Ave",
          "ticket_status": "Closed"
         },
         "type": "Feature"
        },
        {
         "geometry": {
          "coordinates": [
           -122.28263126,
           37.85820878
          ],
          "type": "Point"
         },
         "properties": {
          "issue_description": "Residential Service Start",
          "issue_type": "Refuse and Recycling",
          "street_address": "2702 Acton St",
          "ticket_status": "Closed"
         },
         "type": "Feature"
        },
        {
         "geometry": {
          "coordinates": [
           -122.27043779,
           37.85949294
          ],
          "type": "Point"
         },
         "properties": {
          "issue_description": "Commercial Reminder",
          "issue_type": "Refuse and Recycling",
          "street_address": "2703 M L King Jr Way",
          "ticket_status": "Closed"
         },
         "type": "Feature"
        },
        {
         "geometry": {
          "coordinates": [
           -122.26642764,
           37.86984627
          ],
          "type": "Point"
         },
         "properties": {
          "issue_description": "Commercial Special Pickup",
          "issue_type": "Refuse and Recycling",
          "street_address": "2161 Allston Way",
          "ticket_status": "Open"
         },
         "type": "Feature"
        },
        {
         "geometry": {
          "coordinates": [
           -122.28142961,
           37.87655789
          ],
          "type": "Point"
         },
         "properties": {
          "issue_description": "Residential Missed Pickup Integration",
          "issue_type": "Refuse and Recycling",
          "street_address": "1522 Cedar St",
          "ticket_status": "Closed"
         },
         "type": "Feature"
        },
        {
         "geometry": {
          "coordinates": [
           -122.27314488,
           37.86472454
          ],
          "type": "Point"
         },
         "properties": {
          "issue_description": "Sidewalk Problem",
          "issue_type": "Streets, Utilities, and Transportation",
          "street_address": "2407 Mckinley Ave Com",
          "ticket_status": "Closed"
         },
         "type": "Feature"
        },
        {
         "geometry": {
          "coordinates": [
           -122.25548853,
           37.86028364
          ],
          "type": "Point"
         },
         "properties": {
          "issue_description": "Commercial Customer Complaint",
          "issue_type": "Refuse and Recycling",
          "street_address": "2741 Hillegass Ave",
          "ticket_status": "Closed"
         },
         "type": "Feature"
        },
        {
         "geometry": {
          "coordinates": [
           -122.27350849,
           37.87201013
          ],
          "type": "Point"
         },
         "properties": {
          "issue_description": "Miscellaneous Service Request",
          "issue_type": "General Questions/information",
          "street_address": "1885 University Ave",
          "ticket_status": "Closed"
         },
         "type": "Feature"
        },
        {
         "geometry": {
          "coordinates": [
           -122.28945919,
           37.87567161
          ],
          "type": "Point"
         },
         "properties": {
          "issue_description": "Residential Bulky Pickup",
          "issue_type": "Refuse and Recycling",
          "street_address": "1601 Belvedere Ave",
          "ticket_status": "Closed"
         },
         "type": "Feature"
        },
        {
         "geometry": {
          "coordinates": [
           -122.25827797,
           37.8638085
          ],
          "type": "Point"
         },
         "properties": {
          "issue_description": "Commercial Service Stop",
          "issue_type": "Refuse and Recycling",
          "street_address": "2569 Telegraph Ave",
          "ticket_status": "Closed"
         },
         "type": "Feature"
        },
        {
         "geometry": {
          "coordinates": [
           -122.30289544,
           37.86794605
          ],
          "type": "Point"
         },
         "properties": {
          "issue_description": "Commercial Missed Pickup",
          "issue_type": "Refuse and Recycling",
          "street_address": "620 Hearst Ave",
          "ticket_status": "Closed"
         },
         "type": "Feature"
        },
        {
         "geometry": {
          "coordinates": [
           -122.26878736,
           37.87262166
          ],
          "type": "Point"
         },
         "properties": {
          "issue_description": "Bin Repair",
          "issue_type": "Refuse and Recycling",
          "street_address": "1974 Shattuck Ave",
          "ticket_status": "Closed"
         },
         "type": "Feature"
        },
        {
         "geometry": {
          "coordinates": [
           -122.29691882,
           37.88113681
          ],
          "type": "Point"
         },
         "properties": {
          "issue_description": "Commercial Lost or Stolen Cart",
          "issue_type": "Refuse and Recycling",
          "street_address": "1235 Tenth St",
          "ticket_status": "Closed"
         },
         "type": "Feature"
        },
        {
         "geometry": {
          "coordinates": [
           -122.29800546,
           37.86609083
          ],
          "type": "Point"
         },
         "properties": {
          "issue_description": "Residential Cart Size Increase",
          "issue_type": "Refuse and Recycling",
          "street_address": "2109 Fifth St",
          "ticket_status": "Closed"
         },
         "type": "Feature"
        },
        {
         "geometry": {
          "coordinates": [
           -122.28034325,
           37.86853735
          ],
          "type": "Point"
         },
         "properties": {
          "issue_description": "Account Adjustment Research - Refuse and Recycling",
          "issue_type": "Refuse and Recycling",
          "street_address": "2127 Spaulding Ave",
          "ticket_status": "Closed"
         },
         "type": "Feature"
        },
        {
         "geometry": {
          "coordinates": [
           -122.27923601,
           37.85671717
          ],
          "type": "Point"
         },
         "properties": {
          "issue_description": "Cart Repair",
          "issue_type": "Refuse and Recycling",
          "street_address": "1508 Stuart St",
          "ticket_status": "Closed"
         },
         "type": "Feature"
        },
        {
         "geometry": {
          "coordinates": [
           -122.27269136,
           37.87224299
          ],
          "type": "Point"
         },
         "properties": {
          "issue_description": "Commercial Site Inspection",
          "issue_type": "Refuse and Recycling",
          "street_address": "1929 M L King Jr Way",
          "ticket_status": "Closed"
         },
         "type": "Feature"
        },
        {
         "geometry": {
          "coordinates": [
           -122.29635408,
           37.87942514
          ],
          "type": "Point"
         },
         "properties": {
          "issue_description": "Commercial Missed Pickup",
          "issue_type": "Refuse and Recycling",
          "street_address": "1050 Gilman St",
          "ticket_status": "Closed"
         },
         "type": "Feature"
        }
       ],
       "type": "FeatureCollection"
      }
     },
     "metadata": {},
     "output_type": "display_data",
     "text": []
    }
   ],
   "source": [
    "import IPython\n",
    "IPython.display.display({'application/vnd.geo+json': geojson}, raw=True)"
   ]
  }
 ],
 "metadata": {
  "LICENSE": "MIT License\n\nCopyright (c) 2016 Geoff Boeing, http://geoffboeing.com\n\nPermission is hereby granted, free of charge, to any person obtaining a copy\nof this software and associated documentation files (the \"Software\"), to deal\nin the Software without restriction, including without limitation the rights\nto use, copy, modify, merge, publish, distribute, sublicense, and/or sell\ncopies of the Software, and to permit persons to whom the Software is\nfurnished to do so, subject to the following conditions:\n\nThe above copyright notice and this permission notice shall be included in all\ncopies or substantial portions of the Software.\n\nTHE SOFTWARE IS PROVIDED \"AS IS\", WITHOUT WARRANTY OF ANY KIND, EXPRESS OR\nIMPLIED, INCLUDING BUT NOT LIMITED TO THE WARRANTIES OF MERCHANTABILITY,\nFITNESS FOR A PARTICULAR PURPOSE AND NONINFRINGEMENT. IN NO EVENT SHALL THE\nAUTHORS OR COPYRIGHT HOLDERS BE LIABLE FOR ANY CLAIM, DAMAGES OR OTHER\nLIABILITY, WHETHER IN AN ACTION OF CONTRACT, TORT OR OTHERWISE, ARISING FROM,\nOUT OF OR IN CONNECTION WITH THE SOFTWARE OR THE USE OR OTHER DEALINGS IN THE\nSOFTWARE.",
  "kernel_info": {
   "name": "python3"
  },
  "kernelspec": {
   "name": "python3",
   "language": "python",
   "display_name": "Python 3"
  },
  "language_info": {
   "name": "python",
   "version": "3.5.2",
   "pygments_lexer": "ipython3",
   "mimetype": "text/x-python",
   "file_extension": ".py",
   "codemirror_mode": {
    "name": "ipython",
    "version": 3
   },
   "nbconvert_exporter": "python"
  }
 },
 "nbformat": 4
}