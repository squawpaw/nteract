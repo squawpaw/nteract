{
 "nbformat_minor": 0,
 "cells": [
  {
   "cell_type": "code",
   "execution_count": 2,
   "metadata": {
    "collapsed": false
   },
   "outputs": [],
   "source": [
    "import IPython\n",
    "import json\n",
    "\n",
    "def geojson(data):\n",
    "  bundle = {}\n",
    "  bundle['application/vnd.geo+json'] = data\n",
    "  IPython.display.display(bundle, raw=True)"
   ]
  },
  {
   "cell_type": "code",
   "execution_count": 1,
   "metadata": {
    "collapsed": false
   },
   "outputs": [],
   "source": [
    "data = {\"type\":\"FeatureCollection\",\"features\":[{\"type\":\"Feature\",\"properties\":{\"place\":\"The coffee bar\",\"login\":\"espresso\",\"lat\":\"38.91427\",\"lon\":\"-77.02827\"},\"geometry\":{\"type\":\"Point\",\"coordinates\":[-77.02827,38.91427]}},{\"type\":\"Feature\",\"properties\":{\"place\":\"Bistro Bohem\",\"login\":\"2027355895\",\"lat\":\"38.91538\",\"lon\":\"-77.02013\"},\"geometry\":{\"type\":\"Point\",\"coordinates\":[-77.02013,38.91538]}},{\"type\":\"Feature\",\"properties\":{\"place\":\"Black Cat\",\"login\":\"luckycat\",\"lat\":\"38.91458\",\"lon\":\"-77.03155\"},\"geometry\":{\"type\":\"Point\",\"coordinates\":[-77.03155,38.91458]}},{\"type\":\"Feature\",\"properties\":{\"place\":\"Snap\",\"login\":\"nutella1\",\"lat\":\"38.92239\",\"lon\":\"-77.04227\"},\"geometry\":{\"type\":\"Point\",\"coordinates\":[-77.04227,38.92239]}},{\"type\":\"Feature\",\"properties\":{\"place\":\"Columbia Heights Coffee\",\"login\":\"FAIRTRADE1\",\"lat\":\"38.93222\",\"lon\":\"-77.02854\"},\"geometry\":{\"type\":\"Point\",\"coordinates\":[-77.02854,38.93222]}},{\"type\":\"Feature\",\"properties\":{\"place\":\"Azi's Cafe\",\"login\":\"sunny\",\"lat\":\"38.90842\",\"lon\":\"-77.02419\"},\"geometry\":{\"type\":\"Point\",\"coordinates\":[-77.02419,38.90842]}},{\"type\":\"Feature\",\"properties\":{\"place\":\"Blind Dog Cafe\",\"login\":\"baxtercantsee\",\"lat\":\"38.91931\",\"lon\":\"-77.02518\"},\"geometry\":{\"type\":\"Point\",\"coordinates\":[-77.02518,38.91931]}},{\"type\":\"Feature\",\"properties\":{\"place\":\"Le Caprice\",\"login\":\"baguette\",\"lat\":\"38.93260\",\"lon\":\"-77.03304\"},\"geometry\":{\"type\":\"Point\",\"coordinates\":[-77.03304,38.9326]}},{\"type\":\"Feature\",\"properties\":{\"place\":\"Filter\",\"login\":\"\",\"lat\":\"38.91368\",\"lon\":\"-77.04509\"},\"geometry\":{\"type\":\"Point\",\"coordinates\":[-77.04509,38.91368]}},{\"type\":\"Feature\",\"properties\":{\"place\":\"Peregrine\",\"login\":\"espresso\",\"lat\":\"38.88516\",\"lon\":\"-76.99656\"},\"geometry\":{\"type\":\"Point\",\"coordinates\":[-76.99656,38.88516]}},{\"type\":\"Feature\",\"properties\":{\"place\":\"Tryst\",\"login\":\"coupetnt\",\"lat\":\"38.921894\",\"lon\":\"-77.042438\"},\"geometry\":{\"type\":\"Point\",\"coordinates\":[-77.042438,38.921894]}},{\"type\":\"Feature\",\"properties\":{\"place\":\"The Coupe\",\"login\":\"voteforus\",\"lat\":\"38.93206\",\"lon\":\"-77.02821\"},\"geometry\":{\"type\":\"Point\",\"coordinates\":[-77.02821,38.93206]}},{\"type\":\"Feature\",\"properties\":{\"place\":\"Big Bear Cafe\",\"login\":\"\",\"lat\":\"38.91275\",\"lon\":\"-77.01239\"},\"geometry\":{\"type\":\"Point\",\"coordinates\":[-77.01239,38.91275]}}]}"
   ]
  },
  {
   "cell_type": "code",
   "execution_count": 3,
   "metadata": {
    "collapsed": false
   },
   "source": [
    "geojson(data)"
   ],
   "outputs": [
    {
     "metadata": {},
     "data": {
      "application/vnd.geo+json": {
       "type": "FeatureCollection",
       "features": [
        {
         "type": "Feature",
         "geometry": {
          "type": "Point",
          "coordinates": [
           -77.02827,
           38.91427
          ]
         },
         "properties": {
          "place": "The coffee bar",
          "lat": "38.91427",
          "lon": "-77.02827",
          "login": "espresso"
         }
        },
        {
         "type": "Feature",
         "geometry": {
          "type": "Point",
          "coordinates": [
           -77.02013,
           38.91538
          ]
         },
         "properties": {
          "place": "Bistro Bohem",
          "lat": "38.91538",
          "lon": "-77.02013",
          "login": "2027355895"
         }
        },
        {
         "type": "Feature",
         "geometry": {
          "type": "Point",
          "coordinates": [
           -77.03155,
           38.91458
          ]
         },
         "properties": {
          "place": "Black Cat",
          "lat": "38.91458",
          "lon": "-77.03155",
          "login": "luckycat"
         }
        },
        {
         "type": "Feature",
         "geometry": {
          "type": "Point",
          "coordinates": [
           -77.04227,
           38.92239
          ]
         },
         "properties": {
          "place": "Snap",
          "lat": "38.92239",
          "lon": "-77.04227",
          "login": "nutella1"
         }
        },
        {
         "type": "Feature",
         "geometry": {
          "type": "Point",
          "coordinates": [
           -77.02854,
           38.93222
          ]
         },
         "properties": {
          "place": "Columbia Heights Coffee",
          "lat": "38.93222",
          "lon": "-77.02854",
          "login": "FAIRTRADE1"
         }
        },
        {
         "type": "Feature",
         "geometry": {
          "type": "Point",
          "coordinates": [
           -77.02419,
           38.90842
          ]
         },
         "properties": {
          "place": "Azi's Cafe",
          "lat": "38.90842",
          "lon": "-77.02419",
          "login": "sunny"
         }
        },
        {
         "type": "Feature",
         "geometry": {
          "type": "Point",
          "coordinates": [
           -77.02518,
           38.91931
          ]
         },
         "properties": {
          "place": "Blind Dog Cafe",
          "lat": "38.91931",
          "lon": "-77.02518",
          "login": "baxtercantsee"
         }
        },
        {
         "type": "Feature",
         "geometry": {
          "type": "Point",
          "coordinates": [
           -77.03304,
           38.9326
          ]
         },
         "properties": {
          "place": "Le Caprice",
          "lat": "38.93260",
          "lon": "-77.03304",
          "login": "baguette"
         }
        },
        {
         "type": "Feature",
         "geometry": {
          "type": "Point",
          "coordinates": [
           -77.04509,
           38.91368
          ]
         },
         "properties": {
          "place": "Filter",
          "lat": "38.91368",
          "lon": "-77.04509",
          "login": ""
         }
        },
        {
         "type": "Feature",
         "geometry": {
          "type": "Point",
          "coordinates": [
           -76.99656,
           38.88516
          ]
         },
         "properties": {
          "place": "Peregrine",
          "lat": "38.88516",
          "lon": "-76.99656",
          "login": "espresso"
         }
        },
        {
         "type": "Feature",
         "geometry": {
          "type": "Point",
          "coordinates": [
           -77.042438,
           38.921894
          ]
         },
         "properties": {
          "place": "Tryst",
          "lat": "38.921894",
          "lon": "-77.042438",
          "login": "coupetnt"
         }
        },
        {
         "type": "Feature",
         "geometry": {
          "type": "Point",
          "coordinates": [
           -77.02821,
           38.93206
          ]
         },
         "properties": {
          "place": "The Coupe",
          "lat": "38.93206",
          "lon": "-77.02821",
          "login": "voteforus"
         }
        },
        {
         "type": "Feature",
         "geometry": {
          "type": "Point",
          "coordinates": [
           -77.01239,
           38.91275
          ]
         },
         "properties": {
          "place": "Big Bear Cafe",
          "lat": "38.91275",
          "lon": "-77.01239",
          "login": ""
         }
        }
       ]
      }
     },
     "output_type": "display_data"
    }
   ]
  },
  {
   "cell_type": "code",
   "execution_count": null,
   "metadata": {
    "collapsed": false
   },
   "source": [],
   "outputs": []
  }
 ],
 "metadata": {
  "kernel_info": {
   "name": "python3"
  },
  "kernelspec": {
   "name": "python3",
   "language": "python",
   "display_name": "Python 3"
  },
  "language_info": {
   "pygments_lexer": "ipython3",
   "file_extension": ".py",
   "version": "3.5.2",
   "mimetype": "text/x-python",
   "name": "python",
   "codemirror_mode": {
    "version": 3,
    "name": "ipython"
   },
   "nbconvert_exporter": "python"
  }
 },
 "nbformat": 4
}